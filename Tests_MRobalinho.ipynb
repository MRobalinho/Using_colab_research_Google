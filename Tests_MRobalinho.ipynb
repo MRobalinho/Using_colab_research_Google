{
  "nbformat": 4,
  "nbformat_minor": 0,
  "metadata": {
    "colab": {
      "name": "Tests_MRobalinho.ipynb",
      "version": "0.3.2",
      "provenance": [],
      "include_colab_link": true
    },
    "kernelspec": {
      "name": "python3",
      "display_name": "Python 3"
    }
  },
  "cells": [
    {
      "cell_type": "markdown",
      "metadata": {
        "id": "view-in-github",
        "colab_type": "text"
      },
      "source": [
        "<a href=\"https://colab.research.google.com/github/MRobalinho/Using_colab_research_Google/blob/master/Tests_MRobalinho.ipynb\" target=\"_parent\"><img src=\"https://colab.research.google.com/assets/colab-badge.svg\" alt=\"Open In Colab\"/></a>"
      ]
    },
    {
      "metadata": {
        "id": "R6uE911gIX7J",
        "colab_type": "text"
      },
      "cell_type": "markdown",
      "source": [
        "# How to Read and Write files from your Google Drive\n",
        "\n",
        "###Documentation used\n",
        "\n",
        "#####How use colabratec ( GPU free machine from Google)\n",
        "https://colab.research.google.com/notebooks/welcome.ipynb#recent=true\n",
        "#####How to read tables from Google drive\n",
        "https://colab.research.google.com/notebooks/io.ipynb#scrollTo=F1-nafvN-NwW\n",
        "<br/>https://www.twilio.com/blog/2017/02/an-easy-way-to-read-and-write-to-a-google-spreadsheet-in-python.html\n",
        "\n",
        "\n",
        "\n",
        "Manuel Robalinho - 24-11-2018"
      ]
    },
    {
      "metadata": {
        "id": "crdTqBT1Vd68",
        "colab_type": "code",
        "colab": {
          "base_uri": "https://localhost:8080/",
          "height": 122
        },
        "outputId": "d71b4d78-68aa-4295-d38e-ef22ad9eb58d"
      },
      "cell_type": "code",
      "source": [
        "from google.colab import drive\n",
        "\n",
        "# Obtain autorization to acess you google drive\n",
        "drive.mount('/content/gdrive')"
      ],
      "execution_count": 4,
      "outputs": [
        {
          "output_type": "stream",
          "text": [
            "Go to this URL in a browser: https://accounts.google.com/o/oauth2/auth?client_id=947318989803-6bn6qk8qdgf4n4g3pfee6491hc0brc4i.apps.googleusercontent.com&redirect_uri=urn%3Aietf%3Awg%3Aoauth%3A2.0%3Aoob&scope=email%20https%3A%2F%2Fwww.googleapis.com%2Fauth%2Fdocs.test%20https%3A%2F%2Fwww.googleapis.com%2Fauth%2Fdrive%20https%3A%2F%2Fwww.googleapis.com%2Fauth%2Fdrive.photos.readonly%20https%3A%2F%2Fwww.googleapis.com%2Fauth%2Fpeopleapi.readonly&response_type=code\n",
            "\n",
            "Enter your authorization code:\n",
            "··········\n",
            "Mounted at /content/gdrive\n"
          ],
          "name": "stdout"
        }
      ]
    },
    {
      "metadata": {
        "id": "6T0QqJCFg2Av",
        "colab_type": "text"
      },
      "cell_type": "markdown",
      "source": [
        ""
      ]
    },
    {
      "metadata": {
        "id": "YnSVDZzbVgCO",
        "colab_type": "code",
        "colab": {
          "base_uri": "https://localhost:8080/",
          "height": 34
        },
        "outputId": "c6375eea-0d7f-4a7a-bf26-8383ac3e1331"
      },
      "cell_type": "code",
      "source": [
        "# Creating a file in my Google Drive.\n",
        "with open('/content/gdrive/My Drive/foo.txt', 'w') as f:\n",
        "  f.write('Hello Google Drive!')\n",
        "!cat /content/gdrive/My\\ Drive/foo.txt"
      ],
      "execution_count": 5,
      "outputs": [
        {
          "output_type": "stream",
          "text": [
            "Hello Google Drive!"
          ],
          "name": "stdout"
        }
      ]
    },
    {
      "metadata": {
        "id": "4M8Dr-GQw389",
        "colab_type": "code",
        "colab": {}
      },
      "cell_type": "code",
      "source": [
        "# Create a path\n",
        "path = '/tmp/'\n",
        "path = '/content/gdrive/My Drive/Colab Notebooks/data/'"
      ],
      "execution_count": 0,
      "outputs": []
    },
    {
      "metadata": {
        "id": "dj3E5KRZhMDA",
        "colab_type": "code",
        "colab": {
          "base_uri": "https://localhost:8080/",
          "height": 51
        },
        "outputId": "4a875f06-c44d-493a-dbd9-97529e89d462"
      },
      "cell_type": "code",
      "source": [
        "# Create a local file to upload.\n",
        "\n",
        "file = path + 'Rob_to_upload.txt'\n",
        "with open(file, 'w') as f:\n",
        "  f.write('my sample file')\n",
        "  f.write('Hello World') \n",
        "  f.write('This is our new text file') \n",
        "  f.write('and this is another line.') \n",
        "  f.write('“Why? Because we can.') \n",
        " \n",
        "  f.close() \n",
        "  \n",
        "# Print what we have in the file\n",
        "print(file, ' contains:')\n",
        "\n",
        "!cat '/tmp/Rob_to_upload.txt'"
      ],
      "execution_count": 48,
      "outputs": [
        {
          "output_type": "stream",
          "text": [
            "/content/gdrive/My Drive/Colab Notebooks/data/Rob_to_upload.txt  contains:\n",
            "my sample fileHello WorldThis is our new text fileand this is another line.“Why? Because we can."
          ],
          "name": "stdout"
        }
      ]
    },
    {
      "metadata": {
        "id": "iYfryPb8u-gE",
        "colab_type": "code",
        "colab": {
          "base_uri": "https://localhost:8080/",
          "height": 34
        },
        "outputId": "84218fe1-e415-4d4c-f8d1-7cdd1b22747d"
      },
      "cell_type": "code",
      "source": [
        "file"
      ],
      "execution_count": 49,
      "outputs": [
        {
          "output_type": "execute_result",
          "data": {
            "text/plain": [
              "'/content/gdrive/My Drive/Colab Notebooks/data/Rob_to_upload.txt'"
            ]
          },
          "metadata": {
            "tags": []
          },
          "execution_count": 49
        }
      ]
    },
    {
      "metadata": {
        "id": "HKrCVN2ciYI9",
        "colab_type": "code",
        "colab": {
          "base_uri": "https://localhost:8080/",
          "height": 34
        },
        "outputId": "52d8eaf3-5daf-40ff-a3db-7a42e70f5b5e"
      },
      "cell_type": "code",
      "source": [
        "# Another form to read file\n",
        "\n",
        "xfile = open(file, 'r') \n",
        "print (xfile.read()) "
      ],
      "execution_count": 50,
      "outputs": [
        {
          "output_type": "stream",
          "text": [
            "my sample fileHello WorldThis is our new text fileand this is another line.“Why? Because we can.\n"
          ],
          "name": "stdout"
        }
      ]
    },
    {
      "metadata": {
        "id": "ZgVXweLowQHg",
        "colab_type": "code",
        "colab": {
          "base_uri": "https://localhost:8080/",
          "height": 34
        },
        "outputId": "a96e4068-5245-41b0-e0d5-5f6effbe0128"
      },
      "cell_type": "code",
      "source": [
        "xfile = open(file, 'r') \n",
        "for line in xfile: \n",
        "  print (line) "
      ],
      "execution_count": 51,
      "outputs": [
        {
          "output_type": "stream",
          "text": [
            "my sample fileHello WorldThis is our new text fileand this is another line.“Why? Because we can.\n"
          ],
          "name": "stdout"
        }
      ]
    },
    {
      "metadata": {
        "id": "NrARqk2wJ_ZX",
        "colab_type": "code",
        "colab": {
          "base_uri": "https://localhost:8080/",
          "height": 35
        },
        "outputId": "4fe77801-5aeb-4cbc-c866-9e0fbaea15c1"
      },
      "cell_type": "code",
      "source": [
        "# Create a path\n",
        "\n",
        "path = '/content/gdrive/My Drive/Colab Notebooks/data/'\n",
        "path"
      ],
      "execution_count": 52,
      "outputs": [
        {
          "output_type": "execute_result",
          "data": {
            "text/plain": [
              "'/content/gdrive/My Drive/Colab Notebooks/data/'"
            ]
          },
          "metadata": {
            "tags": []
          },
          "execution_count": 52
        }
      ]
    },
    {
      "metadata": {
        "id": "W2LrRN1CxRqw",
        "colab_type": "code",
        "colab": {
          "base_uri": "https://localhost:8080/",
          "height": 274
        },
        "outputId": "f1676d89-6bb6-4493-9d3b-4de94c26be1c"
      },
      "cell_type": "code",
      "source": [
        "import csv\n",
        "xfile = path + 'cars.csv'\n",
        "with open(xfile) as csv_file:\n",
        "    csv_reader = csv.reader(csv_file, delimiter=',')\n",
        "    line_count = 0\n",
        "    for row in csv_reader:\n",
        "        if line_count == 0:\n",
        "            print(f'Column names are: {\", \".join(row)}')\n",
        "            print(f'\\t---------------------------------')\n",
        "            line_count += 1\n",
        "        else:\n",
        "          if line_count <= 10:    # Print first 10 lines\n",
        "            print(f'\\t{row[0]} , {row[1]} , {row[2]}, {row[3]}, {row[4]}, {row[5]}.')\n",
        "            \n",
        "          line_count += 1\n",
        "    \n",
        "    print(f'Processed {line_count} lines.')"
      ],
      "execution_count": 53,
      "outputs": [
        {
          "output_type": "stream",
          "text": [
            "Column names are: City mpg, Classification, Driveline, Engine Type, Fuel Type, Height, Highway mpg, Horsepower, Hybrid, ID, Length, Make, Model Year, Number of Forward Gears, Torque, Transmission, Width, Year\n",
            "\t---------------------------------\n",
            "\t18 , Automatic transmission , All-wheel drive, Audi 3.2L 6 cylinder 250hp 236ft-lbs, Gasoline, 140.\n",
            "\t22 , Automatic transmission , Front-wheel drive, Audi 2.0L 4 cylinder 200 hp 207 ft-lbs Turbo, Gasoline, 140.\n",
            "\t21 , Manual transmission , Front-wheel drive, Audi 2.0L 4 cylinder 200 hp 207 ft-lbs Turbo, Gasoline, 140.\n",
            "\t21 , Automatic transmission , All-wheel drive, Audi 2.0L 4 cylinder 200 hp 207 ft-lbs Turbo, Gasoline, 140.\n",
            "\t21 , Automatic transmission , All-wheel drive, Audi 2.0L 4 cylinder 200 hp 207 ft-lbs Turbo, Gasoline, 140.\n",
            "\t16 , Manual transmission , All-wheel drive, Audi 3.2L 6 cylinder 265hp 243 ft-lbs, Gasoline, 91.\n",
            "\t17 , Automatic transmission , All-wheel drive, Audi 3.2L 6 cylinder 265hp 243 ft-lbs, Gasoline, 91.\n",
            "\t13 , Automatic transmission , All-wheel drive, Audi 4.2L 8 cylinder 350 hp 325 ft-lbs, Gasoline, 201.\n",
            "\t14 , Automatic transmission , All-wheel drive, Audi 3.6L 6 cylinder 280hp 266 ft-lbs, Gasoline, 201.\n",
            "\t22 , Manual transmission , All-wheel drive, Audi 2.0L 4 cylinder 211 hp 258 ft-lbs Turbo, Gasoline, 147.\n",
            "Processed 5077 lines.\n"
          ],
          "name": "stdout"
        }
      ]
    },
    {
      "metadata": {
        "id": "Fsoik8XnNRoC",
        "colab_type": "text"
      },
      "cell_type": "markdown",
      "source": [
        "### Reading CSV files from Google Drive using Pandas"
      ]
    },
    {
      "metadata": {
        "id": "GXy9OBh1zJEo",
        "colab_type": "code",
        "colab": {
          "base_uri": "https://localhost:8080/",
          "height": 35
        },
        "outputId": "09cb5a3b-52ef-457f-aa07-150de35f8a49"
      },
      "cell_type": "code",
      "source": [
        "path"
      ],
      "execution_count": 54,
      "outputs": [
        {
          "output_type": "execute_result",
          "data": {
            "text/plain": [
              "'/content/gdrive/My Drive/Colab Notebooks/data/'"
            ]
          },
          "metadata": {
            "tags": []
          },
          "execution_count": 54
        }
      ]
    },
    {
      "metadata": {
        "id": "k9UQeN9QOq-g",
        "colab_type": "code",
        "colab": {
          "base_uri": "https://localhost:8080/",
          "height": 35
        },
        "outputId": "f36b44b7-2625-4661-cfdb-e1767b77f586"
      },
      "cell_type": "code",
      "source": [
        "file = path + 'cars.csv'\n",
        "file"
      ],
      "execution_count": 55,
      "outputs": [
        {
          "output_type": "execute_result",
          "data": {
            "text/plain": [
              "'/content/gdrive/My Drive/Colab Notebooks/data/cars.csv'"
            ]
          },
          "metadata": {
            "tags": []
          },
          "execution_count": 55
        }
      ]
    },
    {
      "metadata": {
        "id": "pftcfC2Qyxg5",
        "colab_type": "code",
        "colab": {
          "base_uri": "https://localhost:8080/",
          "height": 771
        },
        "outputId": "21db1bec-247d-47eb-d708-5f25e367ea35"
      },
      "cell_type": "code",
      "source": [
        "import pandas\n",
        "\n",
        "df = pandas.read_csv(file)\n",
        "df.head()"
      ],
      "execution_count": 57,
      "outputs": [
        {
          "output_type": "execute_result",
          "data": {
            "text/html": [
              "<div>\n",
              "<style scoped>\n",
              "    .dataframe tbody tr th:only-of-type {\n",
              "        vertical-align: middle;\n",
              "    }\n",
              "\n",
              "    .dataframe tbody tr th {\n",
              "        vertical-align: top;\n",
              "    }\n",
              "\n",
              "    .dataframe thead th {\n",
              "        text-align: right;\n",
              "    }\n",
              "</style>\n",
              "<table border=\"1\" class=\"dataframe\">\n",
              "  <thead>\n",
              "    <tr style=\"text-align: right;\">\n",
              "      <th></th>\n",
              "      <th>City mpg</th>\n",
              "      <th>Classification</th>\n",
              "      <th>Driveline</th>\n",
              "      <th>Engine Type</th>\n",
              "      <th>Fuel Type</th>\n",
              "      <th>Height</th>\n",
              "      <th>Highway mpg</th>\n",
              "      <th>Horsepower</th>\n",
              "      <th>Hybrid</th>\n",
              "      <th>ID</th>\n",
              "      <th>Length</th>\n",
              "      <th>Make</th>\n",
              "      <th>Model Year</th>\n",
              "      <th>Number of Forward Gears</th>\n",
              "      <th>Torque</th>\n",
              "      <th>Transmission</th>\n",
              "      <th>Width</th>\n",
              "      <th>Year</th>\n",
              "    </tr>\n",
              "  </thead>\n",
              "  <tbody>\n",
              "    <tr>\n",
              "      <th>0</th>\n",
              "      <td>18</td>\n",
              "      <td>Automatic transmission</td>\n",
              "      <td>All-wheel drive</td>\n",
              "      <td>Audi 3.2L 6 cylinder 250hp 236ft-lbs</td>\n",
              "      <td>Gasoline</td>\n",
              "      <td>140</td>\n",
              "      <td>25</td>\n",
              "      <td>250</td>\n",
              "      <td>False</td>\n",
              "      <td>2009 Audi A3 3.2</td>\n",
              "      <td>143</td>\n",
              "      <td>Audi</td>\n",
              "      <td>2009 Audi A3</td>\n",
              "      <td>6</td>\n",
              "      <td>236</td>\n",
              "      <td>6 Speed Automatic Select Shift</td>\n",
              "      <td>202</td>\n",
              "      <td>2009</td>\n",
              "    </tr>\n",
              "    <tr>\n",
              "      <th>1</th>\n",
              "      <td>22</td>\n",
              "      <td>Automatic transmission</td>\n",
              "      <td>Front-wheel drive</td>\n",
              "      <td>Audi 2.0L 4 cylinder 200 hp 207 ft-lbs Turbo</td>\n",
              "      <td>Gasoline</td>\n",
              "      <td>140</td>\n",
              "      <td>28</td>\n",
              "      <td>200</td>\n",
              "      <td>False</td>\n",
              "      <td>2009 Audi A3 2.0 T AT</td>\n",
              "      <td>143</td>\n",
              "      <td>Audi</td>\n",
              "      <td>2009 Audi A3</td>\n",
              "      <td>6</td>\n",
              "      <td>207</td>\n",
              "      <td>6 Speed Automatic Select Shift</td>\n",
              "      <td>202</td>\n",
              "      <td>2009</td>\n",
              "    </tr>\n",
              "    <tr>\n",
              "      <th>2</th>\n",
              "      <td>21</td>\n",
              "      <td>Manual transmission</td>\n",
              "      <td>Front-wheel drive</td>\n",
              "      <td>Audi 2.0L 4 cylinder 200 hp 207 ft-lbs Turbo</td>\n",
              "      <td>Gasoline</td>\n",
              "      <td>140</td>\n",
              "      <td>30</td>\n",
              "      <td>200</td>\n",
              "      <td>False</td>\n",
              "      <td>2009 Audi A3 2.0 T</td>\n",
              "      <td>143</td>\n",
              "      <td>Audi</td>\n",
              "      <td>2009 Audi A3</td>\n",
              "      <td>6</td>\n",
              "      <td>207</td>\n",
              "      <td>6 Speed Manual</td>\n",
              "      <td>202</td>\n",
              "      <td>2009</td>\n",
              "    </tr>\n",
              "    <tr>\n",
              "      <th>3</th>\n",
              "      <td>21</td>\n",
              "      <td>Automatic transmission</td>\n",
              "      <td>All-wheel drive</td>\n",
              "      <td>Audi 2.0L 4 cylinder 200 hp 207 ft-lbs Turbo</td>\n",
              "      <td>Gasoline</td>\n",
              "      <td>140</td>\n",
              "      <td>28</td>\n",
              "      <td>200</td>\n",
              "      <td>False</td>\n",
              "      <td>2009 Audi A3 2.0 T Quattro</td>\n",
              "      <td>143</td>\n",
              "      <td>Audi</td>\n",
              "      <td>2009 Audi A3</td>\n",
              "      <td>6</td>\n",
              "      <td>207</td>\n",
              "      <td>6 Speed Automatic Select Shift</td>\n",
              "      <td>202</td>\n",
              "      <td>2009</td>\n",
              "    </tr>\n",
              "    <tr>\n",
              "      <th>4</th>\n",
              "      <td>21</td>\n",
              "      <td>Automatic transmission</td>\n",
              "      <td>All-wheel drive</td>\n",
              "      <td>Audi 2.0L 4 cylinder 200 hp 207 ft-lbs Turbo</td>\n",
              "      <td>Gasoline</td>\n",
              "      <td>140</td>\n",
              "      <td>28</td>\n",
              "      <td>200</td>\n",
              "      <td>False</td>\n",
              "      <td>2009 Audi A3 2.0 T Quattro</td>\n",
              "      <td>143</td>\n",
              "      <td>Audi</td>\n",
              "      <td>2009 Audi A3</td>\n",
              "      <td>6</td>\n",
              "      <td>207</td>\n",
              "      <td>6 Speed Automatic Select Shift</td>\n",
              "      <td>202</td>\n",
              "      <td>2009</td>\n",
              "    </tr>\n",
              "  </tbody>\n",
              "</table>\n",
              "</div>"
            ],
            "text/plain": [
              "   City mpg          Classification          Driveline  \\\n",
              "0        18  Automatic transmission    All-wheel drive   \n",
              "1        22  Automatic transmission  Front-wheel drive   \n",
              "2        21     Manual transmission  Front-wheel drive   \n",
              "3        21  Automatic transmission    All-wheel drive   \n",
              "4        21  Automatic transmission    All-wheel drive   \n",
              "\n",
              "                                    Engine Type Fuel Type  Height  \\\n",
              "0          Audi 3.2L 6 cylinder 250hp 236ft-lbs  Gasoline     140   \n",
              "1  Audi 2.0L 4 cylinder 200 hp 207 ft-lbs Turbo  Gasoline     140   \n",
              "2  Audi 2.0L 4 cylinder 200 hp 207 ft-lbs Turbo  Gasoline     140   \n",
              "3  Audi 2.0L 4 cylinder 200 hp 207 ft-lbs Turbo  Gasoline     140   \n",
              "4  Audi 2.0L 4 cylinder 200 hp 207 ft-lbs Turbo  Gasoline     140   \n",
              "\n",
              "   Highway mpg  Horsepower  Hybrid                          ID  Length  Make  \\\n",
              "0           25         250   False            2009 Audi A3 3.2     143  Audi   \n",
              "1           28         200   False       2009 Audi A3 2.0 T AT     143  Audi   \n",
              "2           30         200   False          2009 Audi A3 2.0 T     143  Audi   \n",
              "3           28         200   False  2009 Audi A3 2.0 T Quattro     143  Audi   \n",
              "4           28         200   False  2009 Audi A3 2.0 T Quattro     143  Audi   \n",
              "\n",
              "     Model Year  Number of Forward Gears  Torque  \\\n",
              "0  2009 Audi A3                        6     236   \n",
              "1  2009 Audi A3                        6     207   \n",
              "2  2009 Audi A3                        6     207   \n",
              "3  2009 Audi A3                        6     207   \n",
              "4  2009 Audi A3                        6     207   \n",
              "\n",
              "                     Transmission  Width  Year  \n",
              "0  6 Speed Automatic Select Shift    202  2009  \n",
              "1  6 Speed Automatic Select Shift    202  2009  \n",
              "2                  6 Speed Manual    202  2009  \n",
              "3  6 Speed Automatic Select Shift    202  2009  \n",
              "4  6 Speed Automatic Select Shift    202  2009  "
            ]
          },
          "metadata": {
            "tags": []
          },
          "execution_count": 57
        }
      ]
    },
    {
      "metadata": {
        "id": "qqIcXd94R19r",
        "colab_type": "text"
      },
      "cell_type": "markdown",
      "source": [
        "### Reading Excel Files from Google Drive Using Pandas"
      ]
    },
    {
      "metadata": {
        "id": "LNrE03n2SQRb",
        "colab_type": "code",
        "colab": {
          "base_uri": "https://localhost:8080/",
          "height": 35
        },
        "outputId": "f9534970-898c-4a3d-fed4-0aad2f0c6a76"
      },
      "cell_type": "code",
      "source": [
        "file = path + 'world_country.xls'\n",
        "file"
      ],
      "execution_count": 60,
      "outputs": [
        {
          "output_type": "execute_result",
          "data": {
            "text/plain": [
              "'/content/gdrive/My Drive/Colab Notebooks/data/world_country.xls'"
            ]
          },
          "metadata": {
            "tags": []
          },
          "execution_count": 60
        }
      ]
    },
    {
      "metadata": {
        "id": "6XNqSYOgUCH3",
        "colab_type": "code",
        "colab": {
          "base_uri": "https://localhost:8080/",
          "height": 128
        },
        "outputId": "8ad9b545-eae3-4da1-e031-54cae1f4bda8"
      },
      "cell_type": "code",
      "source": [
        "# Install new packages\n",
        "!pip install xlrd"
      ],
      "execution_count": 63,
      "outputs": [
        {
          "output_type": "stream",
          "text": [
            "Collecting xlrd\n",
            "\u001b[?25l  Downloading https://files.pythonhosted.org/packages/07/e6/e95c4eec6221bfd8528bcc4ea252a850bffcc4be88ebc367e23a1a84b0bb/xlrd-1.1.0-py2.py3-none-any.whl (108kB)\n",
            "\u001b[K    100% |████████████████████████████████| 112kB 2.7MB/s \n",
            "\u001b[?25hInstalling collected packages: xlrd\n",
            "Successfully installed xlrd-1.1.0\n"
          ],
          "name": "stdout"
        }
      ]
    },
    {
      "metadata": {
        "id": "OGmeEZ5GgMyT",
        "colab_type": "code",
        "colab": {}
      },
      "cell_type": "code",
      "source": [
        "# Import packages\n",
        "import pandas as pd\n",
        "import xlrd\n",
        "import numpy as np"
      ],
      "execution_count": 0,
      "outputs": []
    },
    {
      "metadata": {
        "id": "y3sdy2xrPDSb",
        "colab_type": "code",
        "colab": {
          "base_uri": "https://localhost:8080/",
          "height": 368
        },
        "outputId": "4b754c19-3b7e-4537-de80-da6b88b4f804"
      },
      "cell_type": "code",
      "source": [
        "df_world = pandas.read_excel(file)\n",
        "df_world.head()"
      ],
      "execution_count": 225,
      "outputs": [
        {
          "output_type": "execute_result",
          "data": {
            "text/html": [
              "<div>\n",
              "<style scoped>\n",
              "    .dataframe tbody tr th:only-of-type {\n",
              "        vertical-align: middle;\n",
              "    }\n",
              "\n",
              "    .dataframe tbody tr th {\n",
              "        vertical-align: top;\n",
              "    }\n",
              "\n",
              "    .dataframe thead th {\n",
              "        text-align: right;\n",
              "    }\n",
              "</style>\n",
              "<table border=\"1\" class=\"dataframe\">\n",
              "  <thead>\n",
              "    <tr style=\"text-align: right;\">\n",
              "      <th></th>\n",
              "      <th>País/território</th>\n",
              "      <th>População</th>\n",
              "      <th>Área em Km2</th>\n",
              "      <th>Densidade</th>\n",
              "      <th>Continente</th>\n",
              "      <th>Região</th>\n",
              "      <th>Capital</th>\n",
              "      <th>Maior cidade</th>\n",
              "      <th>PIB PPC</th>\n",
              "      <th>PIB nominal</th>\n",
              "      <th>...</th>\n",
              "      <th>Pequeno país?</th>\n",
              "      <th>Insular?</th>\n",
              "      <th>Transcontinental?</th>\n",
              "      <th>Prêmios Nobel</th>\n",
              "      <th>Medalhas olímpicas</th>\n",
              "      <th>União Europeia</th>\n",
              "      <th>Zona do euro</th>\n",
              "      <th>Patrimônios da Unesco</th>\n",
              "      <th>1000 lugares</th>\n",
              "      <th>URL Wikipedia</th>\n",
              "    </tr>\n",
              "  </thead>\n",
              "  <tbody>\n",
              "    <tr>\n",
              "      <th>0</th>\n",
              "      <td>Acores</td>\n",
              "      <td>245746.0</td>\n",
              "      <td>2333.0</td>\n",
              "      <td>105.334762</td>\n",
              "      <td>África</td>\n",
              "      <td>Norte da África</td>\n",
              "      <td>Ponta Delgada</td>\n",
              "      <td>NaN</td>\n",
              "      <td>NaN</td>\n",
              "      <td>NaN</td>\n",
              "      <td>...</td>\n",
              "      <td>NaN</td>\n",
              "      <td>s</td>\n",
              "      <td>NaN</td>\n",
              "      <td>NaN</td>\n",
              "      <td>NaN</td>\n",
              "      <td>NaN</td>\n",
              "      <td>NaN</td>\n",
              "      <td>NaN</td>\n",
              "      <td>NaN</td>\n",
              "      <td>https://pt.wikipedia.org/wiki/A%C3%A7ores</td>\n",
              "    </tr>\n",
              "    <tr>\n",
              "      <th>1</th>\n",
              "      <td>Acrotiri e Deceleia</td>\n",
              "      <td>NaN</td>\n",
              "      <td>254.0</td>\n",
              "      <td>0.000000</td>\n",
              "      <td>Europa</td>\n",
              "      <td>Europa meridional</td>\n",
              "      <td>Episcópi</td>\n",
              "      <td>Episcópi</td>\n",
              "      <td>NaN</td>\n",
              "      <td>NaN</td>\n",
              "      <td>...</td>\n",
              "      <td>Sim</td>\n",
              "      <td>NaN</td>\n",
              "      <td>NaN</td>\n",
              "      <td>NaN</td>\n",
              "      <td>NaN</td>\n",
              "      <td>NaN</td>\n",
              "      <td>NaN</td>\n",
              "      <td>NaN</td>\n",
              "      <td>NaN</td>\n",
              "      <td>https://pt.wikipedia.org/wiki/Acrot%C3%ADri_e_...</td>\n",
              "    </tr>\n",
              "    <tr>\n",
              "      <th>2</th>\n",
              "      <td>Afeganistão</td>\n",
              "      <td>27657145.0</td>\n",
              "      <td>652090.0</td>\n",
              "      <td>42.413079</td>\n",
              "      <td>Ásia</td>\n",
              "      <td>Ásia meridional</td>\n",
              "      <td>Cabul</td>\n",
              "      <td>Cabul</td>\n",
              "      <td>67681.0</td>\n",
              "      <td>21122.0</td>\n",
              "      <td>...</td>\n",
              "      <td>NaN</td>\n",
              "      <td>NaN</td>\n",
              "      <td>NaN</td>\n",
              "      <td>NaN</td>\n",
              "      <td>2.0</td>\n",
              "      <td>NaN</td>\n",
              "      <td>NaN</td>\n",
              "      <td>2.0</td>\n",
              "      <td>NaN</td>\n",
              "      <td>https://pt.wikipedia.org/wiki/Afeganist%C3%A3o</td>\n",
              "    </tr>\n",
              "    <tr>\n",
              "      <th>3</th>\n",
              "      <td>África do Sul</td>\n",
              "      <td>55908000.0</td>\n",
              "      <td>1221037.0</td>\n",
              "      <td>45.787310</td>\n",
              "      <td>África</td>\n",
              "      <td>África austral</td>\n",
              "      <td>Pretória</td>\n",
              "      <td>Joanesburgo</td>\n",
              "      <td>758123.0</td>\n",
              "      <td>349819.0</td>\n",
              "      <td>...</td>\n",
              "      <td>NaN</td>\n",
              "      <td>NaN</td>\n",
              "      <td>NaN</td>\n",
              "      <td>10.0</td>\n",
              "      <td>70.0</td>\n",
              "      <td>NaN</td>\n",
              "      <td>NaN</td>\n",
              "      <td>8.0</td>\n",
              "      <td>8.0</td>\n",
              "      <td>https://pt.wikipedia.org/wiki/%C3%81frica_do_Sul</td>\n",
              "    </tr>\n",
              "    <tr>\n",
              "      <th>4</th>\n",
              "      <td>Albânia</td>\n",
              "      <td>2886026.0</td>\n",
              "      <td>28748.0</td>\n",
              "      <td>100.390497</td>\n",
              "      <td>Europa</td>\n",
              "      <td>Europa meridional</td>\n",
              "      <td>Tirana</td>\n",
              "      <td>Tirana</td>\n",
              "      <td>36241.0</td>\n",
              "      <td>13413.0</td>\n",
              "      <td>...</td>\n",
              "      <td>NaN</td>\n",
              "      <td>NaN</td>\n",
              "      <td>NaN</td>\n",
              "      <td>2.0</td>\n",
              "      <td>NaN</td>\n",
              "      <td>NaN</td>\n",
              "      <td>NaN</td>\n",
              "      <td>2.0</td>\n",
              "      <td>NaN</td>\n",
              "      <td>https://pt.wikipedia.org/wiki/Alb%C3%A2nia</td>\n",
              "    </tr>\n",
              "  </tbody>\n",
              "</table>\n",
              "<p>5 rows × 35 columns</p>\n",
              "</div>"
            ],
            "text/plain": [
              "       País/território   População  Área em Km2   Densidade Continente  \\\n",
              "0               Acores    245746.0       2333.0  105.334762     África   \n",
              "1  Acrotiri e Deceleia         NaN        254.0    0.000000     Europa   \n",
              "2          Afeganistão  27657145.0     652090.0   42.413079       Ásia   \n",
              "3        África do Sul  55908000.0    1221037.0   45.787310     África   \n",
              "4              Albânia   2886026.0      28748.0  100.390497     Europa   \n",
              "\n",
              "              Região        Capital Maior cidade   PIB PPC  PIB nominal  \\\n",
              "0    Norte da África  Ponta Delgada          NaN       NaN          NaN   \n",
              "1  Europa meridional       Episcópi     Episcópi       NaN          NaN   \n",
              "2    Ásia meridional          Cabul        Cabul   67681.0      21122.0   \n",
              "3     África austral       Pretória  Joanesburgo  758123.0     349819.0   \n",
              "4  Europa meridional         Tirana       Tirana   36241.0      13413.0   \n",
              "\n",
              "                         ...                          Pequeno país?  Insular?  \\\n",
              "0                        ...                                    NaN         s   \n",
              "1                        ...                                    Sim       NaN   \n",
              "2                        ...                                    NaN       NaN   \n",
              "3                        ...                                    NaN       NaN   \n",
              "4                        ...                                    NaN       NaN   \n",
              "\n",
              "   Transcontinental?  Prêmios Nobel Medalhas olímpicas União Europeia  \\\n",
              "0                NaN            NaN                NaN            NaN   \n",
              "1                NaN            NaN                NaN            NaN   \n",
              "2                NaN            NaN                2.0            NaN   \n",
              "3                NaN           10.0               70.0            NaN   \n",
              "4                NaN            2.0                NaN            NaN   \n",
              "\n",
              "  Zona do euro Patrimônios da Unesco 1000 lugares  \\\n",
              "0          NaN                   NaN          NaN   \n",
              "1          NaN                   NaN          NaN   \n",
              "2          NaN                   2.0          NaN   \n",
              "3          NaN                   8.0          8.0   \n",
              "4          NaN                   2.0          NaN   \n",
              "\n",
              "                                       URL Wikipedia  \n",
              "0          https://pt.wikipedia.org/wiki/A%C3%A7ores  \n",
              "1  https://pt.wikipedia.org/wiki/Acrot%C3%ADri_e_...  \n",
              "2     https://pt.wikipedia.org/wiki/Afeganist%C3%A3o  \n",
              "3   https://pt.wikipedia.org/wiki/%C3%81frica_do_Sul  \n",
              "4         https://pt.wikipedia.org/wiki/Alb%C3%A2nia  \n",
              "\n",
              "[5 rows x 35 columns]"
            ]
          },
          "metadata": {
            "tags": []
          },
          "execution_count": 225
        }
      ]
    },
    {
      "metadata": {
        "id": "OGgDv1BrXs1O",
        "colab_type": "code",
        "colab": {}
      },
      "cell_type": "code",
      "source": [
        "import matplotlib.pyplot as plt"
      ],
      "execution_count": 0,
      "outputs": []
    },
    {
      "metadata": {
        "id": "QwZHEQaicIjI",
        "colab_type": "code",
        "colab": {
          "base_uri": "https://localhost:8080/",
          "height": 368
        },
        "outputId": "d5a66d57-17fc-4278-fc4a-88629be50ba8"
      },
      "cell_type": "code",
      "source": [
        "# Rename column in a Dataframe\n",
        "\n",
        "df_world=df_world.rename(columns = {'País/território':'Territorio'})\n",
        "df_world=df_world.rename(columns = {'População':'Populacao'})\n",
        "df_world.head()"
      ],
      "execution_count": 227,
      "outputs": [
        {
          "output_type": "execute_result",
          "data": {
            "text/html": [
              "<div>\n",
              "<style scoped>\n",
              "    .dataframe tbody tr th:only-of-type {\n",
              "        vertical-align: middle;\n",
              "    }\n",
              "\n",
              "    .dataframe tbody tr th {\n",
              "        vertical-align: top;\n",
              "    }\n",
              "\n",
              "    .dataframe thead th {\n",
              "        text-align: right;\n",
              "    }\n",
              "</style>\n",
              "<table border=\"1\" class=\"dataframe\">\n",
              "  <thead>\n",
              "    <tr style=\"text-align: right;\">\n",
              "      <th></th>\n",
              "      <th>Territorio</th>\n",
              "      <th>Populacao</th>\n",
              "      <th>Área em Km2</th>\n",
              "      <th>Densidade</th>\n",
              "      <th>Continente</th>\n",
              "      <th>Região</th>\n",
              "      <th>Capital</th>\n",
              "      <th>Maior cidade</th>\n",
              "      <th>PIB PPC</th>\n",
              "      <th>PIB nominal</th>\n",
              "      <th>...</th>\n",
              "      <th>Pequeno país?</th>\n",
              "      <th>Insular?</th>\n",
              "      <th>Transcontinental?</th>\n",
              "      <th>Prêmios Nobel</th>\n",
              "      <th>Medalhas olímpicas</th>\n",
              "      <th>União Europeia</th>\n",
              "      <th>Zona do euro</th>\n",
              "      <th>Patrimônios da Unesco</th>\n",
              "      <th>1000 lugares</th>\n",
              "      <th>URL Wikipedia</th>\n",
              "    </tr>\n",
              "  </thead>\n",
              "  <tbody>\n",
              "    <tr>\n",
              "      <th>0</th>\n",
              "      <td>Acores</td>\n",
              "      <td>245746.0</td>\n",
              "      <td>2333.0</td>\n",
              "      <td>105.334762</td>\n",
              "      <td>África</td>\n",
              "      <td>Norte da África</td>\n",
              "      <td>Ponta Delgada</td>\n",
              "      <td>NaN</td>\n",
              "      <td>NaN</td>\n",
              "      <td>NaN</td>\n",
              "      <td>...</td>\n",
              "      <td>NaN</td>\n",
              "      <td>s</td>\n",
              "      <td>NaN</td>\n",
              "      <td>NaN</td>\n",
              "      <td>NaN</td>\n",
              "      <td>NaN</td>\n",
              "      <td>NaN</td>\n",
              "      <td>NaN</td>\n",
              "      <td>NaN</td>\n",
              "      <td>https://pt.wikipedia.org/wiki/A%C3%A7ores</td>\n",
              "    </tr>\n",
              "    <tr>\n",
              "      <th>1</th>\n",
              "      <td>Acrotiri e Deceleia</td>\n",
              "      <td>NaN</td>\n",
              "      <td>254.0</td>\n",
              "      <td>0.000000</td>\n",
              "      <td>Europa</td>\n",
              "      <td>Europa meridional</td>\n",
              "      <td>Episcópi</td>\n",
              "      <td>Episcópi</td>\n",
              "      <td>NaN</td>\n",
              "      <td>NaN</td>\n",
              "      <td>...</td>\n",
              "      <td>Sim</td>\n",
              "      <td>NaN</td>\n",
              "      <td>NaN</td>\n",
              "      <td>NaN</td>\n",
              "      <td>NaN</td>\n",
              "      <td>NaN</td>\n",
              "      <td>NaN</td>\n",
              "      <td>NaN</td>\n",
              "      <td>NaN</td>\n",
              "      <td>https://pt.wikipedia.org/wiki/Acrot%C3%ADri_e_...</td>\n",
              "    </tr>\n",
              "    <tr>\n",
              "      <th>2</th>\n",
              "      <td>Afeganistão</td>\n",
              "      <td>27657145.0</td>\n",
              "      <td>652090.0</td>\n",
              "      <td>42.413079</td>\n",
              "      <td>Ásia</td>\n",
              "      <td>Ásia meridional</td>\n",
              "      <td>Cabul</td>\n",
              "      <td>Cabul</td>\n",
              "      <td>67681.0</td>\n",
              "      <td>21122.0</td>\n",
              "      <td>...</td>\n",
              "      <td>NaN</td>\n",
              "      <td>NaN</td>\n",
              "      <td>NaN</td>\n",
              "      <td>NaN</td>\n",
              "      <td>2.0</td>\n",
              "      <td>NaN</td>\n",
              "      <td>NaN</td>\n",
              "      <td>2.0</td>\n",
              "      <td>NaN</td>\n",
              "      <td>https://pt.wikipedia.org/wiki/Afeganist%C3%A3o</td>\n",
              "    </tr>\n",
              "    <tr>\n",
              "      <th>3</th>\n",
              "      <td>África do Sul</td>\n",
              "      <td>55908000.0</td>\n",
              "      <td>1221037.0</td>\n",
              "      <td>45.787310</td>\n",
              "      <td>África</td>\n",
              "      <td>África austral</td>\n",
              "      <td>Pretória</td>\n",
              "      <td>Joanesburgo</td>\n",
              "      <td>758123.0</td>\n",
              "      <td>349819.0</td>\n",
              "      <td>...</td>\n",
              "      <td>NaN</td>\n",
              "      <td>NaN</td>\n",
              "      <td>NaN</td>\n",
              "      <td>10.0</td>\n",
              "      <td>70.0</td>\n",
              "      <td>NaN</td>\n",
              "      <td>NaN</td>\n",
              "      <td>8.0</td>\n",
              "      <td>8.0</td>\n",
              "      <td>https://pt.wikipedia.org/wiki/%C3%81frica_do_Sul</td>\n",
              "    </tr>\n",
              "    <tr>\n",
              "      <th>4</th>\n",
              "      <td>Albânia</td>\n",
              "      <td>2886026.0</td>\n",
              "      <td>28748.0</td>\n",
              "      <td>100.390497</td>\n",
              "      <td>Europa</td>\n",
              "      <td>Europa meridional</td>\n",
              "      <td>Tirana</td>\n",
              "      <td>Tirana</td>\n",
              "      <td>36241.0</td>\n",
              "      <td>13413.0</td>\n",
              "      <td>...</td>\n",
              "      <td>NaN</td>\n",
              "      <td>NaN</td>\n",
              "      <td>NaN</td>\n",
              "      <td>2.0</td>\n",
              "      <td>NaN</td>\n",
              "      <td>NaN</td>\n",
              "      <td>NaN</td>\n",
              "      <td>2.0</td>\n",
              "      <td>NaN</td>\n",
              "      <td>https://pt.wikipedia.org/wiki/Alb%C3%A2nia</td>\n",
              "    </tr>\n",
              "  </tbody>\n",
              "</table>\n",
              "<p>5 rows × 35 columns</p>\n",
              "</div>"
            ],
            "text/plain": [
              "            Territorio   Populacao  Área em Km2   Densidade Continente  \\\n",
              "0               Acores    245746.0       2333.0  105.334762     África   \n",
              "1  Acrotiri e Deceleia         NaN        254.0    0.000000     Europa   \n",
              "2          Afeganistão  27657145.0     652090.0   42.413079       Ásia   \n",
              "3        África do Sul  55908000.0    1221037.0   45.787310     África   \n",
              "4              Albânia   2886026.0      28748.0  100.390497     Europa   \n",
              "\n",
              "              Região        Capital Maior cidade   PIB PPC  PIB nominal  \\\n",
              "0    Norte da África  Ponta Delgada          NaN       NaN          NaN   \n",
              "1  Europa meridional       Episcópi     Episcópi       NaN          NaN   \n",
              "2    Ásia meridional          Cabul        Cabul   67681.0      21122.0   \n",
              "3     África austral       Pretória  Joanesburgo  758123.0     349819.0   \n",
              "4  Europa meridional         Tirana       Tirana   36241.0      13413.0   \n",
              "\n",
              "                         ...                          Pequeno país?  Insular?  \\\n",
              "0                        ...                                    NaN         s   \n",
              "1                        ...                                    Sim       NaN   \n",
              "2                        ...                                    NaN       NaN   \n",
              "3                        ...                                    NaN       NaN   \n",
              "4                        ...                                    NaN       NaN   \n",
              "\n",
              "   Transcontinental?  Prêmios Nobel Medalhas olímpicas União Europeia  \\\n",
              "0                NaN            NaN                NaN            NaN   \n",
              "1                NaN            NaN                NaN            NaN   \n",
              "2                NaN            NaN                2.0            NaN   \n",
              "3                NaN           10.0               70.0            NaN   \n",
              "4                NaN            2.0                NaN            NaN   \n",
              "\n",
              "  Zona do euro Patrimônios da Unesco 1000 lugares  \\\n",
              "0          NaN                   NaN          NaN   \n",
              "1          NaN                   NaN          NaN   \n",
              "2          NaN                   2.0          NaN   \n",
              "3          NaN                   8.0          8.0   \n",
              "4          NaN                   2.0          NaN   \n",
              "\n",
              "                                       URL Wikipedia  \n",
              "0          https://pt.wikipedia.org/wiki/A%C3%A7ores  \n",
              "1  https://pt.wikipedia.org/wiki/Acrot%C3%ADri_e_...  \n",
              "2     https://pt.wikipedia.org/wiki/Afeganist%C3%A3o  \n",
              "3   https://pt.wikipedia.org/wiki/%C3%81frica_do_Sul  \n",
              "4         https://pt.wikipedia.org/wiki/Alb%C3%A2nia  \n",
              "\n",
              "[5 rows x 35 columns]"
            ]
          },
          "metadata": {
            "tags": []
          },
          "execution_count": 227
        }
      ]
    },
    {
      "metadata": {
        "id": "ciUrpswNam53",
        "colab_type": "code",
        "colab": {
          "base_uri": "https://localhost:8080/",
          "height": 198
        },
        "outputId": "cb15b66d-c30c-4d02-aad7-c5182c657fcb"
      },
      "cell_type": "code",
      "source": [
        "# Create new parcial dataframe with two columns\n",
        "dfw_1 = df_world[['Territorio', 'Populacao']].copy()\n",
        "dfw_1.head()"
      ],
      "execution_count": 228,
      "outputs": [
        {
          "output_type": "execute_result",
          "data": {
            "text/html": [
              "<div>\n",
              "<style scoped>\n",
              "    .dataframe tbody tr th:only-of-type {\n",
              "        vertical-align: middle;\n",
              "    }\n",
              "\n",
              "    .dataframe tbody tr th {\n",
              "        vertical-align: top;\n",
              "    }\n",
              "\n",
              "    .dataframe thead th {\n",
              "        text-align: right;\n",
              "    }\n",
              "</style>\n",
              "<table border=\"1\" class=\"dataframe\">\n",
              "  <thead>\n",
              "    <tr style=\"text-align: right;\">\n",
              "      <th></th>\n",
              "      <th>Territorio</th>\n",
              "      <th>Populacao</th>\n",
              "    </tr>\n",
              "  </thead>\n",
              "  <tbody>\n",
              "    <tr>\n",
              "      <th>0</th>\n",
              "      <td>Acores</td>\n",
              "      <td>245746.0</td>\n",
              "    </tr>\n",
              "    <tr>\n",
              "      <th>1</th>\n",
              "      <td>Acrotiri e Deceleia</td>\n",
              "      <td>NaN</td>\n",
              "    </tr>\n",
              "    <tr>\n",
              "      <th>2</th>\n",
              "      <td>Afeganistão</td>\n",
              "      <td>27657145.0</td>\n",
              "    </tr>\n",
              "    <tr>\n",
              "      <th>3</th>\n",
              "      <td>África do Sul</td>\n",
              "      <td>55908000.0</td>\n",
              "    </tr>\n",
              "    <tr>\n",
              "      <th>4</th>\n",
              "      <td>Albânia</td>\n",
              "      <td>2886026.0</td>\n",
              "    </tr>\n",
              "  </tbody>\n",
              "</table>\n",
              "</div>"
            ],
            "text/plain": [
              "            Territorio   Populacao\n",
              "0               Acores    245746.0\n",
              "1  Acrotiri e Deceleia         NaN\n",
              "2          Afeganistão  27657145.0\n",
              "3        África do Sul  55908000.0\n",
              "4              Albânia   2886026.0"
            ]
          },
          "metadata": {
            "tags": []
          },
          "execution_count": 228
        }
      ]
    },
    {
      "metadata": {
        "id": "Yec3DZfuf17_",
        "colab_type": "code",
        "colab": {}
      },
      "cell_type": "code",
      "source": [
        "# Delete row with dummy value (NaN value)\n",
        "dfw_2 = dfw_1.dropna(how='any',axis=0)"
      ],
      "execution_count": 0,
      "outputs": []
    },
    {
      "metadata": {
        "id": "K5z13XNxgeEP",
        "colab_type": "code",
        "colab": {
          "base_uri": "https://localhost:8080/",
          "height": 198
        },
        "outputId": "79942ed7-a84c-4d9c-dd40-5d8b2fe22d8c"
      },
      "cell_type": "code",
      "source": [
        "dfw_2.head()"
      ],
      "execution_count": 230,
      "outputs": [
        {
          "output_type": "execute_result",
          "data": {
            "text/html": [
              "<div>\n",
              "<style scoped>\n",
              "    .dataframe tbody tr th:only-of-type {\n",
              "        vertical-align: middle;\n",
              "    }\n",
              "\n",
              "    .dataframe tbody tr th {\n",
              "        vertical-align: top;\n",
              "    }\n",
              "\n",
              "    .dataframe thead th {\n",
              "        text-align: right;\n",
              "    }\n",
              "</style>\n",
              "<table border=\"1\" class=\"dataframe\">\n",
              "  <thead>\n",
              "    <tr style=\"text-align: right;\">\n",
              "      <th></th>\n",
              "      <th>Territorio</th>\n",
              "      <th>Populacao</th>\n",
              "    </tr>\n",
              "  </thead>\n",
              "  <tbody>\n",
              "    <tr>\n",
              "      <th>0</th>\n",
              "      <td>Acores</td>\n",
              "      <td>245746.0</td>\n",
              "    </tr>\n",
              "    <tr>\n",
              "      <th>2</th>\n",
              "      <td>Afeganistão</td>\n",
              "      <td>27657145.0</td>\n",
              "    </tr>\n",
              "    <tr>\n",
              "      <th>3</th>\n",
              "      <td>África do Sul</td>\n",
              "      <td>55908000.0</td>\n",
              "    </tr>\n",
              "    <tr>\n",
              "      <th>4</th>\n",
              "      <td>Albânia</td>\n",
              "      <td>2886026.0</td>\n",
              "    </tr>\n",
              "    <tr>\n",
              "      <th>5</th>\n",
              "      <td>Alemanha</td>\n",
              "      <td>82800000.0</td>\n",
              "    </tr>\n",
              "  </tbody>\n",
              "</table>\n",
              "</div>"
            ],
            "text/plain": [
              "      Territorio   Populacao\n",
              "0         Acores    245746.0\n",
              "2    Afeganistão  27657145.0\n",
              "3  África do Sul  55908000.0\n",
              "4        Albânia   2886026.0\n",
              "5       Alemanha  82800000.0"
            ]
          },
          "metadata": {
            "tags": []
          },
          "execution_count": 230
        }
      ]
    },
    {
      "metadata": {
        "id": "IzIpB_qiiCVk",
        "colab_type": "code",
        "colab": {
          "base_uri": "https://localhost:8080/",
          "height": 348
        },
        "outputId": "70c2d42e-c949-4fc9-fd69-fd5d1cb59555"
      },
      "cell_type": "code",
      "source": [
        "# Sort a pandas dataframe\n",
        "df_asc = dfw_2.sort_values('Populacao', ascending=False).copy()\n",
        "df_asc.head(10)"
      ],
      "execution_count": 375,
      "outputs": [
        {
          "output_type": "execute_result",
          "data": {
            "text/html": [
              "<div>\n",
              "<style scoped>\n",
              "    .dataframe tbody tr th:only-of-type {\n",
              "        vertical-align: middle;\n",
              "    }\n",
              "\n",
              "    .dataframe tbody tr th {\n",
              "        vertical-align: top;\n",
              "    }\n",
              "\n",
              "    .dataframe thead th {\n",
              "        text-align: right;\n",
              "    }\n",
              "</style>\n",
              "<table border=\"1\" class=\"dataframe\">\n",
              "  <thead>\n",
              "    <tr style=\"text-align: right;\">\n",
              "      <th></th>\n",
              "      <th>Territorio</th>\n",
              "      <th>Populacao</th>\n",
              "    </tr>\n",
              "  </thead>\n",
              "  <tbody>\n",
              "    <tr>\n",
              "      <th>259</th>\n",
              "      <td>Total</td>\n",
              "      <td>7.472356e+09</td>\n",
              "    </tr>\n",
              "    <tr>\n",
              "      <th>47</th>\n",
              "      <td>China</td>\n",
              "      <td>1.382070e+09</td>\n",
              "    </tr>\n",
              "    <tr>\n",
              "      <th>126</th>\n",
              "      <td>Índia</td>\n",
              "      <td>1.313250e+09</td>\n",
              "    </tr>\n",
              "    <tr>\n",
              "      <th>70</th>\n",
              "      <td>Estados Unidos</td>\n",
              "      <td>3.246710e+08</td>\n",
              "    </tr>\n",
              "    <tr>\n",
              "      <th>127</th>\n",
              "      <td>Indonésia</td>\n",
              "      <td>2.605810e+08</td>\n",
              "    </tr>\n",
              "    <tr>\n",
              "      <th>32</th>\n",
              "      <td>Brasil</td>\n",
              "      <td>2.072250e+08</td>\n",
              "    </tr>\n",
              "    <tr>\n",
              "      <th>190</th>\n",
              "      <td>Paquistão</td>\n",
              "      <td>1.966350e+08</td>\n",
              "    </tr>\n",
              "    <tr>\n",
              "      <th>179</th>\n",
              "      <td>Nigéria</td>\n",
              "      <td>1.869880e+08</td>\n",
              "    </tr>\n",
              "    <tr>\n",
              "      <th>21</th>\n",
              "      <td>Bangladesh</td>\n",
              "      <td>1.621050e+08</td>\n",
              "    </tr>\n",
              "    <tr>\n",
              "      <th>208</th>\n",
              "      <td>Rússia</td>\n",
              "      <td>1.468390e+08</td>\n",
              "    </tr>\n",
              "  </tbody>\n",
              "</table>\n",
              "</div>"
            ],
            "text/plain": [
              "         Territorio     Populacao\n",
              "259           Total  7.472356e+09\n",
              "47            China  1.382070e+09\n",
              "126           Índia  1.313250e+09\n",
              "70   Estados Unidos  3.246710e+08\n",
              "127       Indonésia  2.605810e+08\n",
              "32           Brasil  2.072250e+08\n",
              "190       Paquistão  1.966350e+08\n",
              "179         Nigéria  1.869880e+08\n",
              "21       Bangladesh  1.621050e+08\n",
              "208          Rússia  1.468390e+08"
            ]
          },
          "metadata": {
            "tags": []
          },
          "execution_count": 375
        }
      ]
    },
    {
      "metadata": {
        "id": "VeJ2aShdjEli",
        "colab_type": "code",
        "colab": {}
      },
      "cell_type": "code",
      "source": [
        "# Delete TOTAL row - Delete specific row\n",
        "#df_asc.drop(df_asc[df_asc.Territorio == 'Total'].index, inplace=True)\n",
        "\n",
        "df_asc = df_asc[df_asc.Territorio != 'Total']\n",
        "df_asc_N = df_asc.head(20).copy()\n",
        "df_asc_N.Populacao = df_asc_N.Populacao / 1000000 # Divide all population by a million\n",
        "df_asc_N.reset_index(drop=True, inplace=True)\n",
        "df_asc_N.head(20)\n",
        "\n",
        "# Sort a pandas dataframe ascending\n",
        "df_asc = df_asc.sort_values('Populacao', ascending=True)\n",
        "df_asc_D = df_asc.head(20).copy()"
      ],
      "execution_count": 0,
      "outputs": []
    },
    {
      "metadata": {
        "id": "LBeV612duuYB",
        "colab_type": "code",
        "colab": {}
      },
      "cell_type": "code",
      "source": [
        "def plot_bar_x(data_plot, x_title, x_label, y_label):\n",
        "    # this is for plotting purpose\n",
        "    fig, ax1 = plt.subplots(1)\n",
        "    fig.suptitle(x_title, fontsize=20)\n",
        "    \n",
        "    x = data_plot.Territorio\n",
        "   \n",
        "    ax1.set_xticklabels(x, rotation=80, \n",
        "                        rotation_mode='anchor', ha='right')\n",
        "    \n",
        "    ax1 = data_plot.plot.bar( x=x, title=x_title,figsize=[12, 6])\n",
        "\n",
        "    ax1.set_xlabel(x_label, fontsize=10)\n",
        "    ax1.set_ylabel(y_label, fontsize=10)\n",
        "\n",
        "    plt.show()"
      ],
      "execution_count": 0,
      "outputs": []
    },
    {
      "metadata": {
        "id": "2zudcshoww2v",
        "colab_type": "code",
        "colab": {}
      },
      "cell_type": "code",
      "source": [
        "def plot_bar_h(data_plot, x_title, x_label, y_label):\n",
        "    # this is for plotting purpose\n",
        "    fig, ax2 = plt.subplots(1)\n",
        "    fig.suptitle(x_title, fontsize=20)\n",
        "    \n",
        "    x = data_plot.Territorio\n",
        "   \n",
        "    ax2.set_xticklabels(x, rotation=80, \n",
        "                        rotation_mode='anchor', ha='right')\n",
        "    \n",
        "    ax2 = data_plot.plot.barh( x=x, title=x_title,figsize=[12, 6])\n",
        "\n",
        "    ax2.set_xlabel(x_label, fontsize=10)\n",
        "    ax2.set_ylabel(y_label, fontsize=10)\n",
        "\n",
        " #   plt.show()"
      ],
      "execution_count": 0,
      "outputs": []
    },
    {
      "metadata": {
        "id": "V-dS_EgE5-7a",
        "colab_type": "code",
        "colab": {}
      },
      "cell_type": "code",
      "source": [
        "def plot_bar(data_plot, x_title, x_label, y_label):\n",
        "  fig, ax = plt.subplots(1)\n",
        "  \n",
        "  ax.set_xticklabels(data_plot.index, rotation=90)\n",
        "\n",
        "  fig.suptitle(x_title, fontsize=20)\n",
        "  x=data_plot.index\n",
        "  y=data_plot[data_plot.columns[0]]\n",
        "  \n",
        "  plt.bar(x, y)\n",
        "  ax.set_xlabel(x_label)\n",
        "  ax.set_ylabel(y_label)\n",
        "  plt.show()\n"
      ],
      "execution_count": 0,
      "outputs": []
    },
    {
      "metadata": {
        "id": "TcZLBvS-aek4",
        "colab_type": "code",
        "colab": {
          "base_uri": "https://localhost:8080/",
          "height": 973
        },
        "outputId": "ff1a3283-a101-4305-c6c1-378439f2ac4b"
      },
      "cell_type": "code",
      "source": [
        "# Plot the data\n",
        "# https://www.datacamp.com/community/tutorials/matplotlib-tutorial-python\n",
        "# https://python-graph-gallery.com/barplot/\n",
        "\n",
        "\n",
        "plot_bar_x( df_asc_N, 'Most populous countries (in million)',  'Country', 'Population')"
      ],
      "execution_count": 379,
      "outputs": [
        {
          "output_type": "display_data",
          "data": {
            "image/png": "[encoded data removed]",
            "text/plain": [
              "<matplotlib.figure.Figure at 0x7fc6e7260080>"
            ]
          },
          "metadata": {
            "tags": []
          }
        },
        {
          "output_type": "display_data",
          "data": {
            "image/png": "[encoded data removed]",
            "text/plain": [
              "<matplotlib.figure.Figure at 0x7fc6e7120080>"
            ]
          },
          "metadata": {
            "tags": []
          }
        }
      ]
    },
    {
      "metadata": {
        "id": "MPQBtckSk7WC",
        "colab_type": "code",
        "colab": {
          "base_uri": "https://localhost:8080/",
          "height": 648
        },
        "outputId": "040ea8e9-4f69-4d1a-94b8-3055d1cda2c3"
      },
      "cell_type": "code",
      "source": [
        "# Less Populous countries\n",
        "df_asc_D"
      ],
      "execution_count": 377,
      "outputs": [
        {
          "output_type": "execute_result",
          "data": {
            "text/html": [
              "<div>\n",
              "<style scoped>\n",
              "    .dataframe tbody tr th:only-of-type {\n",
              "        vertical-align: middle;\n",
              "    }\n",
              "\n",
              "    .dataframe tbody tr th {\n",
              "        vertical-align: top;\n",
              "    }\n",
              "\n",
              "    .dataframe thead th {\n",
              "        text-align: right;\n",
              "    }\n",
              "</style>\n",
              "<table border=\"1\" class=\"dataframe\">\n",
              "  <thead>\n",
              "    <tr style=\"text-align: right;\">\n",
              "      <th></th>\n",
              "      <th>Territorio</th>\n",
              "      <th>Populacao</th>\n",
              "    </tr>\n",
              "  </thead>\n",
              "  <tbody>\n",
              "    <tr>\n",
              "      <th>120</th>\n",
              "      <td>Ilhas Pitcairn</td>\n",
              "      <td>57.0</td>\n",
              "    </tr>\n",
              "    <tr>\n",
              "      <th>113</th>\n",
              "      <td>Ilhas Cocos</td>\n",
              "      <td>550.0</td>\n",
              "    </tr>\n",
              "    <tr>\n",
              "      <th>253</th>\n",
              "      <td>Vaticano</td>\n",
              "      <td>842.0</td>\n",
              "    </tr>\n",
              "    <tr>\n",
              "      <th>124</th>\n",
              "      <td>Ilhas Virgens Americanas</td>\n",
              "      <td>1060.0</td>\n",
              "    </tr>\n",
              "    <tr>\n",
              "      <th>241</th>\n",
              "      <td>Tokelau</td>\n",
              "      <td>1411.0</td>\n",
              "    </tr>\n",
              "    <tr>\n",
              "      <th>180</th>\n",
              "      <td>Niue</td>\n",
              "      <td>1470.0</td>\n",
              "    </tr>\n",
              "    <tr>\n",
              "      <th>107</th>\n",
              "      <td>Ilha do Natal</td>\n",
              "      <td>2072.0</td>\n",
              "    </tr>\n",
              "    <tr>\n",
              "      <th>109</th>\n",
              "      <td>Ilha Norfolk</td>\n",
              "      <td>2302.0</td>\n",
              "    </tr>\n",
              "    <tr>\n",
              "      <th>116</th>\n",
              "      <td>Ilhas Falkland</td>\n",
              "      <td>2563.0</td>\n",
              "    </tr>\n",
              "    <tr>\n",
              "      <th>171</th>\n",
              "      <td>Monserrate</td>\n",
              "      <td>4922.0</td>\n",
              "    </tr>\n",
              "    <tr>\n",
              "      <th>216</th>\n",
              "      <td>São Pedro e Miquelon</td>\n",
              "      <td>6286.0</td>\n",
              "    </tr>\n",
              "    <tr>\n",
              "      <th>175</th>\n",
              "      <td>Nauru</td>\n",
              "      <td>10084.0</td>\n",
              "    </tr>\n",
              "    <tr>\n",
              "      <th>247</th>\n",
              "      <td>Tuvalu</td>\n",
              "      <td>10640.0</td>\n",
              "    </tr>\n",
              "    <tr>\n",
              "      <th>256</th>\n",
              "      <td>Wallis e Futuna</td>\n",
              "      <td>11750.0</td>\n",
              "    </tr>\n",
              "    <tr>\n",
              "      <th>8</th>\n",
              "      <td>Anguila</td>\n",
              "      <td>13452.0</td>\n",
              "    </tr>\n",
              "    <tr>\n",
              "      <th>186</th>\n",
              "      <td>Palau</td>\n",
              "      <td>17950.0</td>\n",
              "    </tr>\n",
              "    <tr>\n",
              "      <th>114</th>\n",
              "      <td>Ilhas Cook</td>\n",
              "      <td>18100.0</td>\n",
              "    </tr>\n",
              "    <tr>\n",
              "      <th>213</th>\n",
              "      <td>Santa Lúcia</td>\n",
              "      <td>18600.0</td>\n",
              "    </tr>\n",
              "    <tr>\n",
              "      <th>125</th>\n",
              "      <td>Ilhas Virgens Britânicas</td>\n",
              "      <td>28514.0</td>\n",
              "    </tr>\n",
              "    <tr>\n",
              "      <th>123</th>\n",
              "      <td>Ilhas Turcas e Caicos</td>\n",
              "      <td>31458.0</td>\n",
              "    </tr>\n",
              "  </tbody>\n",
              "</table>\n",
              "</div>"
            ],
            "text/plain": [
              "                   Territorio  Populacao\n",
              "120            Ilhas Pitcairn       57.0\n",
              "113               Ilhas Cocos      550.0\n",
              "253                  Vaticano      842.0\n",
              "124  Ilhas Virgens Americanas     1060.0\n",
              "241                   Tokelau     1411.0\n",
              "180                      Niue     1470.0\n",
              "107             Ilha do Natal     2072.0\n",
              "109              Ilha Norfolk     2302.0\n",
              "116            Ilhas Falkland     2563.0\n",
              "171                Monserrate     4922.0\n",
              "216      São Pedro e Miquelon     6286.0\n",
              "175                     Nauru    10084.0\n",
              "247                    Tuvalu    10640.0\n",
              "256           Wallis e Futuna    11750.0\n",
              "8                     Anguila    13452.0\n",
              "186                     Palau    17950.0\n",
              "114                Ilhas Cook    18100.0\n",
              "213               Santa Lúcia    18600.0\n",
              "125  Ilhas Virgens Britânicas    28514.0\n",
              "123     Ilhas Turcas e Caicos    31458.0"
            ]
          },
          "metadata": {
            "tags": []
          },
          "execution_count": 377
        }
      ]
    },
    {
      "metadata": {
        "id": "8g-Lg9Xmlsiu",
        "colab_type": "code",
        "colab": {
          "base_uri": "https://localhost:8080/",
          "height": 978
        },
        "outputId": "daeff895-0c56-469e-e68e-498ec8b40b21"
      },
      "cell_type": "code",
      "source": [
        "plot_bar_x( df_asc_D, 'Less populous countries (number persons)',  'Country', 'Population')"
      ],
      "execution_count": 380,
      "outputs": [
        {
          "output_type": "display_data",
          "data": {
            "image/png": "[encoded data removed]",
            "text/plain": [
              "<matplotlib.figure.Figure at 0x7fc6e9668b38>"
            ]
          },
          "metadata": {
            "tags": []
          }
        },
        {
          "output_type": "display_data",
          "data": {
            "image/png": "[encoded data removed]",
            "text/plain": [
              "<matplotlib.figure.Figure at 0x7fc6e78f5668>"
            ]
          },
          "metadata": {
            "tags": []
          }
        }
      ]
    },
    {
      "metadata": {
        "id": "bLAWL1SL75lI",
        "colab_type": "code",
        "colab": {
          "base_uri": "https://localhost:8080/",
          "height": 678
        },
        "outputId": "776a8d7a-fb4e-4539-eb2c-78a57cb14e23"
      },
      "cell_type": "code",
      "source": [
        "pop_by_country = df_asc_N.groupby('Territorio').sum()\n",
        "pop_by_country2  = pop_by_country.sort_values(['Populacao'],ascending=False)\n",
        "pop_by_country2 "
      ],
      "execution_count": 238,
      "outputs": [
        {
          "output_type": "execute_result",
          "data": {
            "text/html": [
              "<div>\n",
              "<style scoped>\n",
              "    .dataframe tbody tr th:only-of-type {\n",
              "        vertical-align: middle;\n",
              "    }\n",
              "\n",
              "    .dataframe tbody tr th {\n",
              "        vertical-align: top;\n",
              "    }\n",
              "\n",
              "    .dataframe thead th {\n",
              "        text-align: right;\n",
              "    }\n",
              "</style>\n",
              "<table border=\"1\" class=\"dataframe\">\n",
              "  <thead>\n",
              "    <tr style=\"text-align: right;\">\n",
              "      <th></th>\n",
              "      <th>Populacao</th>\n",
              "    </tr>\n",
              "    <tr>\n",
              "      <th>Territorio</th>\n",
              "      <th></th>\n",
              "    </tr>\n",
              "  </thead>\n",
              "  <tbody>\n",
              "    <tr>\n",
              "      <th>China</th>\n",
              "      <td>1382.070000</td>\n",
              "    </tr>\n",
              "    <tr>\n",
              "      <th>Índia</th>\n",
              "      <td>1313.250000</td>\n",
              "    </tr>\n",
              "    <tr>\n",
              "      <th>Estados Unidos</th>\n",
              "      <td>324.671000</td>\n",
              "    </tr>\n",
              "    <tr>\n",
              "      <th>Indonésia</th>\n",
              "      <td>260.581000</td>\n",
              "    </tr>\n",
              "    <tr>\n",
              "      <th>Brasil</th>\n",
              "      <td>207.225000</td>\n",
              "    </tr>\n",
              "    <tr>\n",
              "      <th>Paquistão</th>\n",
              "      <td>196.635000</td>\n",
              "    </tr>\n",
              "    <tr>\n",
              "      <th>Nigéria</th>\n",
              "      <td>186.988000</td>\n",
              "    </tr>\n",
              "    <tr>\n",
              "      <th>Bangladesh</th>\n",
              "      <td>162.105000</td>\n",
              "    </tr>\n",
              "    <tr>\n",
              "      <th>Rússia</th>\n",
              "      <td>146.838993</td>\n",
              "    </tr>\n",
              "    <tr>\n",
              "      <th>Japão</th>\n",
              "      <td>126.830000</td>\n",
              "    </tr>\n",
              "    <tr>\n",
              "      <th>México</th>\n",
              "      <td>122.273000</td>\n",
              "    </tr>\n",
              "    <tr>\n",
              "      <th>Filipinas</th>\n",
              "      <td>103.743000</td>\n",
              "    </tr>\n",
              "    <tr>\n",
              "      <th>Etiópia</th>\n",
              "      <td>101.853000</td>\n",
              "    </tr>\n",
              "    <tr>\n",
              "      <th>Vietnã</th>\n",
              "      <td>92.700000</td>\n",
              "    </tr>\n",
              "    <tr>\n",
              "      <th>Egito</th>\n",
              "      <td>92.647200</td>\n",
              "    </tr>\n",
              "    <tr>\n",
              "      <th>Alemanha</th>\n",
              "      <td>82.800000</td>\n",
              "    </tr>\n",
              "    <tr>\n",
              "      <th>República Democrática do Congo</th>\n",
              "      <td>82.243000</td>\n",
              "    </tr>\n",
              "    <tr>\n",
              "      <th>Irã</th>\n",
              "      <td>79.980900</td>\n",
              "    </tr>\n",
              "    <tr>\n",
              "      <th>Turquia</th>\n",
              "      <td>79.814871</td>\n",
              "    </tr>\n",
              "    <tr>\n",
              "      <th>Tailândia</th>\n",
              "      <td>68.147000</td>\n",
              "    </tr>\n",
              "  </tbody>\n",
              "</table>\n",
              "</div>"
            ],
            "text/plain": [
              "                                  Populacao\n",
              "Territorio                                 \n",
              "China                           1382.070000\n",
              "Índia                           1313.250000\n",
              "Estados Unidos                   324.671000\n",
              "Indonésia                        260.581000\n",
              "Brasil                           207.225000\n",
              "Paquistão                        196.635000\n",
              "Nigéria                          186.988000\n",
              "Bangladesh                       162.105000\n",
              "Rússia                           146.838993\n",
              "Japão                            126.830000\n",
              "México                           122.273000\n",
              "Filipinas                        103.743000\n",
              "Etiópia                          101.853000\n",
              "Vietnã                            92.700000\n",
              "Egito                             92.647200\n",
              "Alemanha                          82.800000\n",
              "República Democrática do Congo    82.243000\n",
              "Irã                               79.980900\n",
              "Turquia                           79.814871\n",
              "Tailândia                         68.147000"
            ]
          },
          "metadata": {
            "tags": []
          },
          "execution_count": 238
        }
      ]
    },
    {
      "metadata": {
        "id": "XrxWSchZhlrq",
        "colab_type": "code",
        "colab": {
          "base_uri": "https://localhost:8080/",
          "height": 678
        },
        "outputId": "90185315-a65a-4f8d-f9f7-8be5dbfad040"
      },
      "cell_type": "code",
      "source": [
        "data_plot = pop_by_country2\n",
        "data_plot"
      ],
      "execution_count": 239,
      "outputs": [
        {
          "output_type": "execute_result",
          "data": {
            "text/html": [
              "<div>\n",
              "<style scoped>\n",
              "    .dataframe tbody tr th:only-of-type {\n",
              "        vertical-align: middle;\n",
              "    }\n",
              "\n",
              "    .dataframe tbody tr th {\n",
              "        vertical-align: top;\n",
              "    }\n",
              "\n",
              "    .dataframe thead th {\n",
              "        text-align: right;\n",
              "    }\n",
              "</style>\n",
              "<table border=\"1\" class=\"dataframe\">\n",
              "  <thead>\n",
              "    <tr style=\"text-align: right;\">\n",
              "      <th></th>\n",
              "      <th>Populacao</th>\n",
              "    </tr>\n",
              "    <tr>\n",
              "      <th>Territorio</th>\n",
              "      <th></th>\n",
              "    </tr>\n",
              "  </thead>\n",
              "  <tbody>\n",
              "    <tr>\n",
              "      <th>China</th>\n",
              "      <td>1382.070000</td>\n",
              "    </tr>\n",
              "    <tr>\n",
              "      <th>Índia</th>\n",
              "      <td>1313.250000</td>\n",
              "    </tr>\n",
              "    <tr>\n",
              "      <th>Estados Unidos</th>\n",
              "      <td>324.671000</td>\n",
              "    </tr>\n",
              "    <tr>\n",
              "      <th>Indonésia</th>\n",
              "      <td>260.581000</td>\n",
              "    </tr>\n",
              "    <tr>\n",
              "      <th>Brasil</th>\n",
              "      <td>207.225000</td>\n",
              "    </tr>\n",
              "    <tr>\n",
              "      <th>Paquistão</th>\n",
              "      <td>196.635000</td>\n",
              "    </tr>\n",
              "    <tr>\n",
              "      <th>Nigéria</th>\n",
              "      <td>186.988000</td>\n",
              "    </tr>\n",
              "    <tr>\n",
              "      <th>Bangladesh</th>\n",
              "      <td>162.105000</td>\n",
              "    </tr>\n",
              "    <tr>\n",
              "      <th>Rússia</th>\n",
              "      <td>146.838993</td>\n",
              "    </tr>\n",
              "    <tr>\n",
              "      <th>Japão</th>\n",
              "      <td>126.830000</td>\n",
              "    </tr>\n",
              "    <tr>\n",
              "      <th>México</th>\n",
              "      <td>122.273000</td>\n",
              "    </tr>\n",
              "    <tr>\n",
              "      <th>Filipinas</th>\n",
              "      <td>103.743000</td>\n",
              "    </tr>\n",
              "    <tr>\n",
              "      <th>Etiópia</th>\n",
              "      <td>101.853000</td>\n",
              "    </tr>\n",
              "    <tr>\n",
              "      <th>Vietnã</th>\n",
              "      <td>92.700000</td>\n",
              "    </tr>\n",
              "    <tr>\n",
              "      <th>Egito</th>\n",
              "      <td>92.647200</td>\n",
              "    </tr>\n",
              "    <tr>\n",
              "      <th>Alemanha</th>\n",
              "      <td>82.800000</td>\n",
              "    </tr>\n",
              "    <tr>\n",
              "      <th>República Democrática do Congo</th>\n",
              "      <td>82.243000</td>\n",
              "    </tr>\n",
              "    <tr>\n",
              "      <th>Irã</th>\n",
              "      <td>79.980900</td>\n",
              "    </tr>\n",
              "    <tr>\n",
              "      <th>Turquia</th>\n",
              "      <td>79.814871</td>\n",
              "    </tr>\n",
              "    <tr>\n",
              "      <th>Tailândia</th>\n",
              "      <td>68.147000</td>\n",
              "    </tr>\n",
              "  </tbody>\n",
              "</table>\n",
              "</div>"
            ],
            "text/plain": [
              "                                  Populacao\n",
              "Territorio                                 \n",
              "China                           1382.070000\n",
              "Índia                           1313.250000\n",
              "Estados Unidos                   324.671000\n",
              "Indonésia                        260.581000\n",
              "Brasil                           207.225000\n",
              "Paquistão                        196.635000\n",
              "Nigéria                          186.988000\n",
              "Bangladesh                       162.105000\n",
              "Rússia                           146.838993\n",
              "Japão                            126.830000\n",
              "México                           122.273000\n",
              "Filipinas                        103.743000\n",
              "Etiópia                          101.853000\n",
              "Vietnã                            92.700000\n",
              "Egito                             92.647200\n",
              "Alemanha                          82.800000\n",
              "República Democrática do Congo    82.243000\n",
              "Irã                               79.980900\n",
              "Turquia                           79.814871\n",
              "Tailândia                         68.147000"
            ]
          },
          "metadata": {
            "tags": []
          },
          "execution_count": 239
        }
      ]
    },
    {
      "metadata": {
        "id": "gTNY50vaLYDt",
        "colab_type": "code",
        "colab": {
          "base_uri": "https://localhost:8080/",
          "height": 54
        },
        "outputId": "54fd14cc-d3a2-4fc7-d236-99c89d930217"
      },
      "cell_type": "code",
      "source": [
        "# Verify column types\n",
        "data_plot.dtypes"
      ],
      "execution_count": 240,
      "outputs": [
        {
          "output_type": "execute_result",
          "data": {
            "text/plain": [
              "Populacao    float64\n",
              "dtype: object"
            ]
          },
          "metadata": {
            "tags": []
          },
          "execution_count": 240
        }
      ]
    },
    {
      "metadata": {
        "id": "wIHrfu2vNB_q",
        "colab_type": "code",
        "colab": {
          "base_uri": "https://localhost:8080/",
          "height": 108
        },
        "outputId": "3015a462-1264-420b-e927-c2664996a401"
      },
      "cell_type": "code",
      "source": [
        "index = np.arange(len(data_plot.index))\n",
        "index\n",
        "data_plot.index"
      ],
      "execution_count": 241,
      "outputs": [
        {
          "output_type": "execute_result",
          "data": {
            "text/plain": [
              "Index(['China', 'Índia', 'Estados Unidos', 'Indonésia', 'Brasil', 'Paquistão',\n",
              "       'Nigéria', 'Bangladesh', 'Rússia', 'Japão', 'México', 'Filipinas',\n",
              "       'Etiópia', 'Vietnã', 'Egito', 'Alemanha',\n",
              "       'República Democrática do Congo', 'Irã', 'Turquia', 'Tailândia'],\n",
              "      dtype='object', name='Territorio')"
            ]
          },
          "metadata": {
            "tags": []
          },
          "execution_count": 241
        }
      ]
    },
    {
      "metadata": {
        "id": "Z3b5fmnVNsb3",
        "colab_type": "code",
        "colab": {
          "base_uri": "https://localhost:8080/",
          "height": 417
        },
        "outputId": "0a0e0870-4f1d-400e-b93b-19820d9950cc"
      },
      "cell_type": "code",
      "source": [
        "data_plot.Populacao"
      ],
      "execution_count": 270,
      "outputs": [
        {
          "output_type": "execute_result",
          "data": {
            "text/plain": [
              "Territorio\n",
              "China                             1382.070000\n",
              "Índia                             1313.250000\n",
              "Estados Unidos                     324.671000\n",
              "Indonésia                          260.581000\n",
              "Brasil                             207.225000\n",
              "Paquistão                          196.635000\n",
              "Nigéria                            186.988000\n",
              "Bangladesh                         162.105000\n",
              "Rússia                             146.838993\n",
              "Japão                              126.830000\n",
              "México                             122.273000\n",
              "Filipinas                          103.743000\n",
              "Etiópia                            101.853000\n",
              "Vietnã                              92.700000\n",
              "Egito                               92.647200\n",
              "Alemanha                            82.800000\n",
              "República Democrática do Congo      82.243000\n",
              "Irã                                 79.980900\n",
              "Turquia                             79.814871\n",
              "Tailândia                           68.147000\n",
              "Name: Populacao, dtype: float64"
            ]
          },
          "metadata": {
            "tags": []
          },
          "execution_count": 270
        }
      ]
    },
    {
      "metadata": {
        "id": "Mh0LNE_oMDwj",
        "colab_type": "code",
        "colab": {
          "base_uri": "https://localhost:8080/",
          "height": 545
        },
        "outputId": "865a1d15-4858-4f22-f7a0-514c8efae7e4"
      },
      "cell_type": "code",
      "source": [
        "plot_bar_x(data_plot.index,data_plot.Populacao, 'Population by Country', 'Country', 'Population' )"
      ],
      "execution_count": 243,
      "outputs": [
        {
          "output_type": "display_data",
          "data": {
            "image/png": "[encoded data removed]",
            "text/plain": [
              "<matplotlib.figure.Figure at 0x7fc6e77c8390>"
            ]
          },
          "metadata": {
            "tags": []
          }
        }
      ]
    },
    {
      "metadata": {
        "id": "gX3Ma_3VRMnQ",
        "colab_type": "code",
        "colab": {
          "base_uri": "https://localhost:8080/",
          "height": 108
        },
        "outputId": "477522ea-b812-4eba-fddc-db34265c31d9"
      },
      "cell_type": "code",
      "source": [
        "xticks=data_plot.index\n",
        "xticks"
      ],
      "execution_count": 256,
      "outputs": [
        {
          "output_type": "execute_result",
          "data": {
            "text/plain": [
              "Index(['China', 'Índia', 'Estados Unidos', 'Indonésia', 'Brasil', 'Paquistão',\n",
              "       'Nigéria', 'Bangladesh', 'Rússia', 'Japão', 'México', 'Filipinas',\n",
              "       'Etiópia', 'Vietnã', 'Egito', 'Alemanha',\n",
              "       'República Democrática do Congo', 'Irã', 'Turquia', 'Tailândia'],\n",
              "      dtype='object', name='Territorio')"
            ]
          },
          "metadata": {
            "tags": []
          },
          "execution_count": 256
        }
      ]
    },
    {
      "metadata": {
        "id": "r2anttNnCJYD",
        "colab_type": "code",
        "colab": {
          "base_uri": "https://localhost:8080/",
          "height": 955
        },
        "outputId": "dc48d228-f361-4635-8047-b9397f90ac58"
      },
      "cell_type": "code",
      "source": [
        "# Plotting the Graph\n",
        "\n",
        "ax = data_plot.plot( title='Population by country (million)',figsize=[12, 6])\n",
        "\n",
        "ax.set_xticklabels(data_plot.index, rotation=80, rotation_mode='anchor', \n",
        "                   ha='right')\n",
        "x =data_plot.index\n",
        "ax.set_xlabel('Country')\n",
        "ax.set_ylabel('Population')\n",
        "\n",
        "\n",
        "plt.xticks(range(20), x, fontsize=12, rotation=90)"
      ],
      "execution_count": 264,
      "outputs": [
        {
          "output_type": "execute_result",
          "data": {
            "text/plain": [
              "([<matplotlib.axis.XTick at 0x7fc6e74e6588>,\n",
              "  <matplotlib.axis.XTick at 0x7fc6e74dcf28>,\n",
              "  <matplotlib.axis.XTick at 0x7fc6e7463fd0>,\n",
              "  <matplotlib.axis.XTick at 0x7fc6e747cc18>,\n",
              "  <matplotlib.axis.XTick at 0x7fc6e74833c8>,\n",
              "  <matplotlib.axis.XTick at 0x7fc6e7483b38>,\n",
              "  <matplotlib.axis.XTick at 0x7fc6e74892e8>,\n",
              "  <matplotlib.axis.XTick at 0x7fc6e7489a58>,\n",
              "  <matplotlib.axis.XTick at 0x7fc6e7490208>,\n",
              "  <matplotlib.axis.XTick at 0x7fc6e747c390>,\n",
              "  <matplotlib.axis.XTick at 0x7fc6e74e6208>,\n",
              "  <matplotlib.axis.XTick at 0x7fc6e7490cf8>,\n",
              "  <matplotlib.axis.XTick at 0x7fc6e74834e0>,\n",
              "  <matplotlib.axis.XTick at 0x7fc6e7516978>,\n",
              "  <matplotlib.axis.XTick at 0x7fc6e749fd68>,\n",
              "  <matplotlib.axis.XTick at 0x7fc6e74282e8>,\n",
              "  <matplotlib.axis.XTick at 0x7fc6e7428a58>,\n",
              "  <matplotlib.axis.XTick at 0x7fc6e742e208>,\n",
              "  <matplotlib.axis.XTick at 0x7fc6e742e978>,\n",
              "  <matplotlib.axis.XTick at 0x7fc6e7432128>],\n",
              " <a list of 20 Text xticklabel objects>)"
            ]
          },
          "metadata": {
            "tags": []
          },
          "execution_count": 264
        },
        {
          "output_type": "display_data",
          "data": {
            "image/png": "[encoded data removed]",
            "text/plain": [
              "<matplotlib.figure.Figure at 0x7fc6e7507208>"
            ]
          },
          "metadata": {
            "tags": []
          }
        }
      ]
    },
    {
      "metadata": {
        "id": "1bTY-yKkBRWm",
        "colab_type": "code",
        "colab": {
          "base_uri": "https://localhost:8080/",
          "height": 539
        },
        "outputId": "891f4362-9b49-4a49-f14f-5fb4e36d0ab6"
      },
      "cell_type": "code",
      "source": [
        "plot_bar(data_plot,'Population by Country ', 'Country', 'Population')"
      ],
      "execution_count": 329,
      "outputs": [
        {
          "output_type": "display_data",
          "data": {
            "image/png": "[encoded data removed]",
            "text/plain": [
              "<matplotlib.figure.Figure at 0x7fc6e68ca080>"
            ]
          },
          "metadata": {
            "tags": []
          }
        }
      ]
    },
    {
      "metadata": {
        "id": "kVC_cDjHdCsd",
        "colab_type": "code",
        "colab": {
          "base_uri": "https://localhost:8080/",
          "height": 417
        },
        "outputId": "5d1c0a01-34c7-408f-f791-35ce73aa8f32"
      },
      "cell_type": "code",
      "source": [
        "data_plot[data_plot.columns[0]]"
      ],
      "execution_count": 327,
      "outputs": [
        {
          "output_type": "execute_result",
          "data": {
            "text/plain": [
              "Territorio\n",
              "China                             1382.070000\n",
              "Índia                             1313.250000\n",
              "Estados Unidos                     324.671000\n",
              "Indonésia                          260.581000\n",
              "Brasil                             207.225000\n",
              "Paquistão                          196.635000\n",
              "Nigéria                            186.988000\n",
              "Bangladesh                         162.105000\n",
              "Rússia                             146.838993\n",
              "Japão                              126.830000\n",
              "México                             122.273000\n",
              "Filipinas                          103.743000\n",
              "Etiópia                            101.853000\n",
              "Vietnã                              92.700000\n",
              "Egito                               92.647200\n",
              "Alemanha                            82.800000\n",
              "República Democrática do Congo      82.243000\n",
              "Irã                                 79.980900\n",
              "Turquia                             79.814871\n",
              "Tailândia                           68.147000\n",
              "Name: Populacao, dtype: float64"
            ]
          },
          "metadata": {
            "tags": []
          },
          "execution_count": 327
        }
      ]
    },
    {
      "metadata": {
        "id": "NqnIXJzMYBe9",
        "colab_type": "code",
        "colab": {}
      },
      "cell_type": "code",
      "source": [
        ""
      ],
      "execution_count": 0,
      "outputs": []
    }
  ]
}