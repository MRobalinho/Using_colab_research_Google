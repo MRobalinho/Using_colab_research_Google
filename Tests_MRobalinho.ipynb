{
  "nbformat": 4,
  "nbformat_minor": 0,
  "metadata": {
    "colab": {
      "name": "Tests_MRobalinho.ipynb",
      "version": "0.3.2",
      "provenance": [],
      "include_colab_link": true
    },
    "kernelspec": {
      "name": "python3",
      "display_name": "Python 3"
    }
  },
  "cells": [
    {
      "cell_type": "markdown",
      "metadata": {
        "id": "view-in-github",
        "colab_type": "text"
      },
      "source": [
        "<a href=\"https://colab.research.google.com/github/MRobalinho/Using_colab_research_Google/blob/master/Tests_MRobalinho.ipynb\" target=\"_parent\"><img src=\"https://colab.research.google.com/assets/colab-badge.svg\" alt=\"Open In Colab\"/></a>"
      ]
    },
    {
      "metadata": {
        "id": "R6uE911gIX7J",
        "colab_type": "text"
      },
      "cell_type": "markdown",
      "source": [
        "# How to Read and Write files from your Google Drive\n",
        "\n",
        "###Documentation used\n",
        "\n",
        "#####How use colabratec ( GPU free machine from Google)\n",
        "https://colab.research.google.com/notebooks/welcome.ipynb#recent=true\n",
        "#####How to read tables from Google drive\n",
        "https://colab.research.google.com/notebooks/io.ipynb#scrollTo=F1-nafvN-NwW\n",
        "<br/>https://www.twilio.com/blog/2017/02/an-easy-way-to-read-and-write-to-a-google-spreadsheet-in-python.html\n",
        "<br/>Plot examples\n",
        "<br/>https://colab.research.google.com/notebooks/charts.ipynb\n",
        "<br/> Information about countries\n",
        "<br/> http://radames.manosso.nom.br/bitabit/planilhas/todos-os-paises-mundo-no-excel/\n",
        "\n",
        "\n",
        "\n",
        "Manuel Robalinho - 24-11-2018"
      ]
    },
    {
      "metadata": {
        "id": "ucfqp1mS9ch8",
        "colab_type": "text"
      },
      "cell_type": "markdown",
      "source": [
        "### Connect to Google Drive"
      ]
    },
    {
      "metadata": {
        "id": "crdTqBT1Vd68",
        "colab_type": "code",
        "outputId": "a8900e17-1765-4245-c94e-d1576a8211fa",
        "colab": {
          "base_uri": "https://localhost:8080/",
          "height": 128
        }
      },
      "cell_type": "code",
      "source": [
        "from google.colab import drive\n",
        "\n",
        "# Obtain autorization to acess you google drive\n",
        "drive.mount('/content/gdrive')"
      ],
      "execution_count": 1,
      "outputs": [
        {
          "output_type": "stream",
          "text": [
            "Go to this URL in a browser: https://accounts.google.com/o/oauth2/auth?client_id=947318989803-6bn6qk8qdgf4n4g3pfee6491hc0brc4i.apps.googleusercontent.com&redirect_uri=urn%3Aietf%3Awg%3Aoauth%3A2.0%3Aoob&scope=email%20https%3A%2F%2Fwww.googleapis.com%2Fauth%2Fdocs.test%20https%3A%2F%2Fwww.googleapis.com%2Fauth%2Fdrive%20https%3A%2F%2Fwww.googleapis.com%2Fauth%2Fdrive.photos.readonly%20https%3A%2F%2Fwww.googleapis.com%2Fauth%2Fpeopleapi.readonly&response_type=code\n",
            "\n",
            "Enter your authorization code:\n",
            "··········\n",
            "Mounted at /content/gdrive\n"
          ],
          "name": "stdout"
        }
      ]
    },
    {
      "metadata": {
        "id": "6T0QqJCFg2Av",
        "colab_type": "text"
      },
      "cell_type": "markdown",
      "source": [
        ""
      ]
    },
    {
      "metadata": {
        "id": "UXgr8FBD9u_J",
        "colab_type": "text"
      },
      "cell_type": "markdown",
      "source": [
        "### Create a file in Google Drive"
      ]
    },
    {
      "metadata": {
        "id": "YnSVDZzbVgCO",
        "colab_type": "code",
        "outputId": "5f7bae29-9bf3-45d6-82fd-6af48f975d1a",
        "colab": {
          "base_uri": "https://localhost:8080/",
          "height": 35
        }
      },
      "cell_type": "code",
      "source": [
        "# Creating a file in my Google Drive.\n",
        "with open('/content/gdrive/My Drive/foo.txt', 'w') as f:\n",
        "  f.write('Hello Google Drive!')\n",
        "!cat /content/gdrive/My\\ Drive/foo.txt"
      ],
      "execution_count": 2,
      "outputs": [
        {
          "output_type": "stream",
          "text": [
            "Hello Google Drive!"
          ],
          "name": "stdout"
        }
      ]
    },
    {
      "metadata": {
        "id": "4M8Dr-GQw389",
        "colab_type": "code",
        "colab": {}
      },
      "cell_type": "code",
      "source": [
        "# Create a path\n",
        "path = '/tmp/'\n",
        "path = '/content/gdrive/My Drive/Colab Notebooks/data/'"
      ],
      "execution_count": 0,
      "outputs": []
    },
    {
      "metadata": {
        "id": "dj3E5KRZhMDA",
        "colab_type": "code",
        "outputId": "a97128a1-3b16-4174-acdc-6c30c9f21a53",
        "colab": {
          "base_uri": "https://localhost:8080/",
          "height": 54
        }
      },
      "cell_type": "code",
      "source": [
        "# Create a local file to upload.\n",
        "\n",
        "file = path + 'Rob_to_upload.txt'\n",
        "with open(file, 'w') as f:\n",
        "  f.write('my sample file')\n",
        "  f.write('Hello World') \n",
        "  f.write('This is our new text file') \n",
        "  f.write('and this is another line.') \n",
        "  f.write('“Why? Because we can.') \n",
        " \n",
        "  f.close() \n",
        "  \n",
        "# Print what we have in the file\n",
        "print(file, ' contains:')\n",
        "\n",
        "!cat '/content/gdrive/My Drive/Colab Notebooks/data/Rob_to_upload.txt'"
      ],
      "execution_count": 5,
      "outputs": [
        {
          "output_type": "stream",
          "text": [
            "/content/gdrive/My Drive/Colab Notebooks/data/Rob_to_upload.txt  contains:\n",
            "my sample fileHello WorldThis is our new text fileand this is another line.“Why? Because we can."
          ],
          "name": "stdout"
        }
      ]
    },
    {
      "metadata": {
        "id": "iYfryPb8u-gE",
        "colab_type": "code",
        "outputId": "84218fe1-e415-4d4c-f8d1-7cdd1b22747d",
        "colab": {
          "base_uri": "https://localhost:8080/",
          "height": 34
        }
      },
      "cell_type": "code",
      "source": [
        "file"
      ],
      "execution_count": 0,
      "outputs": [
        {
          "output_type": "execute_result",
          "data": {
            "text/plain": [
              "'/content/gdrive/My Drive/Colab Notebooks/data/Rob_to_upload.txt'"
            ]
          },
          "metadata": {
            "tags": []
          },
          "execution_count": 49
        }
      ]
    },
    {
      "metadata": {
        "id": "HKrCVN2ciYI9",
        "colab_type": "code",
        "outputId": "576ff9da-49a3-4e84-d86a-51a921d8f29d",
        "colab": {
          "base_uri": "https://localhost:8080/",
          "height": 35
        }
      },
      "cell_type": "code",
      "source": [
        "# Another form to read file from a path\n",
        "\n",
        "xfile = open(file, 'r') \n",
        "print (xfile.read()) "
      ],
      "execution_count": 6,
      "outputs": [
        {
          "output_type": "stream",
          "text": [
            "my sample fileHello WorldThis is our new text fileand this is another line.“Why? Because we can.\n"
          ],
          "name": "stdout"
        }
      ]
    },
    {
      "metadata": {
        "id": "ZgVXweLowQHg",
        "colab_type": "code",
        "outputId": "ea9682f3-8691-4857-a8e2-8ca244b03ed3",
        "colab": {
          "base_uri": "https://localhost:8080/",
          "height": 35
        }
      },
      "cell_type": "code",
      "source": [
        "# Print file, line by line\n",
        "xfile = open(file, 'r') \n",
        "for line in xfile: \n",
        "  print (line) "
      ],
      "execution_count": 7,
      "outputs": [
        {
          "output_type": "stream",
          "text": [
            "my sample fileHello WorldThis is our new text fileand this is another line.“Why? Because we can.\n"
          ],
          "name": "stdout"
        }
      ]
    },
    {
      "metadata": {
        "id": "r7Wpw1Xy9Sls",
        "colab_type": "text"
      },
      "cell_type": "markdown",
      "source": [
        "### Read a CSV file"
      ]
    },
    {
      "metadata": {
        "id": "NrARqk2wJ_ZX",
        "colab_type": "code",
        "outputId": "ae6e8a3a-9767-40cd-ca24-ebe40a5ab5e7",
        "colab": {
          "base_uri": "https://localhost:8080/",
          "height": 35
        }
      },
      "cell_type": "code",
      "source": [
        "# Create a path\n",
        "\n",
        "path = '/content/gdrive/My Drive/Colab Notebooks/data/'\n",
        "path"
      ],
      "execution_count": 8,
      "outputs": [
        {
          "output_type": "execute_result",
          "data": {
            "text/plain": [
              "'/content/gdrive/My Drive/Colab Notebooks/data/'"
            ]
          },
          "metadata": {
            "tags": []
          },
          "execution_count": 8
        }
      ]
    },
    {
      "metadata": {
        "id": "W2LrRN1CxRqw",
        "colab_type": "code",
        "outputId": "be871775-823a-48ff-8b61-e2130a74a45f",
        "colab": {
          "base_uri": "https://localhost:8080/",
          "height": 274
        }
      },
      "cell_type": "code",
      "source": [
        "import csv\n",
        "xfile = path + 'cars.csv'\n",
        "with open(xfile) as csv_file:\n",
        "    csv_reader = csv.reader(csv_file, delimiter=',')\n",
        "    line_count = 0\n",
        "    for row in csv_reader:\n",
        "        if line_count == 0:\n",
        "            print(f'Column names are: {\", \".join(row)}')\n",
        "            print(f'\\t---------------------------------')\n",
        "            line_count += 1\n",
        "        else:\n",
        "          if line_count <= 10:    # Print first 10 lines\n",
        "            print(f'\\t{row[0]} , {row[1]} , {row[2]}, {row[3]}, {row[4]}, {row[5]}.')\n",
        "            \n",
        "          line_count += 1\n",
        "    \n",
        "    print(f'Processed {line_count} lines.')"
      ],
      "execution_count": 9,
      "outputs": [
        {
          "output_type": "stream",
          "text": [
            "Column names are: City mpg, Classification, Driveline, Engine Type, Fuel Type, Height, Highway mpg, Horsepower, Hybrid, ID, Length, Make, Model Year, Number of Forward Gears, Torque, Transmission, Width, Year\n",
            "\t---------------------------------\n",
            "\t18 , Automatic transmission , All-wheel drive, Audi 3.2L 6 cylinder 250hp 236ft-lbs, Gasoline, 140.\n",
            "\t22 , Automatic transmission , Front-wheel drive, Audi 2.0L 4 cylinder 200 hp 207 ft-lbs Turbo, Gasoline, 140.\n",
            "\t21 , Manual transmission , Front-wheel drive, Audi 2.0L 4 cylinder 200 hp 207 ft-lbs Turbo, Gasoline, 140.\n",
            "\t21 , Automatic transmission , All-wheel drive, Audi 2.0L 4 cylinder 200 hp 207 ft-lbs Turbo, Gasoline, 140.\n",
            "\t21 , Automatic transmission , All-wheel drive, Audi 2.0L 4 cylinder 200 hp 207 ft-lbs Turbo, Gasoline, 140.\n",
            "\t16 , Manual transmission , All-wheel drive, Audi 3.2L 6 cylinder 265hp 243 ft-lbs, Gasoline, 91.\n",
            "\t17 , Automatic transmission , All-wheel drive, Audi 3.2L 6 cylinder 265hp 243 ft-lbs, Gasoline, 91.\n",
            "\t13 , Automatic transmission , All-wheel drive, Audi 4.2L 8 cylinder 350 hp 325 ft-lbs, Gasoline, 201.\n",
            "\t14 , Automatic transmission , All-wheel drive, Audi 3.6L 6 cylinder 280hp 266 ft-lbs, Gasoline, 201.\n",
            "\t22 , Manual transmission , All-wheel drive, Audi 2.0L 4 cylinder 211 hp 258 ft-lbs Turbo, Gasoline, 147.\n",
            "Processed 5077 lines.\n"
          ],
          "name": "stdout"
        }
      ]
    },
    {
      "metadata": {
        "id": "Fsoik8XnNRoC",
        "colab_type": "text"
      },
      "cell_type": "markdown",
      "source": [
        "### Reading CSV files from Google Drive using Pandas"
      ]
    },
    {
      "metadata": {
        "id": "GXy9OBh1zJEo",
        "colab_type": "code",
        "outputId": "09cb5a3b-52ef-457f-aa07-150de35f8a49",
        "colab": {
          "base_uri": "https://localhost:8080/",
          "height": 35
        }
      },
      "cell_type": "code",
      "source": [
        "path"
      ],
      "execution_count": 0,
      "outputs": [
        {
          "output_type": "execute_result",
          "data": {
            "text/plain": [
              "'/content/gdrive/My Drive/Colab Notebooks/data/'"
            ]
          },
          "metadata": {
            "tags": []
          },
          "execution_count": 54
        }
      ]
    },
    {
      "metadata": {
        "id": "k9UQeN9QOq-g",
        "colab_type": "code",
        "outputId": "f36b44b7-2625-4661-cfdb-e1767b77f586",
        "colab": {
          "base_uri": "https://localhost:8080/",
          "height": 35
        }
      },
      "cell_type": "code",
      "source": [
        "file = path + 'cars.csv'\n",
        "file"
      ],
      "execution_count": 0,
      "outputs": [
        {
          "output_type": "execute_result",
          "data": {
            "text/plain": [
              "'/content/gdrive/My Drive/Colab Notebooks/data/cars.csv'"
            ]
          },
          "metadata": {
            "tags": []
          },
          "execution_count": 55
        }
      ]
    },
    {
      "metadata": {
        "id": "pftcfC2Qyxg5",
        "colab_type": "code",
        "outputId": "21db1bec-247d-47eb-d708-5f25e367ea35",
        "colab": {
          "base_uri": "https://localhost:8080/",
          "height": 771
        }
      },
      "cell_type": "code",
      "source": [
        "import pandas\n",
        "\n",
        "df = pandas.read_csv(file)\n",
        "df.head()"
      ],
      "execution_count": 0,
      "outputs": [
        {
          "output_type": "execute_result",
          "data": {
            "text/html": [
              "<div>\n",
              "<style scoped>\n",
              "    .dataframe tbody tr th:only-of-type {\n",
              "        vertical-align: middle;\n",
              "    }\n",
              "\n",
              "    .dataframe tbody tr th {\n",
              "        vertical-align: top;\n",
              "    }\n",
              "\n",
              "    .dataframe thead th {\n",
              "        text-align: right;\n",
              "    }\n",
              "</style>\n",
              "<table border=\"1\" class=\"dataframe\">\n",
              "  <thead>\n",
              "    <tr style=\"text-align: right;\">\n",
              "      <th></th>\n",
              "      <th>City mpg</th>\n",
              "      <th>Classification</th>\n",
              "      <th>Driveline</th>\n",
              "      <th>Engine Type</th>\n",
              "      <th>Fuel Type</th>\n",
              "      <th>Height</th>\n",
              "      <th>Highway mpg</th>\n",
              "      <th>Horsepower</th>\n",
              "      <th>Hybrid</th>\n",
              "      <th>ID</th>\n",
              "      <th>Length</th>\n",
              "      <th>Make</th>\n",
              "      <th>Model Year</th>\n",
              "      <th>Number of Forward Gears</th>\n",
              "      <th>Torque</th>\n",
              "      <th>Transmission</th>\n",
              "      <th>Width</th>\n",
              "      <th>Year</th>\n",
              "    </tr>\n",
              "  </thead>\n",
              "  <tbody>\n",
              "    <tr>\n",
              "      <th>0</th>\n",
              "      <td>18</td>\n",
              "      <td>Automatic transmission</td>\n",
              "      <td>All-wheel drive</td>\n",
              "      <td>Audi 3.2L 6 cylinder 250hp 236ft-lbs</td>\n",
              "      <td>Gasoline</td>\n",
              "      <td>140</td>\n",
              "      <td>25</td>\n",
              "      <td>250</td>\n",
              "      <td>False</td>\n",
              "      <td>2009 Audi A3 3.2</td>\n",
              "      <td>143</td>\n",
              "      <td>Audi</td>\n",
              "      <td>2009 Audi A3</td>\n",
              "      <td>6</td>\n",
              "      <td>236</td>\n",
              "      <td>6 Speed Automatic Select Shift</td>\n",
              "      <td>202</td>\n",
              "      <td>2009</td>\n",
              "    </tr>\n",
              "    <tr>\n",
              "      <th>1</th>\n",
              "      <td>22</td>\n",
              "      <td>Automatic transmission</td>\n",
              "      <td>Front-wheel drive</td>\n",
              "      <td>Audi 2.0L 4 cylinder 200 hp 207 ft-lbs Turbo</td>\n",
              "      <td>Gasoline</td>\n",
              "      <td>140</td>\n",
              "      <td>28</td>\n",
              "      <td>200</td>\n",
              "      <td>False</td>\n",
              "      <td>2009 Audi A3 2.0 T AT</td>\n",
              "      <td>143</td>\n",
              "      <td>Audi</td>\n",
              "      <td>2009 Audi A3</td>\n",
              "      <td>6</td>\n",
              "      <td>207</td>\n",
              "      <td>6 Speed Automatic Select Shift</td>\n",
              "      <td>202</td>\n",
              "      <td>2009</td>\n",
              "    </tr>\n",
              "    <tr>\n",
              "      <th>2</th>\n",
              "      <td>21</td>\n",
              "      <td>Manual transmission</td>\n",
              "      <td>Front-wheel drive</td>\n",
              "      <td>Audi 2.0L 4 cylinder 200 hp 207 ft-lbs Turbo</td>\n",
              "      <td>Gasoline</td>\n",
              "      <td>140</td>\n",
              "      <td>30</td>\n",
              "      <td>200</td>\n",
              "      <td>False</td>\n",
              "      <td>2009 Audi A3 2.0 T</td>\n",
              "      <td>143</td>\n",
              "      <td>Audi</td>\n",
              "      <td>2009 Audi A3</td>\n",
              "      <td>6</td>\n",
              "      <td>207</td>\n",
              "      <td>6 Speed Manual</td>\n",
              "      <td>202</td>\n",
              "      <td>2009</td>\n",
              "    </tr>\n",
              "    <tr>\n",
              "      <th>3</th>\n",
              "      <td>21</td>\n",
              "      <td>Automatic transmission</td>\n",
              "      <td>All-wheel drive</td>\n",
              "      <td>Audi 2.0L 4 cylinder 200 hp 207 ft-lbs Turbo</td>\n",
              "      <td>Gasoline</td>\n",
              "      <td>140</td>\n",
              "      <td>28</td>\n",
              "      <td>200</td>\n",
              "      <td>False</td>\n",
              "      <td>2009 Audi A3 2.0 T Quattro</td>\n",
              "      <td>143</td>\n",
              "      <td>Audi</td>\n",
              "      <td>2009 Audi A3</td>\n",
              "      <td>6</td>\n",
              "      <td>207</td>\n",
              "      <td>6 Speed Automatic Select Shift</td>\n",
              "      <td>202</td>\n",
              "      <td>2009</td>\n",
              "    </tr>\n",
              "    <tr>\n",
              "      <th>4</th>\n",
              "      <td>21</td>\n",
              "      <td>Automatic transmission</td>\n",
              "      <td>All-wheel drive</td>\n",
              "      <td>Audi 2.0L 4 cylinder 200 hp 207 ft-lbs Turbo</td>\n",
              "      <td>Gasoline</td>\n",
              "      <td>140</td>\n",
              "      <td>28</td>\n",
              "      <td>200</td>\n",
              "      <td>False</td>\n",
              "      <td>2009 Audi A3 2.0 T Quattro</td>\n",
              "      <td>143</td>\n",
              "      <td>Audi</td>\n",
              "      <td>2009 Audi A3</td>\n",
              "      <td>6</td>\n",
              "      <td>207</td>\n",
              "      <td>6 Speed Automatic Select Shift</td>\n",
              "      <td>202</td>\n",
              "      <td>2009</td>\n",
              "    </tr>\n",
              "  </tbody>\n",
              "</table>\n",
              "</div>"
            ],
            "text/plain": [
              "   City mpg          Classification          Driveline  \\\n",
              "0        18  Automatic transmission    All-wheel drive   \n",
              "1        22  Automatic transmission  Front-wheel drive   \n",
              "2        21     Manual transmission  Front-wheel drive   \n",
              "3        21  Automatic transmission    All-wheel drive   \n",
              "4        21  Automatic transmission    All-wheel drive   \n",
              "\n",
              "                                    Engine Type Fuel Type  Height  \\\n",
              "0          Audi 3.2L 6 cylinder 250hp 236ft-lbs  Gasoline     140   \n",
              "1  Audi 2.0L 4 cylinder 200 hp 207 ft-lbs Turbo  Gasoline     140   \n",
              "2  Audi 2.0L 4 cylinder 200 hp 207 ft-lbs Turbo  Gasoline     140   \n",
              "3  Audi 2.0L 4 cylinder 200 hp 207 ft-lbs Turbo  Gasoline     140   \n",
              "4  Audi 2.0L 4 cylinder 200 hp 207 ft-lbs Turbo  Gasoline     140   \n",
              "\n",
              "   Highway mpg  Horsepower  Hybrid                          ID  Length  Make  \\\n",
              "0           25         250   False            2009 Audi A3 3.2     143  Audi   \n",
              "1           28         200   False       2009 Audi A3 2.0 T AT     143  Audi   \n",
              "2           30         200   False          2009 Audi A3 2.0 T     143  Audi   \n",
              "3           28         200   False  2009 Audi A3 2.0 T Quattro     143  Audi   \n",
              "4           28         200   False  2009 Audi A3 2.0 T Quattro     143  Audi   \n",
              "\n",
              "     Model Year  Number of Forward Gears  Torque  \\\n",
              "0  2009 Audi A3                        6     236   \n",
              "1  2009 Audi A3                        6     207   \n",
              "2  2009 Audi A3                        6     207   \n",
              "3  2009 Audi A3                        6     207   \n",
              "4  2009 Audi A3                        6     207   \n",
              "\n",
              "                     Transmission  Width  Year  \n",
              "0  6 Speed Automatic Select Shift    202  2009  \n",
              "1  6 Speed Automatic Select Shift    202  2009  \n",
              "2                  6 Speed Manual    202  2009  \n",
              "3  6 Speed Automatic Select Shift    202  2009  \n",
              "4  6 Speed Automatic Select Shift    202  2009  "
            ]
          },
          "metadata": {
            "tags": []
          },
          "execution_count": 57
        }
      ]
    },
    {
      "metadata": {
        "id": "qqIcXd94R19r",
        "colab_type": "text"
      },
      "cell_type": "markdown",
      "source": [
        "### Reading Excel Files from Google Drive Using Pandas"
      ]
    },
    {
      "metadata": {
        "id": "LNrE03n2SQRb",
        "colab_type": "code",
        "outputId": "09a209fb-2647-4e9c-8a16-3366a0367d51",
        "colab": {
          "base_uri": "https://localhost:8080/",
          "height": 35
        }
      },
      "cell_type": "code",
      "source": [
        "file = path + 'world_country.xls'\n",
        "file"
      ],
      "execution_count": 10,
      "outputs": [
        {
          "output_type": "execute_result",
          "data": {
            "text/plain": [
              "'/content/gdrive/My Drive/Colab Notebooks/data/world_country.xls'"
            ]
          },
          "metadata": {
            "tags": []
          },
          "execution_count": 10
        }
      ]
    },
    {
      "metadata": {
        "id": "6XNqSYOgUCH3",
        "colab_type": "code",
        "outputId": "ef4cff59-4d62-4244-c592-4fddd5e8ad47",
        "colab": {
          "base_uri": "https://localhost:8080/",
          "height": 128
        }
      },
      "cell_type": "code",
      "source": [
        "# Install new packages\n",
        "!pip install xlrd"
      ],
      "execution_count": 11,
      "outputs": [
        {
          "output_type": "stream",
          "text": [
            "Collecting xlrd\n",
            "\u001b[?25l  Downloading https://files.pythonhosted.org/packages/07/e6/e95c4eec6221bfd8528bcc4ea252a850bffcc4be88ebc367e23a1a84b0bb/xlrd-1.1.0-py2.py3-none-any.whl (108kB)\n",
            "\u001b[K    100% |████████████████████████████████| 112kB 4.2MB/s \n",
            "\u001b[?25hInstalling collected packages: xlrd\n",
            "Successfully installed xlrd-1.1.0\n"
          ],
          "name": "stdout"
        }
      ]
    },
    {
      "metadata": {
        "id": "OGmeEZ5GgMyT",
        "colab_type": "code",
        "colab": {}
      },
      "cell_type": "code",
      "source": [
        "# Import packages\n",
        "import pandas as pd\n",
        "import xlrd\n",
        "import numpy as np"
      ],
      "execution_count": 0,
      "outputs": []
    },
    {
      "metadata": {
        "id": "y3sdy2xrPDSb",
        "colab_type": "code",
        "outputId": "4e1b05c2-f7e4-43d4-f788-8537f1be2ce4",
        "colab": {
          "base_uri": "https://localhost:8080/",
          "height": 368
        }
      },
      "cell_type": "code",
      "source": [
        "df_world = pd.read_excel(file)\n",
        "df_world.head()"
      ],
      "execution_count": 69,
      "outputs": [
        {
          "output_type": "execute_result",
          "data": {
            "text/html": [
              "<div>\n",
              "<style scoped>\n",
              "    .dataframe tbody tr th:only-of-type {\n",
              "        vertical-align: middle;\n",
              "    }\n",
              "\n",
              "    .dataframe tbody tr th {\n",
              "        vertical-align: top;\n",
              "    }\n",
              "\n",
              "    .dataframe thead th {\n",
              "        text-align: right;\n",
              "    }\n",
              "</style>\n",
              "<table border=\"1\" class=\"dataframe\">\n",
              "  <thead>\n",
              "    <tr style=\"text-align: right;\">\n",
              "      <th></th>\n",
              "      <th>País/território</th>\n",
              "      <th>População</th>\n",
              "      <th>Área em Km2</th>\n",
              "      <th>Densidade</th>\n",
              "      <th>Continente</th>\n",
              "      <th>Região</th>\n",
              "      <th>Capital</th>\n",
              "      <th>Maior cidade</th>\n",
              "      <th>PIB PPC</th>\n",
              "      <th>PIB nominal</th>\n",
              "      <th>...</th>\n",
              "      <th>Pequeno país?</th>\n",
              "      <th>Insular?</th>\n",
              "      <th>Transcontinental?</th>\n",
              "      <th>Prêmios Nobel</th>\n",
              "      <th>Medalhas olímpicas</th>\n",
              "      <th>União Europeia</th>\n",
              "      <th>Zona do euro</th>\n",
              "      <th>Patrimônios da Unesco</th>\n",
              "      <th>1000 lugares</th>\n",
              "      <th>URL Wikipedia</th>\n",
              "    </tr>\n",
              "  </thead>\n",
              "  <tbody>\n",
              "    <tr>\n",
              "      <th>0</th>\n",
              "      <td>Acores</td>\n",
              "      <td>245746.0</td>\n",
              "      <td>2333.0</td>\n",
              "      <td>105.334762</td>\n",
              "      <td>África</td>\n",
              "      <td>Norte da África</td>\n",
              "      <td>Ponta Delgada</td>\n",
              "      <td>NaN</td>\n",
              "      <td>NaN</td>\n",
              "      <td>NaN</td>\n",
              "      <td>...</td>\n",
              "      <td>NaN</td>\n",
              "      <td>s</td>\n",
              "      <td>NaN</td>\n",
              "      <td>NaN</td>\n",
              "      <td>NaN</td>\n",
              "      <td>NaN</td>\n",
              "      <td>NaN</td>\n",
              "      <td>NaN</td>\n",
              "      <td>NaN</td>\n",
              "      <td>https://pt.wikipedia.org/wiki/A%C3%A7ores</td>\n",
              "    </tr>\n",
              "    <tr>\n",
              "      <th>1</th>\n",
              "      <td>Acrotiri e Deceleia</td>\n",
              "      <td>NaN</td>\n",
              "      <td>254.0</td>\n",
              "      <td>0.000000</td>\n",
              "      <td>Europa</td>\n",
              "      <td>Europa meridional</td>\n",
              "      <td>Episcópi</td>\n",
              "      <td>Episcópi</td>\n",
              "      <td>NaN</td>\n",
              "      <td>NaN</td>\n",
              "      <td>...</td>\n",
              "      <td>Sim</td>\n",
              "      <td>NaN</td>\n",
              "      <td>NaN</td>\n",
              "      <td>NaN</td>\n",
              "      <td>NaN</td>\n",
              "      <td>NaN</td>\n",
              "      <td>NaN</td>\n",
              "      <td>NaN</td>\n",
              "      <td>NaN</td>\n",
              "      <td>https://pt.wikipedia.org/wiki/Acrot%C3%ADri_e_...</td>\n",
              "    </tr>\n",
              "    <tr>\n",
              "      <th>2</th>\n",
              "      <td>Afeganistão</td>\n",
              "      <td>27657145.0</td>\n",
              "      <td>652090.0</td>\n",
              "      <td>42.413079</td>\n",
              "      <td>Ásia</td>\n",
              "      <td>Ásia meridional</td>\n",
              "      <td>Cabul</td>\n",
              "      <td>Cabul</td>\n",
              "      <td>67681.0</td>\n",
              "      <td>21122.0</td>\n",
              "      <td>...</td>\n",
              "      <td>NaN</td>\n",
              "      <td>NaN</td>\n",
              "      <td>NaN</td>\n",
              "      <td>NaN</td>\n",
              "      <td>2.0</td>\n",
              "      <td>NaN</td>\n",
              "      <td>NaN</td>\n",
              "      <td>2.0</td>\n",
              "      <td>NaN</td>\n",
              "      <td>https://pt.wikipedia.org/wiki/Afeganist%C3%A3o</td>\n",
              "    </tr>\n",
              "    <tr>\n",
              "      <th>3</th>\n",
              "      <td>África do Sul</td>\n",
              "      <td>55908000.0</td>\n",
              "      <td>1221037.0</td>\n",
              "      <td>45.787310</td>\n",
              "      <td>África</td>\n",
              "      <td>África austral</td>\n",
              "      <td>Pretória</td>\n",
              "      <td>Joanesburgo</td>\n",
              "      <td>758123.0</td>\n",
              "      <td>349819.0</td>\n",
              "      <td>...</td>\n",
              "      <td>NaN</td>\n",
              "      <td>NaN</td>\n",
              "      <td>NaN</td>\n",
              "      <td>10.0</td>\n",
              "      <td>70.0</td>\n",
              "      <td>NaN</td>\n",
              "      <td>NaN</td>\n",
              "      <td>8.0</td>\n",
              "      <td>8.0</td>\n",
              "      <td>https://pt.wikipedia.org/wiki/%C3%81frica_do_Sul</td>\n",
              "    </tr>\n",
              "    <tr>\n",
              "      <th>4</th>\n",
              "      <td>Albânia</td>\n",
              "      <td>2886026.0</td>\n",
              "      <td>28748.0</td>\n",
              "      <td>100.390497</td>\n",
              "      <td>Europa</td>\n",
              "      <td>Europa meridional</td>\n",
              "      <td>Tirana</td>\n",
              "      <td>Tirana</td>\n",
              "      <td>36241.0</td>\n",
              "      <td>13413.0</td>\n",
              "      <td>...</td>\n",
              "      <td>NaN</td>\n",
              "      <td>NaN</td>\n",
              "      <td>NaN</td>\n",
              "      <td>2.0</td>\n",
              "      <td>NaN</td>\n",
              "      <td>NaN</td>\n",
              "      <td>NaN</td>\n",
              "      <td>2.0</td>\n",
              "      <td>NaN</td>\n",
              "      <td>https://pt.wikipedia.org/wiki/Alb%C3%A2nia</td>\n",
              "    </tr>\n",
              "  </tbody>\n",
              "</table>\n",
              "<p>5 rows × 35 columns</p>\n",
              "</div>"
            ],
            "text/plain": [
              "       País/território   População  Área em Km2   Densidade Continente  \\\n",
              "0               Acores    245746.0       2333.0  105.334762     África   \n",
              "1  Acrotiri e Deceleia         NaN        254.0    0.000000     Europa   \n",
              "2          Afeganistão  27657145.0     652090.0   42.413079       Ásia   \n",
              "3        África do Sul  55908000.0    1221037.0   45.787310     África   \n",
              "4              Albânia   2886026.0      28748.0  100.390497     Europa   \n",
              "\n",
              "              Região        Capital Maior cidade   PIB PPC  PIB nominal  \\\n",
              "0    Norte da África  Ponta Delgada          NaN       NaN          NaN   \n",
              "1  Europa meridional       Episcópi     Episcópi       NaN          NaN   \n",
              "2    Ásia meridional          Cabul        Cabul   67681.0      21122.0   \n",
              "3     África austral       Pretória  Joanesburgo  758123.0     349819.0   \n",
              "4  Europa meridional         Tirana       Tirana   36241.0      13413.0   \n",
              "\n",
              "                         ...                          Pequeno país?  Insular?  \\\n",
              "0                        ...                                    NaN         s   \n",
              "1                        ...                                    Sim       NaN   \n",
              "2                        ...                                    NaN       NaN   \n",
              "3                        ...                                    NaN       NaN   \n",
              "4                        ...                                    NaN       NaN   \n",
              "\n",
              "   Transcontinental?  Prêmios Nobel Medalhas olímpicas União Europeia  \\\n",
              "0                NaN            NaN                NaN            NaN   \n",
              "1                NaN            NaN                NaN            NaN   \n",
              "2                NaN            NaN                2.0            NaN   \n",
              "3                NaN           10.0               70.0            NaN   \n",
              "4                NaN            2.0                NaN            NaN   \n",
              "\n",
              "  Zona do euro Patrimônios da Unesco 1000 lugares  \\\n",
              "0          NaN                   NaN          NaN   \n",
              "1          NaN                   NaN          NaN   \n",
              "2          NaN                   2.0          NaN   \n",
              "3          NaN                   8.0          8.0   \n",
              "4          NaN                   2.0          NaN   \n",
              "\n",
              "                                       URL Wikipedia  \n",
              "0          https://pt.wikipedia.org/wiki/A%C3%A7ores  \n",
              "1  https://pt.wikipedia.org/wiki/Acrot%C3%ADri_e_...  \n",
              "2     https://pt.wikipedia.org/wiki/Afeganist%C3%A3o  \n",
              "3   https://pt.wikipedia.org/wiki/%C3%81frica_do_Sul  \n",
              "4         https://pt.wikipedia.org/wiki/Alb%C3%A2nia  \n",
              "\n",
              "[5 rows x 35 columns]"
            ]
          },
          "metadata": {
            "tags": []
          },
          "execution_count": 69
        }
      ]
    },
    {
      "metadata": {
        "id": "7uFQQK7C7cQG",
        "colab_type": "code",
        "colab": {
          "base_uri": "https://localhost:8080/",
          "height": 35
        },
        "outputId": "5ef1c305-063f-4be5-c72a-07d4f8dc65f1"
      },
      "cell_type": "code",
      "source": [
        "# Display current directory\n",
        "import os\n",
        "print(os.getcwd())"
      ],
      "execution_count": 21,
      "outputs": [
        {
          "output_type": "stream",
          "text": [
            "/content\n"
          ],
          "name": "stdout"
        }
      ]
    },
    {
      "metadata": {
        "id": "OBoboNWo_L3R",
        "colab_type": "code",
        "colab": {
          "base_uri": "https://localhost:8080/",
          "height": 35
        },
        "outputId": "e761b923-0570-4cf2-dae1-eff545210a12"
      },
      "cell_type": "code",
      "source": [
        "# Display all of the files found in your current working directory\n",
        "print(os.listdir(os.getcwd()))"
      ],
      "execution_count": 23,
      "outputs": [
        {
          "output_type": "stream",
          "text": [
            "['sample_data', '.config', 'gdrive']\n"
          ],
          "name": "stdout"
        }
      ]
    },
    {
      "metadata": {
        "id": "y0SCyPYuBuou",
        "colab_type": "code",
        "colab": {
          "base_uri": "https://localhost:8080/",
          "height": 672
        },
        "outputId": "10d94f29-01ec-4c99-9fb2-6e850685be1f"
      },
      "cell_type": "code",
      "source": [
        "# Display column types\n",
        "df_world.dtypes"
      ],
      "execution_count": 24,
      "outputs": [
        {
          "output_type": "execute_result",
          "data": {
            "text/plain": [
              "País/território              object\n",
              "População                   float64\n",
              "Área em Km2                 float64\n",
              "Densidade                   float64\n",
              "Continente                   object\n",
              "Região                       object\n",
              "Capital                      object\n",
              "Maior cidade                 object\n",
              "PIB PPC                     float64\n",
              "PIB nominal                 float64\n",
              "PIB nominal per capita      float64\n",
              "PIB PPC per capita          float64\n",
              "GINI                        float64\n",
              "IDH                         float64\n",
              "Moeda                        object\n",
              "Nome em inglês               object\n",
              "Nome local                   object\n",
              "Códio ISO                    object\n",
              "Código telefônico            object\n",
              "Domínio de Internet          object\n",
              "Membro da ONU               float64\n",
              "Membro do COI               float64\n",
              "Membro da FIFA              float64\n",
              "Não soberano vinculado a     object\n",
              "Situação de soberania        object\n",
              "Pequeno país?                object\n",
              "Insular?                     object\n",
              "Transcontinental?            object\n",
              "Prêmios Nobel               float64\n",
              "Medalhas olímpicas          float64\n",
              "União Europeia               object\n",
              "Zona do euro                 object\n",
              "Patrimônios da Unesco       float64\n",
              "1000 lugares                float64\n",
              "URL Wikipedia                object\n",
              "dtype: object"
            ]
          },
          "metadata": {
            "tags": []
          },
          "execution_count": 24
        }
      ]
    },
    {
      "metadata": {
        "id": "OGgDv1BrXs1O",
        "colab_type": "code",
        "colab": {}
      },
      "cell_type": "code",
      "source": [
        "import matplotlib.pyplot as plt"
      ],
      "execution_count": 0,
      "outputs": []
    },
    {
      "metadata": {
        "id": "QwZHEQaicIjI",
        "colab_type": "code",
        "outputId": "ae2b58e4-bccd-476b-d7ef-54accc3ec56f",
        "colab": {
          "base_uri": "https://localhost:8080/",
          "height": 368
        }
      },
      "cell_type": "code",
      "source": [
        "# Rename column in a Dataframe\n",
        "\n",
        "df_world=df_world.rename(columns = {'País/território':'Territorio'})\n",
        "df_world=df_world.rename(columns = {'População':'Populacao'})\n",
        "df_world=df_world.rename(columns = {'PIB nominal per capita':'PIB_per_cap'})\n",
        "df_world=df_world.rename(columns = {'Área em Km2':'Area_Km2'})\n",
        "\n",
        "df_world.head()"
      ],
      "execution_count": 70,
      "outputs": [
        {
          "output_type": "execute_result",
          "data": {
            "text/html": [
              "<div>\n",
              "<style scoped>\n",
              "    .dataframe tbody tr th:only-of-type {\n",
              "        vertical-align: middle;\n",
              "    }\n",
              "\n",
              "    .dataframe tbody tr th {\n",
              "        vertical-align: top;\n",
              "    }\n",
              "\n",
              "    .dataframe thead th {\n",
              "        text-align: right;\n",
              "    }\n",
              "</style>\n",
              "<table border=\"1\" class=\"dataframe\">\n",
              "  <thead>\n",
              "    <tr style=\"text-align: right;\">\n",
              "      <th></th>\n",
              "      <th>Territorio</th>\n",
              "      <th>Populacao</th>\n",
              "      <th>Area_Km2</th>\n",
              "      <th>Densidade</th>\n",
              "      <th>Continente</th>\n",
              "      <th>Região</th>\n",
              "      <th>Capital</th>\n",
              "      <th>Maior cidade</th>\n",
              "      <th>PIB PPC</th>\n",
              "      <th>PIB nominal</th>\n",
              "      <th>...</th>\n",
              "      <th>Pequeno país?</th>\n",
              "      <th>Insular?</th>\n",
              "      <th>Transcontinental?</th>\n",
              "      <th>Prêmios Nobel</th>\n",
              "      <th>Medalhas olímpicas</th>\n",
              "      <th>União Europeia</th>\n",
              "      <th>Zona do euro</th>\n",
              "      <th>Patrimônios da Unesco</th>\n",
              "      <th>1000 lugares</th>\n",
              "      <th>URL Wikipedia</th>\n",
              "    </tr>\n",
              "  </thead>\n",
              "  <tbody>\n",
              "    <tr>\n",
              "      <th>0</th>\n",
              "      <td>Acores</td>\n",
              "      <td>245746.0</td>\n",
              "      <td>2333.0</td>\n",
              "      <td>105.334762</td>\n",
              "      <td>África</td>\n",
              "      <td>Norte da África</td>\n",
              "      <td>Ponta Delgada</td>\n",
              "      <td>NaN</td>\n",
              "      <td>NaN</td>\n",
              "      <td>NaN</td>\n",
              "      <td>...</td>\n",
              "      <td>NaN</td>\n",
              "      <td>s</td>\n",
              "      <td>NaN</td>\n",
              "      <td>NaN</td>\n",
              "      <td>NaN</td>\n",
              "      <td>NaN</td>\n",
              "      <td>NaN</td>\n",
              "      <td>NaN</td>\n",
              "      <td>NaN</td>\n",
              "      <td>https://pt.wikipedia.org/wiki/A%C3%A7ores</td>\n",
              "    </tr>\n",
              "    <tr>\n",
              "      <th>1</th>\n",
              "      <td>Acrotiri e Deceleia</td>\n",
              "      <td>NaN</td>\n",
              "      <td>254.0</td>\n",
              "      <td>0.000000</td>\n",
              "      <td>Europa</td>\n",
              "      <td>Europa meridional</td>\n",
              "      <td>Episcópi</td>\n",
              "      <td>Episcópi</td>\n",
              "      <td>NaN</td>\n",
              "      <td>NaN</td>\n",
              "      <td>...</td>\n",
              "      <td>Sim</td>\n",
              "      <td>NaN</td>\n",
              "      <td>NaN</td>\n",
              "      <td>NaN</td>\n",
              "      <td>NaN</td>\n",
              "      <td>NaN</td>\n",
              "      <td>NaN</td>\n",
              "      <td>NaN</td>\n",
              "      <td>NaN</td>\n",
              "      <td>https://pt.wikipedia.org/wiki/Acrot%C3%ADri_e_...</td>\n",
              "    </tr>\n",
              "    <tr>\n",
              "      <th>2</th>\n",
              "      <td>Afeganistão</td>\n",
              "      <td>27657145.0</td>\n",
              "      <td>652090.0</td>\n",
              "      <td>42.413079</td>\n",
              "      <td>Ásia</td>\n",
              "      <td>Ásia meridional</td>\n",
              "      <td>Cabul</td>\n",
              "      <td>Cabul</td>\n",
              "      <td>67681.0</td>\n",
              "      <td>21122.0</td>\n",
              "      <td>...</td>\n",
              "      <td>NaN</td>\n",
              "      <td>NaN</td>\n",
              "      <td>NaN</td>\n",
              "      <td>NaN</td>\n",
              "      <td>2.0</td>\n",
              "      <td>NaN</td>\n",
              "      <td>NaN</td>\n",
              "      <td>2.0</td>\n",
              "      <td>NaN</td>\n",
              "      <td>https://pt.wikipedia.org/wiki/Afeganist%C3%A3o</td>\n",
              "    </tr>\n",
              "    <tr>\n",
              "      <th>3</th>\n",
              "      <td>África do Sul</td>\n",
              "      <td>55908000.0</td>\n",
              "      <td>1221037.0</td>\n",
              "      <td>45.787310</td>\n",
              "      <td>África</td>\n",
              "      <td>África austral</td>\n",
              "      <td>Pretória</td>\n",
              "      <td>Joanesburgo</td>\n",
              "      <td>758123.0</td>\n",
              "      <td>349819.0</td>\n",
              "      <td>...</td>\n",
              "      <td>NaN</td>\n",
              "      <td>NaN</td>\n",
              "      <td>NaN</td>\n",
              "      <td>10.0</td>\n",
              "      <td>70.0</td>\n",
              "      <td>NaN</td>\n",
              "      <td>NaN</td>\n",
              "      <td>8.0</td>\n",
              "      <td>8.0</td>\n",
              "      <td>https://pt.wikipedia.org/wiki/%C3%81frica_do_Sul</td>\n",
              "    </tr>\n",
              "    <tr>\n",
              "      <th>4</th>\n",
              "      <td>Albânia</td>\n",
              "      <td>2886026.0</td>\n",
              "      <td>28748.0</td>\n",
              "      <td>100.390497</td>\n",
              "      <td>Europa</td>\n",
              "      <td>Europa meridional</td>\n",
              "      <td>Tirana</td>\n",
              "      <td>Tirana</td>\n",
              "      <td>36241.0</td>\n",
              "      <td>13413.0</td>\n",
              "      <td>...</td>\n",
              "      <td>NaN</td>\n",
              "      <td>NaN</td>\n",
              "      <td>NaN</td>\n",
              "      <td>2.0</td>\n",
              "      <td>NaN</td>\n",
              "      <td>NaN</td>\n",
              "      <td>NaN</td>\n",
              "      <td>2.0</td>\n",
              "      <td>NaN</td>\n",
              "      <td>https://pt.wikipedia.org/wiki/Alb%C3%A2nia</td>\n",
              "    </tr>\n",
              "  </tbody>\n",
              "</table>\n",
              "<p>5 rows × 35 columns</p>\n",
              "</div>"
            ],
            "text/plain": [
              "            Territorio   Populacao   Area_Km2   Densidade Continente  \\\n",
              "0               Acores    245746.0     2333.0  105.334762     África   \n",
              "1  Acrotiri e Deceleia         NaN      254.0    0.000000     Europa   \n",
              "2          Afeganistão  27657145.0   652090.0   42.413079       Ásia   \n",
              "3        África do Sul  55908000.0  1221037.0   45.787310     África   \n",
              "4              Albânia   2886026.0    28748.0  100.390497     Europa   \n",
              "\n",
              "              Região        Capital Maior cidade   PIB PPC  PIB nominal  \\\n",
              "0    Norte da África  Ponta Delgada          NaN       NaN          NaN   \n",
              "1  Europa meridional       Episcópi     Episcópi       NaN          NaN   \n",
              "2    Ásia meridional          Cabul        Cabul   67681.0      21122.0   \n",
              "3     África austral       Pretória  Joanesburgo  758123.0     349819.0   \n",
              "4  Europa meridional         Tirana       Tirana   36241.0      13413.0   \n",
              "\n",
              "                         ...                          Pequeno país?  Insular?  \\\n",
              "0                        ...                                    NaN         s   \n",
              "1                        ...                                    Sim       NaN   \n",
              "2                        ...                                    NaN       NaN   \n",
              "3                        ...                                    NaN       NaN   \n",
              "4                        ...                                    NaN       NaN   \n",
              "\n",
              "   Transcontinental?  Prêmios Nobel Medalhas olímpicas União Europeia  \\\n",
              "0                NaN            NaN                NaN            NaN   \n",
              "1                NaN            NaN                NaN            NaN   \n",
              "2                NaN            NaN                2.0            NaN   \n",
              "3                NaN           10.0               70.0            NaN   \n",
              "4                NaN            2.0                NaN            NaN   \n",
              "\n",
              "  Zona do euro Patrimônios da Unesco 1000 lugares  \\\n",
              "0          NaN                   NaN          NaN   \n",
              "1          NaN                   NaN          NaN   \n",
              "2          NaN                   2.0          NaN   \n",
              "3          NaN                   8.0          8.0   \n",
              "4          NaN                   2.0          NaN   \n",
              "\n",
              "                                       URL Wikipedia  \n",
              "0          https://pt.wikipedia.org/wiki/A%C3%A7ores  \n",
              "1  https://pt.wikipedia.org/wiki/Acrot%C3%ADri_e_...  \n",
              "2     https://pt.wikipedia.org/wiki/Afeganist%C3%A3o  \n",
              "3   https://pt.wikipedia.org/wiki/%C3%81frica_do_Sul  \n",
              "4         https://pt.wikipedia.org/wiki/Alb%C3%A2nia  \n",
              "\n",
              "[5 rows x 35 columns]"
            ]
          },
          "metadata": {
            "tags": []
          },
          "execution_count": 70
        }
      ]
    },
    {
      "metadata": {
        "id": "ciUrpswNam53",
        "colab_type": "code",
        "outputId": "3b767795-f6b1-41cb-aeda-9813c3aa6da0",
        "colab": {
          "base_uri": "https://localhost:8080/",
          "height": 198
        }
      },
      "cell_type": "code",
      "source": [
        "# Create new parcial dataframe with two columns\n",
        "dfw_1 = df_world[['Territorio', 'Populacao']].copy()\n",
        "dfw_1.head()"
      ],
      "execution_count": 27,
      "outputs": [
        {
          "output_type": "execute_result",
          "data": {
            "text/html": [
              "<div>\n",
              "<style scoped>\n",
              "    .dataframe tbody tr th:only-of-type {\n",
              "        vertical-align: middle;\n",
              "    }\n",
              "\n",
              "    .dataframe tbody tr th {\n",
              "        vertical-align: top;\n",
              "    }\n",
              "\n",
              "    .dataframe thead th {\n",
              "        text-align: right;\n",
              "    }\n",
              "</style>\n",
              "<table border=\"1\" class=\"dataframe\">\n",
              "  <thead>\n",
              "    <tr style=\"text-align: right;\">\n",
              "      <th></th>\n",
              "      <th>Territorio</th>\n",
              "      <th>Populacao</th>\n",
              "    </tr>\n",
              "  </thead>\n",
              "  <tbody>\n",
              "    <tr>\n",
              "      <th>0</th>\n",
              "      <td>Acores</td>\n",
              "      <td>245746.0</td>\n",
              "    </tr>\n",
              "    <tr>\n",
              "      <th>1</th>\n",
              "      <td>Acrotiri e Deceleia</td>\n",
              "      <td>NaN</td>\n",
              "    </tr>\n",
              "    <tr>\n",
              "      <th>2</th>\n",
              "      <td>Afeganistão</td>\n",
              "      <td>27657145.0</td>\n",
              "    </tr>\n",
              "    <tr>\n",
              "      <th>3</th>\n",
              "      <td>África do Sul</td>\n",
              "      <td>55908000.0</td>\n",
              "    </tr>\n",
              "    <tr>\n",
              "      <th>4</th>\n",
              "      <td>Albânia</td>\n",
              "      <td>2886026.0</td>\n",
              "    </tr>\n",
              "  </tbody>\n",
              "</table>\n",
              "</div>"
            ],
            "text/plain": [
              "            Territorio   Populacao\n",
              "0               Acores    245746.0\n",
              "1  Acrotiri e Deceleia         NaN\n",
              "2          Afeganistão  27657145.0\n",
              "3        África do Sul  55908000.0\n",
              "4              Albânia   2886026.0"
            ]
          },
          "metadata": {
            "tags": []
          },
          "execution_count": 27
        }
      ]
    },
    {
      "metadata": {
        "id": "Yec3DZfuf17_",
        "colab_type": "code",
        "colab": {}
      },
      "cell_type": "code",
      "source": [
        "# Delete row with dummy value (NaN value)\n",
        "dfw_2 = dfw_1.dropna(how='any',axis=0)"
      ],
      "execution_count": 0,
      "outputs": []
    },
    {
      "metadata": {
        "id": "K5z13XNxgeEP",
        "colab_type": "code",
        "outputId": "4bf942ac-e42b-42f7-d54e-167e58b2171c",
        "colab": {
          "base_uri": "https://localhost:8080/",
          "height": 198
        }
      },
      "cell_type": "code",
      "source": [
        "dfw_2.head()"
      ],
      "execution_count": 29,
      "outputs": [
        {
          "output_type": "execute_result",
          "data": {
            "text/html": [
              "<div>\n",
              "<style scoped>\n",
              "    .dataframe tbody tr th:only-of-type {\n",
              "        vertical-align: middle;\n",
              "    }\n",
              "\n",
              "    .dataframe tbody tr th {\n",
              "        vertical-align: top;\n",
              "    }\n",
              "\n",
              "    .dataframe thead th {\n",
              "        text-align: right;\n",
              "    }\n",
              "</style>\n",
              "<table border=\"1\" class=\"dataframe\">\n",
              "  <thead>\n",
              "    <tr style=\"text-align: right;\">\n",
              "      <th></th>\n",
              "      <th>Territorio</th>\n",
              "      <th>Populacao</th>\n",
              "    </tr>\n",
              "  </thead>\n",
              "  <tbody>\n",
              "    <tr>\n",
              "      <th>0</th>\n",
              "      <td>Acores</td>\n",
              "      <td>245746.0</td>\n",
              "    </tr>\n",
              "    <tr>\n",
              "      <th>2</th>\n",
              "      <td>Afeganistão</td>\n",
              "      <td>27657145.0</td>\n",
              "    </tr>\n",
              "    <tr>\n",
              "      <th>3</th>\n",
              "      <td>África do Sul</td>\n",
              "      <td>55908000.0</td>\n",
              "    </tr>\n",
              "    <tr>\n",
              "      <th>4</th>\n",
              "      <td>Albânia</td>\n",
              "      <td>2886026.0</td>\n",
              "    </tr>\n",
              "    <tr>\n",
              "      <th>5</th>\n",
              "      <td>Alemanha</td>\n",
              "      <td>82800000.0</td>\n",
              "    </tr>\n",
              "  </tbody>\n",
              "</table>\n",
              "</div>"
            ],
            "text/plain": [
              "      Territorio   Populacao\n",
              "0         Acores    245746.0\n",
              "2    Afeganistão  27657145.0\n",
              "3  África do Sul  55908000.0\n",
              "4        Albânia   2886026.0\n",
              "5       Alemanha  82800000.0"
            ]
          },
          "metadata": {
            "tags": []
          },
          "execution_count": 29
        }
      ]
    },
    {
      "metadata": {
        "id": "IzIpB_qiiCVk",
        "colab_type": "code",
        "outputId": "e397a259-5f19-4167-d381-ca0c9261371a",
        "colab": {
          "base_uri": "https://localhost:8080/",
          "height": 348
        }
      },
      "cell_type": "code",
      "source": [
        "# Sort a pandas dataframe\n",
        "df_asc = dfw_2.sort_values('Populacao', ascending=False).copy()\n",
        "df_asc.head(10)"
      ],
      "execution_count": 30,
      "outputs": [
        {
          "output_type": "execute_result",
          "data": {
            "text/html": [
              "<div>\n",
              "<style scoped>\n",
              "    .dataframe tbody tr th:only-of-type {\n",
              "        vertical-align: middle;\n",
              "    }\n",
              "\n",
              "    .dataframe tbody tr th {\n",
              "        vertical-align: top;\n",
              "    }\n",
              "\n",
              "    .dataframe thead th {\n",
              "        text-align: right;\n",
              "    }\n",
              "</style>\n",
              "<table border=\"1\" class=\"dataframe\">\n",
              "  <thead>\n",
              "    <tr style=\"text-align: right;\">\n",
              "      <th></th>\n",
              "      <th>Territorio</th>\n",
              "      <th>Populacao</th>\n",
              "    </tr>\n",
              "  </thead>\n",
              "  <tbody>\n",
              "    <tr>\n",
              "      <th>259</th>\n",
              "      <td>Total</td>\n",
              "      <td>7.472356e+09</td>\n",
              "    </tr>\n",
              "    <tr>\n",
              "      <th>47</th>\n",
              "      <td>China</td>\n",
              "      <td>1.382070e+09</td>\n",
              "    </tr>\n",
              "    <tr>\n",
              "      <th>126</th>\n",
              "      <td>Índia</td>\n",
              "      <td>1.313250e+09</td>\n",
              "    </tr>\n",
              "    <tr>\n",
              "      <th>70</th>\n",
              "      <td>Estados Unidos</td>\n",
              "      <td>3.246710e+08</td>\n",
              "    </tr>\n",
              "    <tr>\n",
              "      <th>127</th>\n",
              "      <td>Indonésia</td>\n",
              "      <td>2.605810e+08</td>\n",
              "    </tr>\n",
              "    <tr>\n",
              "      <th>32</th>\n",
              "      <td>Brasil</td>\n",
              "      <td>2.072250e+08</td>\n",
              "    </tr>\n",
              "    <tr>\n",
              "      <th>190</th>\n",
              "      <td>Paquistão</td>\n",
              "      <td>1.966350e+08</td>\n",
              "    </tr>\n",
              "    <tr>\n",
              "      <th>179</th>\n",
              "      <td>Nigéria</td>\n",
              "      <td>1.869880e+08</td>\n",
              "    </tr>\n",
              "    <tr>\n",
              "      <th>21</th>\n",
              "      <td>Bangladesh</td>\n",
              "      <td>1.621050e+08</td>\n",
              "    </tr>\n",
              "    <tr>\n",
              "      <th>208</th>\n",
              "      <td>Rússia</td>\n",
              "      <td>1.468390e+08</td>\n",
              "    </tr>\n",
              "  </tbody>\n",
              "</table>\n",
              "</div>"
            ],
            "text/plain": [
              "         Territorio     Populacao\n",
              "259           Total  7.472356e+09\n",
              "47            China  1.382070e+09\n",
              "126           Índia  1.313250e+09\n",
              "70   Estados Unidos  3.246710e+08\n",
              "127       Indonésia  2.605810e+08\n",
              "32           Brasil  2.072250e+08\n",
              "190       Paquistão  1.966350e+08\n",
              "179         Nigéria  1.869880e+08\n",
              "21       Bangladesh  1.621050e+08\n",
              "208          Rússia  1.468390e+08"
            ]
          },
          "metadata": {
            "tags": []
          },
          "execution_count": 30
        }
      ]
    },
    {
      "metadata": {
        "id": "s8KA6gGdXeiP",
        "colab_type": "code",
        "colab": {}
      },
      "cell_type": "code",
      "source": [
        "# https://matplotlib.org/examples/color/named_colors.html\n",
        "# List of colors\n",
        "color_list = ['red', 'tomato', 'lightsalmon', 'magenta','deepskyblue','palegreen',\n",
        "'plum','cyan', 'darkorange','wheat','seashell',\n",
        "'linen','aliceblue','azure','mintcream', 'oldlace',\n",
        "'floralwhite','honeydew','cornsilk','lightyellow','whitesmoke',\n",
        "'lavender','lightcyan','white','ghostwhite','snow',\n",
        "'oldlace','oldlace','oldlace','oldlace']"
      ],
      "execution_count": 0,
      "outputs": []
    },
    {
      "metadata": {
        "id": "VeJ2aShdjEli",
        "colab_type": "code",
        "colab": {}
      },
      "cell_type": "code",
      "source": [
        "# Delete TOTAL row - Delete specific row\n",
        "# df_asc.drop(df_asc[df_asc.Territorio == 'Total'].index, inplace=True)\n",
        "\n",
        "df_asc = df_asc[df_asc.Territorio != 'Total']\n",
        "df_asc_N = df_asc.head(20).copy()\n",
        "df_asc_N.Populacao = df_asc_N.Populacao / 1000000 # Divide all population by a million\n",
        "df_asc_N.reset_index(drop=True, inplace=True)\n",
        "df_asc_N.head(20)\n",
        "\n",
        "# Sort a pandas dataframe ascending\n",
        "df_asc = df_asc.sort_values('Populacao', ascending=True)\n",
        "df_asc_D = df_asc.head(20).copy()"
      ],
      "execution_count": 0,
      "outputs": []
    },
    {
      "metadata": {
        "id": "LBeV612duuYB",
        "colab_type": "code",
        "colab": {}
      },
      "cell_type": "code",
      "source": [
        "def plot_bar_x(data_plot, x_title, x_label, y_label):\n",
        "    # this is for plotting purpose\n",
        "    fig, ax1 = plt.subplots(1)\n",
        "    fig.suptitle(x_title, fontsize=20)\n",
        "    \n",
        "    x = data_plot.Territorio\n",
        "   \n",
        "    ax1.set_xticklabels(x, rotation=80, \n",
        "                        rotation_mode='anchor', ha='right')\n",
        "    \n",
        "    ax1 = data_plot.plot.bar( x=x, title=x_title,figsize=[12, 6])\n",
        "\n",
        "    ax1.set_xlabel(x_label, fontsize=10)\n",
        "    ax1.set_ylabel(y_label, fontsize=10)\n",
        "\n",
        "    plt.show()"
      ],
      "execution_count": 0,
      "outputs": []
    },
    {
      "metadata": {
        "id": "2zudcshoww2v",
        "colab_type": "code",
        "colab": {}
      },
      "cell_type": "code",
      "source": [
        "def plot_bar_h(data_plot, x_title, x_label, y_label):\n",
        "    # this is for plotting purpose\n",
        "    fig, ax2 = plt.subplots(1)\n",
        "    fig.suptitle(x_title, fontsize=20)\n",
        "    \n",
        "    x = data_plot.Territorio\n",
        "   \n",
        "    ax2.set_xticklabels(x, rotation=80, \n",
        "                        rotation_mode='anchor', ha='right')\n",
        "    \n",
        "    ax2 = data_plot.plot.barh( x=x, title=x_title,figsize=[12, 6])\n",
        "\n",
        "    ax2.set_xlabel(x_label, fontsize=10)\n",
        "    ax2.set_ylabel(y_label, fontsize=10)\n",
        "\n",
        "    plt.show()"
      ],
      "execution_count": 0,
      "outputs": []
    },
    {
      "metadata": {
        "id": "V-dS_EgE5-7a",
        "colab_type": "code",
        "colab": {}
      },
      "cell_type": "code",
      "source": [
        "def plot_bar(data_plot, x_title, x_label, y_label):\n",
        "  fig, ax = plt.subplots(1)\n",
        "  \n",
        "  ax.set_xticklabels(data_plot.index, rotation=90)\n",
        "\n",
        "  fig.suptitle(x_title, fontsize=20)\n",
        "  x=data_plot.index\n",
        "  y=data_plot[data_plot.columns[0]]\n",
        "  \n",
        "  plt.bar(x, y)\n",
        "  ax.set_xlabel(x_label)\n",
        "  ax.set_ylabel(y_label)\n",
        "  plt.show()\n"
      ],
      "execution_count": 0,
      "outputs": []
    },
    {
      "metadata": {
        "id": "TcZLBvS-aek4",
        "colab_type": "code",
        "outputId": "a9edb010-4e2a-45fe-ad37-79f8b0430359",
        "colab": {
          "base_uri": "https://localhost:8080/",
          "height": 973
        }
      },
      "cell_type": "code",
      "source": [
        "# Plot the data\n",
        "# https://www.datacamp.com/community/tutorials/matplotlib-tutorial-python\n",
        "# https://python-graph-gallery.com/barplot/\n",
        "\n",
        "\n",
        "plot_bar_x( df_asc_N, 'Most populous countries (in million)',  'Country', 'Population')"
      ],
      "execution_count": 35,
      "outputs": [
        {
          "output_type": "display_data",
          "data": {
            "image/png": "[encoded data removed]",
            "text/plain": [
              "<matplotlib.figure.Figure at 0x7f1935e726d8>"
            ]
          },
          "metadata": {
            "tags": []
          }
        },
        {
          "output_type": "display_data",
          "data": {
            "image/png": "[encoded data removed]",
            "text/plain": [
              "<matplotlib.figure.Figure at 0x7f1935e7f3c8>"
            ]
          },
          "metadata": {
            "tags": []
          }
        }
      ]
    },
    {
      "metadata": {
        "id": "MPQBtckSk7WC",
        "colab_type": "code",
        "outputId": "03fda39b-ce99-4d28-d950-46671a8fad5d",
        "colab": {
          "base_uri": "https://localhost:8080/",
          "height": 648
        }
      },
      "cell_type": "code",
      "source": [
        "# Less Populous countries\n",
        "df_asc_D"
      ],
      "execution_count": 36,
      "outputs": [
        {
          "output_type": "execute_result",
          "data": {
            "text/html": [
              "<div>\n",
              "<style scoped>\n",
              "    .dataframe tbody tr th:only-of-type {\n",
              "        vertical-align: middle;\n",
              "    }\n",
              "\n",
              "    .dataframe tbody tr th {\n",
              "        vertical-align: top;\n",
              "    }\n",
              "\n",
              "    .dataframe thead th {\n",
              "        text-align: right;\n",
              "    }\n",
              "</style>\n",
              "<table border=\"1\" class=\"dataframe\">\n",
              "  <thead>\n",
              "    <tr style=\"text-align: right;\">\n",
              "      <th></th>\n",
              "      <th>Territorio</th>\n",
              "      <th>Populacao</th>\n",
              "    </tr>\n",
              "  </thead>\n",
              "  <tbody>\n",
              "    <tr>\n",
              "      <th>120</th>\n",
              "      <td>Ilhas Pitcairn</td>\n",
              "      <td>57.0</td>\n",
              "    </tr>\n",
              "    <tr>\n",
              "      <th>113</th>\n",
              "      <td>Ilhas Cocos</td>\n",
              "      <td>550.0</td>\n",
              "    </tr>\n",
              "    <tr>\n",
              "      <th>253</th>\n",
              "      <td>Vaticano</td>\n",
              "      <td>842.0</td>\n",
              "    </tr>\n",
              "    <tr>\n",
              "      <th>124</th>\n",
              "      <td>Ilhas Virgens Americanas</td>\n",
              "      <td>1060.0</td>\n",
              "    </tr>\n",
              "    <tr>\n",
              "      <th>241</th>\n",
              "      <td>Tokelau</td>\n",
              "      <td>1411.0</td>\n",
              "    </tr>\n",
              "    <tr>\n",
              "      <th>180</th>\n",
              "      <td>Niue</td>\n",
              "      <td>1470.0</td>\n",
              "    </tr>\n",
              "    <tr>\n",
              "      <th>107</th>\n",
              "      <td>Ilha do Natal</td>\n",
              "      <td>2072.0</td>\n",
              "    </tr>\n",
              "    <tr>\n",
              "      <th>109</th>\n",
              "      <td>Ilha Norfolk</td>\n",
              "      <td>2302.0</td>\n",
              "    </tr>\n",
              "    <tr>\n",
              "      <th>116</th>\n",
              "      <td>Ilhas Falkland</td>\n",
              "      <td>2563.0</td>\n",
              "    </tr>\n",
              "    <tr>\n",
              "      <th>171</th>\n",
              "      <td>Monserrate</td>\n",
              "      <td>4922.0</td>\n",
              "    </tr>\n",
              "    <tr>\n",
              "      <th>216</th>\n",
              "      <td>São Pedro e Miquelon</td>\n",
              "      <td>6286.0</td>\n",
              "    </tr>\n",
              "    <tr>\n",
              "      <th>175</th>\n",
              "      <td>Nauru</td>\n",
              "      <td>10084.0</td>\n",
              "    </tr>\n",
              "    <tr>\n",
              "      <th>247</th>\n",
              "      <td>Tuvalu</td>\n",
              "      <td>10640.0</td>\n",
              "    </tr>\n",
              "    <tr>\n",
              "      <th>256</th>\n",
              "      <td>Wallis e Futuna</td>\n",
              "      <td>11750.0</td>\n",
              "    </tr>\n",
              "    <tr>\n",
              "      <th>8</th>\n",
              "      <td>Anguila</td>\n",
              "      <td>13452.0</td>\n",
              "    </tr>\n",
              "    <tr>\n",
              "      <th>186</th>\n",
              "      <td>Palau</td>\n",
              "      <td>17950.0</td>\n",
              "    </tr>\n",
              "    <tr>\n",
              "      <th>114</th>\n",
              "      <td>Ilhas Cook</td>\n",
              "      <td>18100.0</td>\n",
              "    </tr>\n",
              "    <tr>\n",
              "      <th>213</th>\n",
              "      <td>Santa Lúcia</td>\n",
              "      <td>18600.0</td>\n",
              "    </tr>\n",
              "    <tr>\n",
              "      <th>125</th>\n",
              "      <td>Ilhas Virgens Britânicas</td>\n",
              "      <td>28514.0</td>\n",
              "    </tr>\n",
              "    <tr>\n",
              "      <th>123</th>\n",
              "      <td>Ilhas Turcas e Caicos</td>\n",
              "      <td>31458.0</td>\n",
              "    </tr>\n",
              "  </tbody>\n",
              "</table>\n",
              "</div>"
            ],
            "text/plain": [
              "                   Territorio  Populacao\n",
              "120            Ilhas Pitcairn       57.0\n",
              "113               Ilhas Cocos      550.0\n",
              "253                  Vaticano      842.0\n",
              "124  Ilhas Virgens Americanas     1060.0\n",
              "241                   Tokelau     1411.0\n",
              "180                      Niue     1470.0\n",
              "107             Ilha do Natal     2072.0\n",
              "109              Ilha Norfolk     2302.0\n",
              "116            Ilhas Falkland     2563.0\n",
              "171                Monserrate     4922.0\n",
              "216      São Pedro e Miquelon     6286.0\n",
              "175                     Nauru    10084.0\n",
              "247                    Tuvalu    10640.0\n",
              "256           Wallis e Futuna    11750.0\n",
              "8                     Anguila    13452.0\n",
              "186                     Palau    17950.0\n",
              "114                Ilhas Cook    18100.0\n",
              "213               Santa Lúcia    18600.0\n",
              "125  Ilhas Virgens Britânicas    28514.0\n",
              "123     Ilhas Turcas e Caicos    31458.0"
            ]
          },
          "metadata": {
            "tags": []
          },
          "execution_count": 36
        }
      ]
    },
    {
      "metadata": {
        "id": "8g-Lg9Xmlsiu",
        "colab_type": "code",
        "outputId": "57868417-2279-4f6d-c4fe-ba30935c8a2b",
        "colab": {
          "base_uri": "https://localhost:8080/",
          "height": 978
        }
      },
      "cell_type": "code",
      "source": [
        "plot_bar_x( df_asc_D, 'Less populous countries (number persons)',  'Country', 'Population')"
      ],
      "execution_count": 37,
      "outputs": [
        {
          "output_type": "display_data",
          "data": {
            "image/png": "[encoded data removed]",
            "text/plain": [
              "<matplotlib.figure.Figure at 0x7f1935d7ae80>"
            ]
          },
          "metadata": {
            "tags": []
          }
        },
        {
          "output_type": "display_data",
          "data": {
            "image/png": "[encoded data removed]",
            "text/plain": [
              "<matplotlib.figure.Figure at 0x7f19334bc358>"
            ]
          },
          "metadata": {
            "tags": []
          }
        }
      ]
    },
    {
      "metadata": {
        "id": "bLAWL1SL75lI",
        "colab_type": "code",
        "outputId": "a967a881-b387-4080-93d8-a1e1fa822e25",
        "colab": {
          "base_uri": "https://localhost:8080/",
          "height": 678
        }
      },
      "cell_type": "code",
      "source": [
        "pop_by_country = df_asc_N.groupby('Territorio').sum()\n",
        "pop_by_country2  = pop_by_country.sort_values(['Populacao'],ascending=False)\n",
        "pop_by_country2 "
      ],
      "execution_count": 47,
      "outputs": [
        {
          "output_type": "execute_result",
          "data": {
            "text/html": [
              "<div>\n",
              "<style scoped>\n",
              "    .dataframe tbody tr th:only-of-type {\n",
              "        vertical-align: middle;\n",
              "    }\n",
              "\n",
              "    .dataframe tbody tr th {\n",
              "        vertical-align: top;\n",
              "    }\n",
              "\n",
              "    .dataframe thead th {\n",
              "        text-align: right;\n",
              "    }\n",
              "</style>\n",
              "<table border=\"1\" class=\"dataframe\">\n",
              "  <thead>\n",
              "    <tr style=\"text-align: right;\">\n",
              "      <th></th>\n",
              "      <th>Populacao</th>\n",
              "    </tr>\n",
              "    <tr>\n",
              "      <th>Territorio</th>\n",
              "      <th></th>\n",
              "    </tr>\n",
              "  </thead>\n",
              "  <tbody>\n",
              "    <tr>\n",
              "      <th>China</th>\n",
              "      <td>1382.070000</td>\n",
              "    </tr>\n",
              "    <tr>\n",
              "      <th>Índia</th>\n",
              "      <td>1313.250000</td>\n",
              "    </tr>\n",
              "    <tr>\n",
              "      <th>Estados Unidos</th>\n",
              "      <td>324.671000</td>\n",
              "    </tr>\n",
              "    <tr>\n",
              "      <th>Indonésia</th>\n",
              "      <td>260.581000</td>\n",
              "    </tr>\n",
              "    <tr>\n",
              "      <th>Brasil</th>\n",
              "      <td>207.225000</td>\n",
              "    </tr>\n",
              "    <tr>\n",
              "      <th>Paquistão</th>\n",
              "      <td>196.635000</td>\n",
              "    </tr>\n",
              "    <tr>\n",
              "      <th>Nigéria</th>\n",
              "      <td>186.988000</td>\n",
              "    </tr>\n",
              "    <tr>\n",
              "      <th>Bangladesh</th>\n",
              "      <td>162.105000</td>\n",
              "    </tr>\n",
              "    <tr>\n",
              "      <th>Rússia</th>\n",
              "      <td>146.838993</td>\n",
              "    </tr>\n",
              "    <tr>\n",
              "      <th>Japão</th>\n",
              "      <td>126.830000</td>\n",
              "    </tr>\n",
              "    <tr>\n",
              "      <th>México</th>\n",
              "      <td>122.273000</td>\n",
              "    </tr>\n",
              "    <tr>\n",
              "      <th>Filipinas</th>\n",
              "      <td>103.743000</td>\n",
              "    </tr>\n",
              "    <tr>\n",
              "      <th>Etiópia</th>\n",
              "      <td>101.853000</td>\n",
              "    </tr>\n",
              "    <tr>\n",
              "      <th>Vietnã</th>\n",
              "      <td>92.700000</td>\n",
              "    </tr>\n",
              "    <tr>\n",
              "      <th>Egito</th>\n",
              "      <td>92.647200</td>\n",
              "    </tr>\n",
              "    <tr>\n",
              "      <th>Alemanha</th>\n",
              "      <td>82.800000</td>\n",
              "    </tr>\n",
              "    <tr>\n",
              "      <th>República Democrática do Congo</th>\n",
              "      <td>82.243000</td>\n",
              "    </tr>\n",
              "    <tr>\n",
              "      <th>Irã</th>\n",
              "      <td>79.980900</td>\n",
              "    </tr>\n",
              "    <tr>\n",
              "      <th>Turquia</th>\n",
              "      <td>79.814871</td>\n",
              "    </tr>\n",
              "    <tr>\n",
              "      <th>Tailândia</th>\n",
              "      <td>68.147000</td>\n",
              "    </tr>\n",
              "  </tbody>\n",
              "</table>\n",
              "</div>"
            ],
            "text/plain": [
              "                                  Populacao\n",
              "Territorio                                 \n",
              "China                           1382.070000\n",
              "Índia                           1313.250000\n",
              "Estados Unidos                   324.671000\n",
              "Indonésia                        260.581000\n",
              "Brasil                           207.225000\n",
              "Paquistão                        196.635000\n",
              "Nigéria                          186.988000\n",
              "Bangladesh                       162.105000\n",
              "Rússia                           146.838993\n",
              "Japão                            126.830000\n",
              "México                           122.273000\n",
              "Filipinas                        103.743000\n",
              "Etiópia                          101.853000\n",
              "Vietnã                            92.700000\n",
              "Egito                             92.647200\n",
              "Alemanha                          82.800000\n",
              "República Democrática do Congo    82.243000\n",
              "Irã                               79.980900\n",
              "Turquia                           79.814871\n",
              "Tailândia                         68.147000"
            ]
          },
          "metadata": {
            "tags": []
          },
          "execution_count": 47
        }
      ]
    },
    {
      "metadata": {
        "id": "XrxWSchZhlrq",
        "colab_type": "code",
        "colab": {}
      },
      "cell_type": "code",
      "source": [
        "data_plot = pop_by_country2\n"
      ],
      "execution_count": 0,
      "outputs": []
    },
    {
      "metadata": {
        "id": "gTNY50vaLYDt",
        "colab_type": "code",
        "outputId": "f85385a2-b082-4858-fa19-6023b2c2c35b",
        "colab": {
          "base_uri": "https://localhost:8080/",
          "height": 54
        }
      },
      "cell_type": "code",
      "source": [
        "# Verify column types\n",
        "data_plot.dtypes"
      ],
      "execution_count": 49,
      "outputs": [
        {
          "output_type": "execute_result",
          "data": {
            "text/plain": [
              "Populacao    float64\n",
              "dtype: object"
            ]
          },
          "metadata": {
            "tags": []
          },
          "execution_count": 49
        }
      ]
    },
    {
      "metadata": {
        "id": "wIHrfu2vNB_q",
        "colab_type": "code",
        "outputId": "1511fc1d-4ee8-4a42-a18f-92e1fb1f703d",
        "colab": {
          "base_uri": "https://localhost:8080/",
          "height": 108
        }
      },
      "cell_type": "code",
      "source": [
        "index = np.arange(len(data_plot.index))\n",
        "index\n",
        "data_plot.index"
      ],
      "execution_count": 50,
      "outputs": [
        {
          "output_type": "execute_result",
          "data": {
            "text/plain": [
              "Index(['China', 'Índia', 'Estados Unidos', 'Indonésia', 'Brasil', 'Paquistão',\n",
              "       'Nigéria', 'Bangladesh', 'Rússia', 'Japão', 'México', 'Filipinas',\n",
              "       'Etiópia', 'Vietnã', 'Egito', 'Alemanha',\n",
              "       'República Democrática do Congo', 'Irã', 'Turquia', 'Tailândia'],\n",
              "      dtype='object', name='Territorio')"
            ]
          },
          "metadata": {
            "tags": []
          },
          "execution_count": 50
        }
      ]
    },
    {
      "metadata": {
        "id": "Z3b5fmnVNsb3",
        "colab_type": "code",
        "outputId": "6d6ebec3-ebfe-4d9d-d945-89e84c7018d2",
        "colab": {
          "base_uri": "https://localhost:8080/",
          "height": 417
        }
      },
      "cell_type": "code",
      "source": [
        "data_plot.Populacao"
      ],
      "execution_count": 51,
      "outputs": [
        {
          "output_type": "execute_result",
          "data": {
            "text/plain": [
              "Territorio\n",
              "China                             1382.070000\n",
              "Índia                             1313.250000\n",
              "Estados Unidos                     324.671000\n",
              "Indonésia                          260.581000\n",
              "Brasil                             207.225000\n",
              "Paquistão                          196.635000\n",
              "Nigéria                            186.988000\n",
              "Bangladesh                         162.105000\n",
              "Rússia                             146.838993\n",
              "Japão                              126.830000\n",
              "México                             122.273000\n",
              "Filipinas                          103.743000\n",
              "Etiópia                            101.853000\n",
              "Vietnã                              92.700000\n",
              "Egito                               92.647200\n",
              "Alemanha                            82.800000\n",
              "República Democrática do Congo      82.243000\n",
              "Irã                                 79.980900\n",
              "Turquia                             79.814871\n",
              "Tailândia                           68.147000\n",
              "Name: Populacao, dtype: float64"
            ]
          },
          "metadata": {
            "tags": []
          },
          "execution_count": 51
        }
      ]
    },
    {
      "metadata": {
        "id": "gX3Ma_3VRMnQ",
        "colab_type": "code",
        "outputId": "17c35785-ca55-4d44-e60b-f2070728a53a",
        "colab": {
          "base_uri": "https://localhost:8080/",
          "height": 108
        }
      },
      "cell_type": "code",
      "source": [
        "xticks=data_plot.index\n",
        "xticks"
      ],
      "execution_count": 55,
      "outputs": [
        {
          "output_type": "execute_result",
          "data": {
            "text/plain": [
              "Index(['China', 'Índia', 'Estados Unidos', 'Indonésia', 'Brasil', 'Paquistão',\n",
              "       'Nigéria', 'Bangladesh', 'Rússia', 'Japão', 'México', 'Filipinas',\n",
              "       'Etiópia', 'Vietnã', 'Egito', 'Alemanha',\n",
              "       'República Democrática do Congo', 'Irã', 'Turquia', 'Tailândia'],\n",
              "      dtype='object', name='Territorio')"
            ]
          },
          "metadata": {
            "tags": []
          },
          "execution_count": 55
        }
      ]
    },
    {
      "metadata": {
        "id": "r2anttNnCJYD",
        "colab_type": "code",
        "outputId": "c26c8c85-90e3-44ca-bbf9-6b79ad5adc9e",
        "colab": {
          "base_uri": "https://localhost:8080/",
          "height": 955
        }
      },
      "cell_type": "code",
      "source": [
        "# Plotting the Graph\n",
        "\n",
        "ax = data_plot.plot( title='Population by country (million)',figsize=[12, 6])\n",
        "\n",
        "ax.set_xticklabels(data_plot.index, rotation=80, rotation_mode='anchor', \n",
        "                   ha='right')\n",
        "x =data_plot.index\n",
        "ax.set_xlabel('Country')\n",
        "ax.set_ylabel('Population')\n",
        "\n",
        "\n",
        "plt.xticks(range(20), x, fontsize=12, rotation=90)"
      ],
      "execution_count": 54,
      "outputs": [
        {
          "output_type": "execute_result",
          "data": {
            "text/plain": [
              "([<matplotlib.axis.XTick at 0x7f193337d828>,\n",
              "  <matplotlib.axis.XTick at 0x7f1935d89080>,\n",
              "  <matplotlib.axis.XTick at 0x7f19334edef0>,\n",
              "  <matplotlib.axis.XTick at 0x7f1935e0ab00>,\n",
              "  <matplotlib.axis.XTick at 0x7f1935e0ae80>,\n",
              "  <matplotlib.axis.XTick at 0x7f1935e035c0>,\n",
              "  <matplotlib.axis.XTick at 0x7f1935e03cc0>,\n",
              "  <matplotlib.axis.XTick at 0x7f1935df9400>,\n",
              "  <matplotlib.axis.XTick at 0x7f1935df9b00>,\n",
              "  <matplotlib.axis.XTick at 0x7f1935e062b0>,\n",
              "  <matplotlib.axis.XTick at 0x7f19334c0710>,\n",
              "  <matplotlib.axis.XTick at 0x7f1935e06048>,\n",
              "  <matplotlib.axis.XTick at 0x7f1935e0a6d8>,\n",
              "  <matplotlib.axis.XTick at 0x7f1933381278>,\n",
              "  <matplotlib.axis.XTick at 0x7f19333819e8>,\n",
              "  <matplotlib.axis.XTick at 0x7f1935e167f0>,\n",
              "  <matplotlib.axis.XTick at 0x7f1935e039b0>,\n",
              "  <matplotlib.axis.XTick at 0x7f1933388828>,\n",
              "  <matplotlib.axis.XTick at 0x7f1933388f98>,\n",
              "  <matplotlib.axis.XTick at 0x7f193338b748>],\n",
              " <a list of 20 Text xticklabel objects>)"
            ]
          },
          "metadata": {
            "tags": []
          },
          "execution_count": 54
        },
        {
          "output_type": "display_data",
          "data": {
            "image/png": "[encoded data removed]",
            "text/plain": [
              "<matplotlib.figure.Figure at 0x7f1935d884e0>"
            ]
          },
          "metadata": {
            "tags": []
          }
        }
      ]
    },
    {
      "metadata": {
        "id": "1bTY-yKkBRWm",
        "colab_type": "code",
        "outputId": "25e8adc4-5441-4a93-966f-81b506e1d63b",
        "colab": {
          "base_uri": "https://localhost:8080/",
          "height": 539
        }
      },
      "cell_type": "code",
      "source": [
        "plot_bar(data_plot,'Population by Country ', 'Country', 'Population')"
      ],
      "execution_count": 56,
      "outputs": [
        {
          "output_type": "display_data",
          "data": {
            "image/png": "[encoded data removed]",
            "text/plain": [
              "<matplotlib.figure.Figure at 0x7f193624eda0>"
            ]
          },
          "metadata": {
            "tags": []
          }
        }
      ]
    },
    {
      "metadata": {
        "id": "kVC_cDjHdCsd",
        "colab_type": "code",
        "outputId": "5d1c0a01-34c7-408f-f791-35ce73aa8f32",
        "colab": {
          "base_uri": "https://localhost:8080/",
          "height": 417
        }
      },
      "cell_type": "code",
      "source": [
        "data_plot[data_plot.columns[0]]"
      ],
      "execution_count": 0,
      "outputs": [
        {
          "output_type": "execute_result",
          "data": {
            "text/plain": [
              "Territorio\n",
              "China                             1382.070000\n",
              "Índia                             1313.250000\n",
              "Estados Unidos                     324.671000\n",
              "Indonésia                          260.581000\n",
              "Brasil                             207.225000\n",
              "Paquistão                          196.635000\n",
              "Nigéria                            186.988000\n",
              "Bangladesh                         162.105000\n",
              "Rússia                             146.838993\n",
              "Japão                              126.830000\n",
              "México                             122.273000\n",
              "Filipinas                          103.743000\n",
              "Etiópia                            101.853000\n",
              "Vietnã                              92.700000\n",
              "Egito                               92.647200\n",
              "Alemanha                            82.800000\n",
              "República Democrática do Congo      82.243000\n",
              "Irã                                 79.980900\n",
              "Turquia                             79.814871\n",
              "Tailândia                           68.147000\n",
              "Name: Populacao, dtype: float64"
            ]
          },
          "metadata": {
            "tags": []
          },
          "execution_count": 327
        }
      ]
    },
    {
      "metadata": {
        "id": "uyL3O5jWLE5Y",
        "colab_type": "code",
        "colab": {
          "base_uri": "https://localhost:8080/",
          "height": 368
        },
        "outputId": "049f1db7-1bdb-48ce-a1c7-592317500947"
      },
      "cell_type": "code",
      "source": [
        "df_new = pd.DataFrame(df_world).copy()\n",
        "df_new = pd.DataFrame(df_new)\n",
        "df_new.head()"
      ],
      "execution_count": 81,
      "outputs": [
        {
          "output_type": "execute_result",
          "data": {
            "text/html": [
              "<div>\n",
              "<style scoped>\n",
              "    .dataframe tbody tr th:only-of-type {\n",
              "        vertical-align: middle;\n",
              "    }\n",
              "\n",
              "    .dataframe tbody tr th {\n",
              "        vertical-align: top;\n",
              "    }\n",
              "\n",
              "    .dataframe thead th {\n",
              "        text-align: right;\n",
              "    }\n",
              "</style>\n",
              "<table border=\"1\" class=\"dataframe\">\n",
              "  <thead>\n",
              "    <tr style=\"text-align: right;\">\n",
              "      <th></th>\n",
              "      <th>Territorio</th>\n",
              "      <th>Populacao</th>\n",
              "      <th>Area_Km2</th>\n",
              "      <th>Densidade</th>\n",
              "      <th>Continente</th>\n",
              "      <th>Região</th>\n",
              "      <th>Capital</th>\n",
              "      <th>Maior cidade</th>\n",
              "      <th>PIB PPC</th>\n",
              "      <th>PIB nominal</th>\n",
              "      <th>...</th>\n",
              "      <th>Pequeno país?</th>\n",
              "      <th>Insular?</th>\n",
              "      <th>Transcontinental?</th>\n",
              "      <th>Prêmios Nobel</th>\n",
              "      <th>Medalhas olímpicas</th>\n",
              "      <th>União Europeia</th>\n",
              "      <th>Zona do euro</th>\n",
              "      <th>Patrimônios da Unesco</th>\n",
              "      <th>1000 lugares</th>\n",
              "      <th>URL Wikipedia</th>\n",
              "    </tr>\n",
              "  </thead>\n",
              "  <tbody>\n",
              "    <tr>\n",
              "      <th>0</th>\n",
              "      <td>Acores</td>\n",
              "      <td>245746.0</td>\n",
              "      <td>2333.0</td>\n",
              "      <td>105.334762</td>\n",
              "      <td>África</td>\n",
              "      <td>Norte da África</td>\n",
              "      <td>Ponta Delgada</td>\n",
              "      <td>NaN</td>\n",
              "      <td>NaN</td>\n",
              "      <td>NaN</td>\n",
              "      <td>...</td>\n",
              "      <td>NaN</td>\n",
              "      <td>s</td>\n",
              "      <td>NaN</td>\n",
              "      <td>NaN</td>\n",
              "      <td>NaN</td>\n",
              "      <td>NaN</td>\n",
              "      <td>NaN</td>\n",
              "      <td>NaN</td>\n",
              "      <td>NaN</td>\n",
              "      <td>https://pt.wikipedia.org/wiki/A%C3%A7ores</td>\n",
              "    </tr>\n",
              "    <tr>\n",
              "      <th>1</th>\n",
              "      <td>Acrotiri e Deceleia</td>\n",
              "      <td>NaN</td>\n",
              "      <td>254.0</td>\n",
              "      <td>0.000000</td>\n",
              "      <td>Europa</td>\n",
              "      <td>Europa meridional</td>\n",
              "      <td>Episcópi</td>\n",
              "      <td>Episcópi</td>\n",
              "      <td>NaN</td>\n",
              "      <td>NaN</td>\n",
              "      <td>...</td>\n",
              "      <td>Sim</td>\n",
              "      <td>NaN</td>\n",
              "      <td>NaN</td>\n",
              "      <td>NaN</td>\n",
              "      <td>NaN</td>\n",
              "      <td>NaN</td>\n",
              "      <td>NaN</td>\n",
              "      <td>NaN</td>\n",
              "      <td>NaN</td>\n",
              "      <td>https://pt.wikipedia.org/wiki/Acrot%C3%ADri_e_...</td>\n",
              "    </tr>\n",
              "    <tr>\n",
              "      <th>2</th>\n",
              "      <td>Afeganistão</td>\n",
              "      <td>27657145.0</td>\n",
              "      <td>652090.0</td>\n",
              "      <td>42.413079</td>\n",
              "      <td>Ásia</td>\n",
              "      <td>Ásia meridional</td>\n",
              "      <td>Cabul</td>\n",
              "      <td>Cabul</td>\n",
              "      <td>67681.0</td>\n",
              "      <td>21122.0</td>\n",
              "      <td>...</td>\n",
              "      <td>NaN</td>\n",
              "      <td>NaN</td>\n",
              "      <td>NaN</td>\n",
              "      <td>NaN</td>\n",
              "      <td>2.0</td>\n",
              "      <td>NaN</td>\n",
              "      <td>NaN</td>\n",
              "      <td>2.0</td>\n",
              "      <td>NaN</td>\n",
              "      <td>https://pt.wikipedia.org/wiki/Afeganist%C3%A3o</td>\n",
              "    </tr>\n",
              "    <tr>\n",
              "      <th>3</th>\n",
              "      <td>África do Sul</td>\n",
              "      <td>55908000.0</td>\n",
              "      <td>1221037.0</td>\n",
              "      <td>45.787310</td>\n",
              "      <td>África</td>\n",
              "      <td>África austral</td>\n",
              "      <td>Pretória</td>\n",
              "      <td>Joanesburgo</td>\n",
              "      <td>758123.0</td>\n",
              "      <td>349819.0</td>\n",
              "      <td>...</td>\n",
              "      <td>NaN</td>\n",
              "      <td>NaN</td>\n",
              "      <td>NaN</td>\n",
              "      <td>10.0</td>\n",
              "      <td>70.0</td>\n",
              "      <td>NaN</td>\n",
              "      <td>NaN</td>\n",
              "      <td>8.0</td>\n",
              "      <td>8.0</td>\n",
              "      <td>https://pt.wikipedia.org/wiki/%C3%81frica_do_Sul</td>\n",
              "    </tr>\n",
              "    <tr>\n",
              "      <th>4</th>\n",
              "      <td>Albânia</td>\n",
              "      <td>2886026.0</td>\n",
              "      <td>28748.0</td>\n",
              "      <td>100.390497</td>\n",
              "      <td>Europa</td>\n",
              "      <td>Europa meridional</td>\n",
              "      <td>Tirana</td>\n",
              "      <td>Tirana</td>\n",
              "      <td>36241.0</td>\n",
              "      <td>13413.0</td>\n",
              "      <td>...</td>\n",
              "      <td>NaN</td>\n",
              "      <td>NaN</td>\n",
              "      <td>NaN</td>\n",
              "      <td>2.0</td>\n",
              "      <td>NaN</td>\n",
              "      <td>NaN</td>\n",
              "      <td>NaN</td>\n",
              "      <td>2.0</td>\n",
              "      <td>NaN</td>\n",
              "      <td>https://pt.wikipedia.org/wiki/Alb%C3%A2nia</td>\n",
              "    </tr>\n",
              "  </tbody>\n",
              "</table>\n",
              "<p>5 rows × 35 columns</p>\n",
              "</div>"
            ],
            "text/plain": [
              "            Territorio   Populacao   Area_Km2   Densidade Continente  \\\n",
              "0               Acores    245746.0     2333.0  105.334762     África   \n",
              "1  Acrotiri e Deceleia         NaN      254.0    0.000000     Europa   \n",
              "2          Afeganistão  27657145.0   652090.0   42.413079       Ásia   \n",
              "3        África do Sul  55908000.0  1221037.0   45.787310     África   \n",
              "4              Albânia   2886026.0    28748.0  100.390497     Europa   \n",
              "\n",
              "              Região        Capital Maior cidade   PIB PPC  PIB nominal  \\\n",
              "0    Norte da África  Ponta Delgada          NaN       NaN          NaN   \n",
              "1  Europa meridional       Episcópi     Episcópi       NaN          NaN   \n",
              "2    Ásia meridional          Cabul        Cabul   67681.0      21122.0   \n",
              "3     África austral       Pretória  Joanesburgo  758123.0     349819.0   \n",
              "4  Europa meridional         Tirana       Tirana   36241.0      13413.0   \n",
              "\n",
              "                         ...                          Pequeno país?  Insular?  \\\n",
              "0                        ...                                    NaN         s   \n",
              "1                        ...                                    Sim       NaN   \n",
              "2                        ...                                    NaN       NaN   \n",
              "3                        ...                                    NaN       NaN   \n",
              "4                        ...                                    NaN       NaN   \n",
              "\n",
              "   Transcontinental?  Prêmios Nobel Medalhas olímpicas União Europeia  \\\n",
              "0                NaN            NaN                NaN            NaN   \n",
              "1                NaN            NaN                NaN            NaN   \n",
              "2                NaN            NaN                2.0            NaN   \n",
              "3                NaN           10.0               70.0            NaN   \n",
              "4                NaN            2.0                NaN            NaN   \n",
              "\n",
              "  Zona do euro Patrimônios da Unesco 1000 lugares  \\\n",
              "0          NaN                   NaN          NaN   \n",
              "1          NaN                   NaN          NaN   \n",
              "2          NaN                   2.0          NaN   \n",
              "3          NaN                   8.0          8.0   \n",
              "4          NaN                   2.0          NaN   \n",
              "\n",
              "                                       URL Wikipedia  \n",
              "0          https://pt.wikipedia.org/wiki/A%C3%A7ores  \n",
              "1  https://pt.wikipedia.org/wiki/Acrot%C3%ADri_e_...  \n",
              "2     https://pt.wikipedia.org/wiki/Afeganist%C3%A3o  \n",
              "3   https://pt.wikipedia.org/wiki/%C3%81frica_do_Sul  \n",
              "4         https://pt.wikipedia.org/wiki/Alb%C3%A2nia  \n",
              "\n",
              "[5 rows x 35 columns]"
            ]
          },
          "metadata": {
            "tags": []
          },
          "execution_count": 81
        }
      ]
    },
    {
      "metadata": {
        "id": "tWxyHNVNI-wS",
        "colab_type": "code",
        "colab": {
          "base_uri": "https://localhost:8080/",
          "height": 198
        },
        "outputId": "80471345-5f53-4fd0-d10b-971abcb14f17"
      },
      "cell_type": "code",
      "source": [
        "\n",
        "df_new2 = df_new[['Territorio', 'Populacao', 'Area_Km2' ,'PIB_per_cap']].copy()\n",
        "df_new2.head()\n"
      ],
      "execution_count": 84,
      "outputs": [
        {
          "output_type": "execute_result",
          "data": {
            "text/html": [
              "<div>\n",
              "<style scoped>\n",
              "    .dataframe tbody tr th:only-of-type {\n",
              "        vertical-align: middle;\n",
              "    }\n",
              "\n",
              "    .dataframe tbody tr th {\n",
              "        vertical-align: top;\n",
              "    }\n",
              "\n",
              "    .dataframe thead th {\n",
              "        text-align: right;\n",
              "    }\n",
              "</style>\n",
              "<table border=\"1\" class=\"dataframe\">\n",
              "  <thead>\n",
              "    <tr style=\"text-align: right;\">\n",
              "      <th></th>\n",
              "      <th>Territorio</th>\n",
              "      <th>Populacao</th>\n",
              "      <th>Area_Km2</th>\n",
              "      <th>PIB_per_cap</th>\n",
              "    </tr>\n",
              "  </thead>\n",
              "  <tbody>\n",
              "    <tr>\n",
              "      <th>0</th>\n",
              "      <td>Acores</td>\n",
              "      <td>245746.0</td>\n",
              "      <td>2333.0</td>\n",
              "      <td>0.000000</td>\n",
              "    </tr>\n",
              "    <tr>\n",
              "      <th>1</th>\n",
              "      <td>Acrotiri e Deceleia</td>\n",
              "      <td>NaN</td>\n",
              "      <td>254.0</td>\n",
              "      <td>NaN</td>\n",
              "    </tr>\n",
              "    <tr>\n",
              "      <th>2</th>\n",
              "      <td>Afeganistão</td>\n",
              "      <td>27657145.0</td>\n",
              "      <td>652090.0</td>\n",
              "      <td>763.708619</td>\n",
              "    </tr>\n",
              "    <tr>\n",
              "      <th>3</th>\n",
              "      <td>África do Sul</td>\n",
              "      <td>55908000.0</td>\n",
              "      <td>1221037.0</td>\n",
              "      <td>6257.047292</td>\n",
              "    </tr>\n",
              "    <tr>\n",
              "      <th>4</th>\n",
              "      <td>Albânia</td>\n",
              "      <td>2886026.0</td>\n",
              "      <td>28748.0</td>\n",
              "      <td>4647.567278</td>\n",
              "    </tr>\n",
              "  </tbody>\n",
              "</table>\n",
              "</div>"
            ],
            "text/plain": [
              "            Territorio   Populacao   Area_Km2  PIB_per_cap\n",
              "0               Acores    245746.0     2333.0     0.000000\n",
              "1  Acrotiri e Deceleia         NaN      254.0          NaN\n",
              "2          Afeganistão  27657145.0   652090.0   763.708619\n",
              "3        África do Sul  55908000.0  1221037.0  6257.047292\n",
              "4              Albânia   2886026.0    28748.0  4647.567278"
            ]
          },
          "metadata": {
            "tags": []
          },
          "execution_count": 84
        }
      ]
    },
    {
      "metadata": {
        "id": "ze3R0pvJS6g8",
        "colab_type": "code",
        "colab": {}
      },
      "cell_type": "code",
      "source": [
        "# Delete TOTAL row - Delete specific row\n",
        "df_new2.drop(df_new2[df_new2.Territorio == 'Total'].index, inplace=True)"
      ],
      "execution_count": 0,
      "outputs": []
    },
    {
      "metadata": {
        "id": "S6gGGp0IQwEV",
        "colab_type": "code",
        "colab": {
          "base_uri": "https://localhost:8080/",
          "height": 978
        },
        "outputId": "d63fb5d3-3ce6-464a-b902-813f3551eac4"
      },
      "cell_type": "code",
      "source": [
        "# Analisys by Area \n",
        "X_pivot_table = df_new2\n",
        "X_pvt1 = X_pivot_table.groupby('Territorio')['Area_Km2'].sum()\n",
        "# Sort Descending\n",
        "X_pvt1 = X_pvt1.sort_values(ascending=False).copy()\n",
        "# Transform in a DataFrame\n",
        "X_pvt2 = pd.DataFrame(X_pvt1)\n",
        "# Select first 30 entries\n",
        "X_pvt3 = X_pvt2.head(30).copy()\n",
        "X_pvt3"
      ],
      "execution_count": 171,
      "outputs": [
        {
          "output_type": "execute_result",
          "data": {
            "text/html": [
              "<div>\n",
              "<style scoped>\n",
              "    .dataframe tbody tr th:only-of-type {\n",
              "        vertical-align: middle;\n",
              "    }\n",
              "\n",
              "    .dataframe tbody tr th {\n",
              "        vertical-align: top;\n",
              "    }\n",
              "\n",
              "    .dataframe thead th {\n",
              "        text-align: right;\n",
              "    }\n",
              "</style>\n",
              "<table border=\"1\" class=\"dataframe\">\n",
              "  <thead>\n",
              "    <tr style=\"text-align: right;\">\n",
              "      <th></th>\n",
              "      <th>Area_Km2</th>\n",
              "    </tr>\n",
              "    <tr>\n",
              "      <th>Territorio</th>\n",
              "      <th></th>\n",
              "    </tr>\n",
              "  </thead>\n",
              "  <tbody>\n",
              "    <tr>\n",
              "      <th>Rússia</th>\n",
              "      <td>17124442.0</td>\n",
              "    </tr>\n",
              "    <tr>\n",
              "      <th>Antártida</th>\n",
              "      <td>14000000.0</td>\n",
              "    </tr>\n",
              "    <tr>\n",
              "      <th>Canadá</th>\n",
              "      <td>9984670.0</td>\n",
              "    </tr>\n",
              "    <tr>\n",
              "      <th>China</th>\n",
              "      <td>9596961.0</td>\n",
              "    </tr>\n",
              "    <tr>\n",
              "      <th>Estados Unidos</th>\n",
              "      <td>9371175.0</td>\n",
              "    </tr>\n",
              "    <tr>\n",
              "      <th>Brasil</th>\n",
              "      <td>8515767.0</td>\n",
              "    </tr>\n",
              "    <tr>\n",
              "      <th>Austrália</th>\n",
              "      <td>7692024.0</td>\n",
              "    </tr>\n",
              "    <tr>\n",
              "      <th>Índia</th>\n",
              "      <td>3287590.0</td>\n",
              "    </tr>\n",
              "    <tr>\n",
              "      <th>Argentina</th>\n",
              "      <td>2780400.0</td>\n",
              "    </tr>\n",
              "    <tr>\n",
              "      <th>Cazaquistão</th>\n",
              "      <td>2724900.0</td>\n",
              "    </tr>\n",
              "    <tr>\n",
              "      <th>Argélia</th>\n",
              "      <td>2381741.0</td>\n",
              "    </tr>\n",
              "    <tr>\n",
              "      <th>República Democrática do Congo</th>\n",
              "      <td>2344858.0</td>\n",
              "    </tr>\n",
              "    <tr>\n",
              "      <th>Groenlândia</th>\n",
              "      <td>2166086.0</td>\n",
              "    </tr>\n",
              "    <tr>\n",
              "      <th>Arábia Saudita</th>\n",
              "      <td>2149690.0</td>\n",
              "    </tr>\n",
              "    <tr>\n",
              "      <th>México</th>\n",
              "      <td>1958201.0</td>\n",
              "    </tr>\n",
              "    <tr>\n",
              "      <th>Indonésia</th>\n",
              "      <td>1904569.0</td>\n",
              "    </tr>\n",
              "    <tr>\n",
              "      <th>Sudão</th>\n",
              "      <td>1886068.0</td>\n",
              "    </tr>\n",
              "    <tr>\n",
              "      <th>Líbia</th>\n",
              "      <td>1759540.0</td>\n",
              "    </tr>\n",
              "    <tr>\n",
              "      <th>Irã</th>\n",
              "      <td>1648195.0</td>\n",
              "    </tr>\n",
              "    <tr>\n",
              "      <th>Mongólia</th>\n",
              "      <td>1564100.0</td>\n",
              "    </tr>\n",
              "    <tr>\n",
              "      <th>Peru</th>\n",
              "      <td>1285220.0</td>\n",
              "    </tr>\n",
              "    <tr>\n",
              "      <th>Chade</th>\n",
              "      <td>1284000.0</td>\n",
              "    </tr>\n",
              "    <tr>\n",
              "      <th>Níger</th>\n",
              "      <td>1267000.0</td>\n",
              "    </tr>\n",
              "    <tr>\n",
              "      <th>Angola</th>\n",
              "      <td>1246700.0</td>\n",
              "    </tr>\n",
              "    <tr>\n",
              "      <th>Mali</th>\n",
              "      <td>1240192.0</td>\n",
              "    </tr>\n",
              "    <tr>\n",
              "      <th>África do Sul</th>\n",
              "      <td>1221037.0</td>\n",
              "    </tr>\n",
              "    <tr>\n",
              "      <th>Colômbia</th>\n",
              "      <td>1138914.0</td>\n",
              "    </tr>\n",
              "    <tr>\n",
              "      <th>Etiópia</th>\n",
              "      <td>1104300.0</td>\n",
              "    </tr>\n",
              "    <tr>\n",
              "      <th>Bolívia</th>\n",
              "      <td>1098581.0</td>\n",
              "    </tr>\n",
              "    <tr>\n",
              "      <th>Mauritânia</th>\n",
              "      <td>1030700.0</td>\n",
              "    </tr>\n",
              "  </tbody>\n",
              "</table>\n",
              "</div>"
            ],
            "text/plain": [
              "                                  Area_Km2\n",
              "Territorio                                \n",
              "Rússia                          17124442.0\n",
              "Antártida                       14000000.0\n",
              "Canadá                           9984670.0\n",
              "China                            9596961.0\n",
              "Estados Unidos                   9371175.0\n",
              "Brasil                           8515767.0\n",
              "Austrália                        7692024.0\n",
              "Índia                            3287590.0\n",
              "Argentina                        2780400.0\n",
              "Cazaquistão                      2724900.0\n",
              "Argélia                          2381741.0\n",
              "República Democrática do Congo   2344858.0\n",
              "Groenlândia                      2166086.0\n",
              "Arábia Saudita                   2149690.0\n",
              "México                           1958201.0\n",
              "Indonésia                        1904569.0\n",
              "Sudão                            1886068.0\n",
              "Líbia                            1759540.0\n",
              "Irã                              1648195.0\n",
              "Mongólia                         1564100.0\n",
              "Peru                             1285220.0\n",
              "Chade                            1284000.0\n",
              "Níger                            1267000.0\n",
              "Angola                           1246700.0\n",
              "Mali                             1240192.0\n",
              "África do Sul                    1221037.0\n",
              "Colômbia                         1138914.0\n",
              "Etiópia                          1104300.0\n",
              "Bolívia                          1098581.0\n",
              "Mauritânia                       1030700.0"
            ]
          },
          "metadata": {
            "tags": []
          },
          "execution_count": 171
        }
      ]
    },
    {
      "metadata": {
        "id": "cGxJIoibU-Su",
        "colab_type": "code",
        "colab": {}
      },
      "cell_type": "code",
      "source": [
        "def Bar_Graf(table, x_title, x_label, y_label, x_color):\n",
        "    # Plotting the Graph\n",
        "\n",
        "    table.plot(kind='bar', figsize=(12,5), grid=True, color=x_color, fontsize=12)\n",
        "    plt.title(x_title,fontsize=15)\n",
        "    plt.xlabel(x_label,fontsize=10)\n",
        "    plt.ylabel(y_label,fontsize=10)\n",
        "    plt.show()"
      ],
      "execution_count": 0,
      "outputs": []
    },
    {
      "metadata": {
        "id": "NqnIXJzMYBe9",
        "colab_type": "code",
        "colab": {
          "base_uri": "https://localhost:8080/",
          "height": 520
        },
        "outputId": "268d26f2-026e-4fd0-fc44-5f0722b913a0"
      },
      "cell_type": "code",
      "source": [
        "data_plot = X_pvt3\n",
        "# Plotting the Graph\n",
        "Bar_Graf(data_plot, 'Area by Territory', 'Territory', 'Area Km2', color_list[0])\n"
      ],
      "execution_count": 173,
      "outputs": [
        {
          "output_type": "display_data",
          "data": {
            "image/png": "[encoded data removed]",
            "text/plain": [
              "<matplotlib.figure.Figure at 0x7f1932858240>"
            ]
          },
          "metadata": {
            "tags": []
          }
        }
      ]
    },
    {
      "metadata": {
        "id": "MGu-FLKROlTh",
        "colab_type": "code",
        "colab": {
          "base_uri": "https://localhost:8080/",
          "height": 978
        },
        "outputId": "d63abeb9-29eb-4322-ba94-19f29d80f94e"
      },
      "cell_type": "code",
      "source": [
        "# Analisys by PIB_per_cap \n",
        "X_pivot_table = df_new2\n",
        "X_pvt1 = X_pivot_table.groupby('Territorio')['PIB_per_cap'].sum()\n",
        "# Sort Descending\n",
        "X_pvt1 = X_pvt1.sort_values(ascending=False).copy()\n",
        "# Transform in a DataFrame\n",
        "X_pvt2 = pd.DataFrame(X_pvt1)\n",
        "# Select first 30 entries\n",
        "X_pvt3 = X_pvt2.head(30).copy()\n",
        "X_pvt3"
      ],
      "execution_count": 174,
      "outputs": [
        {
          "output_type": "execute_result",
          "data": {
            "text/html": [
              "<div>\n",
              "<style scoped>\n",
              "    .dataframe tbody tr th:only-of-type {\n",
              "        vertical-align: middle;\n",
              "    }\n",
              "\n",
              "    .dataframe tbody tr th {\n",
              "        vertical-align: top;\n",
              "    }\n",
              "\n",
              "    .dataframe thead th {\n",
              "        text-align: right;\n",
              "    }\n",
              "</style>\n",
              "<table border=\"1\" class=\"dataframe\">\n",
              "  <thead>\n",
              "    <tr style=\"text-align: right;\">\n",
              "      <th></th>\n",
              "      <th>PIB_per_cap</th>\n",
              "    </tr>\n",
              "    <tr>\n",
              "      <th>Territorio</th>\n",
              "      <th></th>\n",
              "    </tr>\n",
              "  </thead>\n",
              "  <tbody>\n",
              "    <tr>\n",
              "      <th>Mônaco</th>\n",
              "      <td>183854.166667</td>\n",
              "    </tr>\n",
              "    <tr>\n",
              "      <th>Liechtenstein</th>\n",
              "      <td>155362.734172</td>\n",
              "    </tr>\n",
              "    <tr>\n",
              "      <th>Luxemburgo</th>\n",
              "      <td>112589.378688</td>\n",
              "    </tr>\n",
              "    <tr>\n",
              "      <th>Noruega</th>\n",
              "      <td>95186.159374</td>\n",
              "    </tr>\n",
              "    <tr>\n",
              "      <th>Bermudas</th>\n",
              "      <td>90405.784937</td>\n",
              "    </tr>\n",
              "    <tr>\n",
              "      <th>Macau</th>\n",
              "      <td>86062.955497</td>\n",
              "    </tr>\n",
              "    <tr>\n",
              "      <th>Catar</th>\n",
              "      <td>82221.319077</td>\n",
              "    </tr>\n",
              "    <tr>\n",
              "      <th>Suíça</th>\n",
              "      <td>79932.216178</td>\n",
              "    </tr>\n",
              "    <tr>\n",
              "      <th>Santa Lúcia</th>\n",
              "      <td>75591.397849</td>\n",
              "    </tr>\n",
              "    <tr>\n",
              "      <th>Dinamarca</th>\n",
              "      <td>60207.498336</td>\n",
              "    </tr>\n",
              "    <tr>\n",
              "      <th>Ilhas Caimão</th>\n",
              "      <td>57603.495936</td>\n",
              "    </tr>\n",
              "    <tr>\n",
              "      <th>Suécia</th>\n",
              "      <td>56958.061138</td>\n",
              "    </tr>\n",
              "    <tr>\n",
              "      <th>São Marinho</th>\n",
              "      <td>55704.839830</td>\n",
              "    </tr>\n",
              "    <tr>\n",
              "      <th>Estados Unidos</th>\n",
              "      <td>55553.615814</td>\n",
              "    </tr>\n",
              "    <tr>\n",
              "      <th>Singapura</th>\n",
              "      <td>54905.569525</td>\n",
              "    </tr>\n",
              "    <tr>\n",
              "      <th>Irlanda</th>\n",
              "      <td>52714.431515</td>\n",
              "    </tr>\n",
              "    <tr>\n",
              "      <th>Austrália</th>\n",
              "      <td>50463.447733</td>\n",
              "    </tr>\n",
              "    <tr>\n",
              "      <th>Islândia</th>\n",
              "      <td>50335.352342</td>\n",
              "    </tr>\n",
              "    <tr>\n",
              "      <th>Áustria</th>\n",
              "      <td>49795.262789</td>\n",
              "    </tr>\n",
              "    <tr>\n",
              "      <th>Finlândia</th>\n",
              "      <td>49470.254278</td>\n",
              "    </tr>\n",
              "    <tr>\n",
              "      <th>Bélgica</th>\n",
              "      <td>46818.058388</td>\n",
              "    </tr>\n",
              "    <tr>\n",
              "      <th>Escócia</th>\n",
              "      <td>45648.055090</td>\n",
              "    </tr>\n",
              "    <tr>\n",
              "      <th>Reino Unido</th>\n",
              "      <td>43894.993089</td>\n",
              "    </tr>\n",
              "    <tr>\n",
              "      <th>Holanda (Países baixos)</th>\n",
              "      <td>43843.888415</td>\n",
              "    </tr>\n",
              "    <tr>\n",
              "      <th>Groenlândia</th>\n",
              "      <td>43444.986296</td>\n",
              "    </tr>\n",
              "    <tr>\n",
              "      <th>Inglaterra</th>\n",
              "      <td>42711.641660</td>\n",
              "    </tr>\n",
              "    <tr>\n",
              "      <th>Canadá</th>\n",
              "      <td>42566.448097</td>\n",
              "    </tr>\n",
              "    <tr>\n",
              "      <th>Andorra</th>\n",
              "      <td>42018.099316</td>\n",
              "    </tr>\n",
              "    <tr>\n",
              "      <th>Nova Zelândia</th>\n",
              "      <td>41597.634623</td>\n",
              "    </tr>\n",
              "    <tr>\n",
              "      <th>Brunei</th>\n",
              "      <td>40997.123682</td>\n",
              "    </tr>\n",
              "  </tbody>\n",
              "</table>\n",
              "</div>"
            ],
            "text/plain": [
              "                           PIB_per_cap\n",
              "Territorio                            \n",
              "Mônaco                   183854.166667\n",
              "Liechtenstein            155362.734172\n",
              "Luxemburgo               112589.378688\n",
              "Noruega                   95186.159374\n",
              "Bermudas                  90405.784937\n",
              "Macau                     86062.955497\n",
              "Catar                     82221.319077\n",
              "Suíça                     79932.216178\n",
              "Santa Lúcia               75591.397849\n",
              "Dinamarca                 60207.498336\n",
              "Ilhas Caimão              57603.495936\n",
              "Suécia                    56958.061138\n",
              "São Marinho               55704.839830\n",
              "Estados Unidos            55553.615814\n",
              "Singapura                 54905.569525\n",
              "Irlanda                   52714.431515\n",
              "Austrália                 50463.447733\n",
              "Islândia                  50335.352342\n",
              "Áustria                   49795.262789\n",
              "Finlândia                 49470.254278\n",
              "Bélgica                   46818.058388\n",
              "Escócia                   45648.055090\n",
              "Reino Unido               43894.993089\n",
              "Holanda (Países baixos)   43843.888415\n",
              "Groenlândia               43444.986296\n",
              "Inglaterra                42711.641660\n",
              "Canadá                    42566.448097\n",
              "Andorra                   42018.099316\n",
              "Nova Zelândia             41597.634623\n",
              "Brunei                    40997.123682"
            ]
          },
          "metadata": {
            "tags": []
          },
          "execution_count": 174
        }
      ]
    },
    {
      "metadata": {
        "id": "JOUkOScsWakV",
        "colab_type": "code",
        "colab": {
          "base_uri": "https://localhost:8080/",
          "height": 473
        },
        "outputId": "f536ec55-5e0a-4bd3-e25d-8fcd0a0a8c04"
      },
      "cell_type": "code",
      "source": [
        "data_plot = X_pvt3\n",
        "# Plotting the Graph\n",
        "Bar_Graf(data_plot, 'PIB by Territory', 'Territory', 'PIB_per_cap', color_list[1])"
      ],
      "execution_count": 175,
      "outputs": [
        {
          "output_type": "display_data",
          "data": {
            "image/png": "[encoded data removed]",
            "text/plain": [
              "<matplotlib.figure.Figure at 0x7f19327865c0>"
            ]
          },
          "metadata": {
            "tags": []
          }
        }
      ]
    },
    {
      "metadata": {
        "id": "oLU7eiN8W6v3",
        "colab_type": "code",
        "colab": {
          "base_uri": "https://localhost:8080/",
          "height": 978
        },
        "outputId": "044f14f9-47a1-4d72-cfc0-d43633230249"
      },
      "cell_type": "code",
      "source": [
        "# Analisys by Population \n",
        "X_pivot_table = df_new2\n",
        "X_pvt1 = X_pivot_table.groupby('Territorio')['Populacao'].sum()\n",
        "# Sort Descending\n",
        "X_pvt1 = X_pvt1.sort_values(ascending=False).copy()\n",
        "# Transform in a DataFrame\n",
        "X_pvt2 = pd.DataFrame(X_pvt1)\n",
        "# Select first 30 entries\n",
        "X_pvt3 = X_pvt2.head(30).copy()\n",
        "X_pvt3"
      ],
      "execution_count": 176,
      "outputs": [
        {
          "output_type": "execute_result",
          "data": {
            "text/html": [
              "<div>\n",
              "<style scoped>\n",
              "    .dataframe tbody tr th:only-of-type {\n",
              "        vertical-align: middle;\n",
              "    }\n",
              "\n",
              "    .dataframe tbody tr th {\n",
              "        vertical-align: top;\n",
              "    }\n",
              "\n",
              "    .dataframe thead th {\n",
              "        text-align: right;\n",
              "    }\n",
              "</style>\n",
              "<table border=\"1\" class=\"dataframe\">\n",
              "  <thead>\n",
              "    <tr style=\"text-align: right;\">\n",
              "      <th></th>\n",
              "      <th>Populacao</th>\n",
              "    </tr>\n",
              "    <tr>\n",
              "      <th>Territorio</th>\n",
              "      <th></th>\n",
              "    </tr>\n",
              "  </thead>\n",
              "  <tbody>\n",
              "    <tr>\n",
              "      <th>China</th>\n",
              "      <td>1.382070e+09</td>\n",
              "    </tr>\n",
              "    <tr>\n",
              "      <th>Índia</th>\n",
              "      <td>1.313250e+09</td>\n",
              "    </tr>\n",
              "    <tr>\n",
              "      <th>Estados Unidos</th>\n",
              "      <td>3.246710e+08</td>\n",
              "    </tr>\n",
              "    <tr>\n",
              "      <th>Indonésia</th>\n",
              "      <td>2.605810e+08</td>\n",
              "    </tr>\n",
              "    <tr>\n",
              "      <th>Brasil</th>\n",
              "      <td>2.072250e+08</td>\n",
              "    </tr>\n",
              "    <tr>\n",
              "      <th>Paquistão</th>\n",
              "      <td>1.966350e+08</td>\n",
              "    </tr>\n",
              "    <tr>\n",
              "      <th>Nigéria</th>\n",
              "      <td>1.869880e+08</td>\n",
              "    </tr>\n",
              "    <tr>\n",
              "      <th>Bangladesh</th>\n",
              "      <td>1.621050e+08</td>\n",
              "    </tr>\n",
              "    <tr>\n",
              "      <th>Rússia</th>\n",
              "      <td>1.468390e+08</td>\n",
              "    </tr>\n",
              "    <tr>\n",
              "      <th>Japão</th>\n",
              "      <td>1.268300e+08</td>\n",
              "    </tr>\n",
              "    <tr>\n",
              "      <th>México</th>\n",
              "      <td>1.222730e+08</td>\n",
              "    </tr>\n",
              "    <tr>\n",
              "      <th>Filipinas</th>\n",
              "      <td>1.037430e+08</td>\n",
              "    </tr>\n",
              "    <tr>\n",
              "      <th>Etiópia</th>\n",
              "      <td>1.018530e+08</td>\n",
              "    </tr>\n",
              "    <tr>\n",
              "      <th>Vietnã</th>\n",
              "      <td>9.270000e+07</td>\n",
              "    </tr>\n",
              "    <tr>\n",
              "      <th>Egito</th>\n",
              "      <td>9.264720e+07</td>\n",
              "    </tr>\n",
              "    <tr>\n",
              "      <th>Alemanha</th>\n",
              "      <td>8.280000e+07</td>\n",
              "    </tr>\n",
              "    <tr>\n",
              "      <th>República Democrática do Congo</th>\n",
              "      <td>8.224300e+07</td>\n",
              "    </tr>\n",
              "    <tr>\n",
              "      <th>Irã</th>\n",
              "      <td>7.998090e+07</td>\n",
              "    </tr>\n",
              "    <tr>\n",
              "      <th>Turquia</th>\n",
              "      <td>7.981487e+07</td>\n",
              "    </tr>\n",
              "    <tr>\n",
              "      <th>Tailândia</th>\n",
              "      <td>6.814700e+07</td>\n",
              "    </tr>\n",
              "    <tr>\n",
              "      <th>França</th>\n",
              "      <td>6.698400e+07</td>\n",
              "    </tr>\n",
              "    <tr>\n",
              "      <th>Reino Unido</th>\n",
              "      <td>6.511000e+07</td>\n",
              "    </tr>\n",
              "    <tr>\n",
              "      <th>Itália</th>\n",
              "      <td>6.058994e+07</td>\n",
              "    </tr>\n",
              "    <tr>\n",
              "      <th>África do Sul</th>\n",
              "      <td>5.590800e+07</td>\n",
              "    </tr>\n",
              "    <tr>\n",
              "      <th>Tanzânia</th>\n",
              "      <td>5.515500e+07</td>\n",
              "    </tr>\n",
              "    <tr>\n",
              "      <th>Inglaterra</th>\n",
              "      <td>5.478600e+07</td>\n",
              "    </tr>\n",
              "    <tr>\n",
              "      <th>Myanmar</th>\n",
              "      <td>5.436300e+07</td>\n",
              "    </tr>\n",
              "    <tr>\n",
              "      <th>Coreia do Sul</th>\n",
              "      <td>5.144620e+07</td>\n",
              "    </tr>\n",
              "    <tr>\n",
              "      <th>Colômbia</th>\n",
              "      <td>4.913110e+07</td>\n",
              "    </tr>\n",
              "    <tr>\n",
              "      <th>Quênia</th>\n",
              "      <td>4.725100e+07</td>\n",
              "    </tr>\n",
              "  </tbody>\n",
              "</table>\n",
              "</div>"
            ],
            "text/plain": [
              "                                   Populacao\n",
              "Territorio                                  \n",
              "China                           1.382070e+09\n",
              "Índia                           1.313250e+09\n",
              "Estados Unidos                  3.246710e+08\n",
              "Indonésia                       2.605810e+08\n",
              "Brasil                          2.072250e+08\n",
              "Paquistão                       1.966350e+08\n",
              "Nigéria                         1.869880e+08\n",
              "Bangladesh                      1.621050e+08\n",
              "Rússia                          1.468390e+08\n",
              "Japão                           1.268300e+08\n",
              "México                          1.222730e+08\n",
              "Filipinas                       1.037430e+08\n",
              "Etiópia                         1.018530e+08\n",
              "Vietnã                          9.270000e+07\n",
              "Egito                           9.264720e+07\n",
              "Alemanha                        8.280000e+07\n",
              "República Democrática do Congo  8.224300e+07\n",
              "Irã                             7.998090e+07\n",
              "Turquia                         7.981487e+07\n",
              "Tailândia                       6.814700e+07\n",
              "França                          6.698400e+07\n",
              "Reino Unido                     6.511000e+07\n",
              "Itália                          6.058994e+07\n",
              "África do Sul                   5.590800e+07\n",
              "Tanzânia                        5.515500e+07\n",
              "Inglaterra                      5.478600e+07\n",
              "Myanmar                         5.436300e+07\n",
              "Coreia do Sul                   5.144620e+07\n",
              "Colômbia                        4.913110e+07\n",
              "Quênia                          4.725100e+07"
            ]
          },
          "metadata": {
            "tags": []
          },
          "execution_count": 176
        }
      ]
    },
    {
      "metadata": {
        "id": "fwyCehnxYX0s",
        "colab_type": "code",
        "colab": {
          "base_uri": "https://localhost:8080/",
          "height": 520
        },
        "outputId": "79d1518b-e149-45af-c778-531729dcfede"
      },
      "cell_type": "code",
      "source": [
        "data_plot = X_pvt3\n",
        "# Plotting the Graph\n",
        "Bar_Graf(data_plot, 'Population by Territory', 'Territory', 'Populacao', color_list[3])"
      ],
      "execution_count": 178,
      "outputs": [
        {
          "output_type": "display_data",
          "data": {
            "image/png": "[encoded data removed]",
            "text/plain": [
              "<matplotlib.figure.Figure at 0x7f19334c0eb8>"
            ]
          },
          "metadata": {
            "tags": []
          }
        }
      ]
    },
    {
      "metadata": {
        "id": "ShcvHQ7yZVDP",
        "colab_type": "code",
        "colab": {
          "base_uri": "https://localhost:8080/",
          "height": 198
        },
        "outputId": "64379de8-b488-4106-9cce-8ee7da3adf05"
      },
      "cell_type": "code",
      "source": [
        "df_new2.head()"
      ],
      "execution_count": 122,
      "outputs": [
        {
          "output_type": "execute_result",
          "data": {
            "text/html": [
              "<div>\n",
              "<style scoped>\n",
              "    .dataframe tbody tr th:only-of-type {\n",
              "        vertical-align: middle;\n",
              "    }\n",
              "\n",
              "    .dataframe tbody tr th {\n",
              "        vertical-align: top;\n",
              "    }\n",
              "\n",
              "    .dataframe thead th {\n",
              "        text-align: right;\n",
              "    }\n",
              "</style>\n",
              "<table border=\"1\" class=\"dataframe\">\n",
              "  <thead>\n",
              "    <tr style=\"text-align: right;\">\n",
              "      <th></th>\n",
              "      <th>Territorio</th>\n",
              "      <th>Populacao</th>\n",
              "      <th>Area_Km2</th>\n",
              "      <th>PIB_per_cap</th>\n",
              "    </tr>\n",
              "  </thead>\n",
              "  <tbody>\n",
              "    <tr>\n",
              "      <th>0</th>\n",
              "      <td>Acores</td>\n",
              "      <td>245746.0</td>\n",
              "      <td>2333.0</td>\n",
              "      <td>0.000000</td>\n",
              "    </tr>\n",
              "    <tr>\n",
              "      <th>1</th>\n",
              "      <td>Acrotiri e Deceleia</td>\n",
              "      <td>NaN</td>\n",
              "      <td>254.0</td>\n",
              "      <td>NaN</td>\n",
              "    </tr>\n",
              "    <tr>\n",
              "      <th>2</th>\n",
              "      <td>Afeganistão</td>\n",
              "      <td>27657145.0</td>\n",
              "      <td>652090.0</td>\n",
              "      <td>763.708619</td>\n",
              "    </tr>\n",
              "    <tr>\n",
              "      <th>3</th>\n",
              "      <td>África do Sul</td>\n",
              "      <td>55908000.0</td>\n",
              "      <td>1221037.0</td>\n",
              "      <td>6257.047292</td>\n",
              "    </tr>\n",
              "    <tr>\n",
              "      <th>4</th>\n",
              "      <td>Albânia</td>\n",
              "      <td>2886026.0</td>\n",
              "      <td>28748.0</td>\n",
              "      <td>4647.567278</td>\n",
              "    </tr>\n",
              "  </tbody>\n",
              "</table>\n",
              "</div>"
            ],
            "text/plain": [
              "            Territorio   Populacao   Area_Km2  PIB_per_cap\n",
              "0               Acores    245746.0     2333.0     0.000000\n",
              "1  Acrotiri e Deceleia         NaN      254.0          NaN\n",
              "2          Afeganistão  27657145.0   652090.0   763.708619\n",
              "3        África do Sul  55908000.0  1221037.0  6257.047292\n",
              "4              Albânia   2886026.0    28748.0  4647.567278"
            ]
          },
          "metadata": {
            "tags": []
          },
          "execution_count": 122
        }
      ]
    },
    {
      "metadata": {
        "id": "TvVtEUL8cQN4",
        "colab_type": "code",
        "colab": {
          "base_uri": "https://localhost:8080/",
          "height": 198
        },
        "outputId": "8f6fe63f-b0eb-4d99-9491-49e9015f6f8a"
      },
      "cell_type": "code",
      "source": [
        "countdata = df_new2.sort_values(by=['Populacao'],ascending=False)\n",
        "countdata1 = countdata.head(30).copy()\n",
        "countdata1.head()"
      ],
      "execution_count": 165,
      "outputs": [
        {
          "output_type": "execute_result",
          "data": {
            "text/html": [
              "<div>\n",
              "<style scoped>\n",
              "    .dataframe tbody tr th:only-of-type {\n",
              "        vertical-align: middle;\n",
              "    }\n",
              "\n",
              "    .dataframe tbody tr th {\n",
              "        vertical-align: top;\n",
              "    }\n",
              "\n",
              "    .dataframe thead th {\n",
              "        text-align: right;\n",
              "    }\n",
              "</style>\n",
              "<table border=\"1\" class=\"dataframe\">\n",
              "  <thead>\n",
              "    <tr style=\"text-align: right;\">\n",
              "      <th></th>\n",
              "      <th>Territorio</th>\n",
              "      <th>Populacao</th>\n",
              "      <th>Area_Km2</th>\n",
              "      <th>PIB_per_cap</th>\n",
              "    </tr>\n",
              "  </thead>\n",
              "  <tbody>\n",
              "    <tr>\n",
              "      <th>47</th>\n",
              "      <td>China</td>\n",
              "      <td>1.382070e+09</td>\n",
              "      <td>9596961.0</td>\n",
              "      <td>8073.727814</td>\n",
              "    </tr>\n",
              "    <tr>\n",
              "      <th>126</th>\n",
              "      <td>Índia</td>\n",
              "      <td>1.313250e+09</td>\n",
              "      <td>3287590.0</td>\n",
              "      <td>1611.451742</td>\n",
              "    </tr>\n",
              "    <tr>\n",
              "      <th>70</th>\n",
              "      <td>Estados Unidos</td>\n",
              "      <td>3.246710e+08</td>\n",
              "      <td>9371175.0</td>\n",
              "      <td>55553.615814</td>\n",
              "    </tr>\n",
              "    <tr>\n",
              "      <th>127</th>\n",
              "      <td>Indonésia</td>\n",
              "      <td>2.605810e+08</td>\n",
              "      <td>1904569.0</td>\n",
              "      <td>3307.735407</td>\n",
              "    </tr>\n",
              "    <tr>\n",
              "      <th>32</th>\n",
              "      <td>Brasil</td>\n",
              "      <td>2.072250e+08</td>\n",
              "      <td>8515767.0</td>\n",
              "      <td>8553.943781</td>\n",
              "    </tr>\n",
              "  </tbody>\n",
              "</table>\n",
              "</div>"
            ],
            "text/plain": [
              "         Territorio     Populacao   Area_Km2   PIB_per_cap\n",
              "47            China  1.382070e+09  9596961.0   8073.727814\n",
              "126           Índia  1.313250e+09  3287590.0   1611.451742\n",
              "70   Estados Unidos  3.246710e+08  9371175.0  55553.615814\n",
              "127       Indonésia  2.605810e+08  1904569.0   3307.735407\n",
              "32           Brasil  2.072250e+08  8515767.0   8553.943781"
            ]
          },
          "metadata": {
            "tags": []
          },
          "execution_count": 165
        }
      ]
    },
    {
      "metadata": {
        "id": "NjOyp2XyZr-u",
        "colab_type": "code",
        "colab": {
          "base_uri": "https://localhost:8080/",
          "height": 948
        },
        "outputId": "53e1cd3e-8e8c-4e31-8cfd-4062203102c3"
      },
      "cell_type": "code",
      "source": [
        "# Transform values to Plot\n",
        "countdata2 = pd.DataFrame(countdata1).copy()\n",
        "countdata2.Populacao = countdata2.Populacao / 1000000\n",
        "countdata2.Area_Km2 = countdata2.Area_Km2 / 10000\n",
        "countdata2.PIB_per_cap = countdata2.PIB_per_cap / 100\n",
        "countdata2"
      ],
      "execution_count": 167,
      "outputs": [
        {
          "output_type": "execute_result",
          "data": {
            "text/html": [
              "<div>\n",
              "<style scoped>\n",
              "    .dataframe tbody tr th:only-of-type {\n",
              "        vertical-align: middle;\n",
              "    }\n",
              "\n",
              "    .dataframe tbody tr th {\n",
              "        vertical-align: top;\n",
              "    }\n",
              "\n",
              "    .dataframe thead th {\n",
              "        text-align: right;\n",
              "    }\n",
              "</style>\n",
              "<table border=\"1\" class=\"dataframe\">\n",
              "  <thead>\n",
              "    <tr style=\"text-align: right;\">\n",
              "      <th></th>\n",
              "      <th>Territorio</th>\n",
              "      <th>Populacao</th>\n",
              "      <th>Area_Km2</th>\n",
              "      <th>PIB_per_cap</th>\n",
              "    </tr>\n",
              "  </thead>\n",
              "  <tbody>\n",
              "    <tr>\n",
              "      <th>47</th>\n",
              "      <td>China</td>\n",
              "      <td>1382.070000</td>\n",
              "      <td>959.6961</td>\n",
              "      <td>80.737278</td>\n",
              "    </tr>\n",
              "    <tr>\n",
              "      <th>126</th>\n",
              "      <td>Índia</td>\n",
              "      <td>1313.250000</td>\n",
              "      <td>328.7590</td>\n",
              "      <td>16.114517</td>\n",
              "    </tr>\n",
              "    <tr>\n",
              "      <th>70</th>\n",
              "      <td>Estados Unidos</td>\n",
              "      <td>324.671000</td>\n",
              "      <td>937.1175</td>\n",
              "      <td>555.536158</td>\n",
              "    </tr>\n",
              "    <tr>\n",
              "      <th>127</th>\n",
              "      <td>Indonésia</td>\n",
              "      <td>260.581000</td>\n",
              "      <td>190.4569</td>\n",
              "      <td>33.077354</td>\n",
              "    </tr>\n",
              "    <tr>\n",
              "      <th>32</th>\n",
              "      <td>Brasil</td>\n",
              "      <td>207.225000</td>\n",
              "      <td>851.5767</td>\n",
              "      <td>85.539438</td>\n",
              "    </tr>\n",
              "    <tr>\n",
              "      <th>190</th>\n",
              "      <td>Paquistão</td>\n",
              "      <td>196.635000</td>\n",
              "      <td>88.0940</td>\n",
              "      <td>12.777735</td>\n",
              "    </tr>\n",
              "    <tr>\n",
              "      <th>179</th>\n",
              "      <td>Nigéria</td>\n",
              "      <td>186.988000</td>\n",
              "      <td>92.3768</td>\n",
              "      <td>30.402967</td>\n",
              "    </tr>\n",
              "    <tr>\n",
              "      <th>21</th>\n",
              "      <td>Bangladesh</td>\n",
              "      <td>162.105000</td>\n",
              "      <td>14.3998</td>\n",
              "      <td>10.675920</td>\n",
              "    </tr>\n",
              "    <tr>\n",
              "      <th>208</th>\n",
              "      <td>Rússia</td>\n",
              "      <td>146.838993</td>\n",
              "      <td>1712.4442</td>\n",
              "      <td>90.304079</td>\n",
              "    </tr>\n",
              "    <tr>\n",
              "      <th>137</th>\n",
              "      <td>Japão</td>\n",
              "      <td>126.830000</td>\n",
              "      <td>37.7944</td>\n",
              "      <td>345.586691</td>\n",
              "    </tr>\n",
              "    <tr>\n",
              "      <th>165</th>\n",
              "      <td>México</td>\n",
              "      <td>122.273000</td>\n",
              "      <td>195.8201</td>\n",
              "      <td>93.293205</td>\n",
              "    </tr>\n",
              "    <tr>\n",
              "      <th>75</th>\n",
              "      <td>Filipinas</td>\n",
              "      <td>103.743000</td>\n",
              "      <td>30.0000</td>\n",
              "      <td>28.040061</td>\n",
              "    </tr>\n",
              "    <tr>\n",
              "      <th>72</th>\n",
              "      <td>Etiópia</td>\n",
              "      <td>101.853000</td>\n",
              "      <td>110.4300</td>\n",
              "      <td>5.266217</td>\n",
              "    </tr>\n",
              "    <tr>\n",
              "      <th>255</th>\n",
              "      <td>Vietnã</td>\n",
              "      <td>92.700000</td>\n",
              "      <td>33.2698</td>\n",
              "      <td>20.086839</td>\n",
              "    </tr>\n",
              "    <tr>\n",
              "      <th>61</th>\n",
              "      <td>Egito</td>\n",
              "      <td>92.647200</td>\n",
              "      <td>100.8450</td>\n",
              "      <td>30.464169</td>\n",
              "    </tr>\n",
              "    <tr>\n",
              "      <th>5</th>\n",
              "      <td>Alemanha</td>\n",
              "      <td>82.800000</td>\n",
              "      <td>35.7168</td>\n",
              "      <td>406.231884</td>\n",
              "    </tr>\n",
              "    <tr>\n",
              "      <th>203</th>\n",
              "      <td>República Democrática do Congo</td>\n",
              "      <td>82.243000</td>\n",
              "      <td>234.4858</td>\n",
              "      <td>4.366207</td>\n",
              "    </tr>\n",
              "    <tr>\n",
              "      <th>129</th>\n",
              "      <td>Irã</td>\n",
              "      <td>79.980900</td>\n",
              "      <td>164.8195</td>\n",
              "      <td>53.178446</td>\n",
              "    </tr>\n",
              "    <tr>\n",
              "      <th>246</th>\n",
              "      <td>Turquia</td>\n",
              "      <td>79.814871</td>\n",
              "      <td>78.3562</td>\n",
              "      <td>89.944016</td>\n",
              "    </tr>\n",
              "    <tr>\n",
              "      <th>233</th>\n",
              "      <td>Tailândia</td>\n",
              "      <td>68.147000</td>\n",
              "      <td>51.3115</td>\n",
              "      <td>59.404523</td>\n",
              "    </tr>\n",
              "    <tr>\n",
              "      <th>77</th>\n",
              "      <td>França</td>\n",
              "      <td>66.984000</td>\n",
              "      <td>64.0679</td>\n",
              "      <td>361.122805</td>\n",
              "    </tr>\n",
              "    <tr>\n",
              "      <th>200</th>\n",
              "      <td>Reino Unido</td>\n",
              "      <td>65.110000</td>\n",
              "      <td>24.3810</td>\n",
              "      <td>438.949931</td>\n",
              "    </tr>\n",
              "    <tr>\n",
              "      <th>135</th>\n",
              "      <td>Itália</td>\n",
              "      <td>60.589940</td>\n",
              "      <td>30.1230</td>\n",
              "      <td>300.640667</td>\n",
              "    </tr>\n",
              "    <tr>\n",
              "      <th>3</th>\n",
              "      <td>África do Sul</td>\n",
              "      <td>55.908000</td>\n",
              "      <td>122.1037</td>\n",
              "      <td>62.570473</td>\n",
              "    </tr>\n",
              "    <tr>\n",
              "      <th>236</th>\n",
              "      <td>Tanzânia</td>\n",
              "      <td>55.155000</td>\n",
              "      <td>94.5087</td>\n",
              "      <td>8.708186</td>\n",
              "    </tr>\n",
              "    <tr>\n",
              "      <th>128</th>\n",
              "      <td>Inglaterra</td>\n",
              "      <td>54.786000</td>\n",
              "      <td>13.0395</td>\n",
              "      <td>427.116417</td>\n",
              "    </tr>\n",
              "    <tr>\n",
              "      <th>173</th>\n",
              "      <td>Myanmar</td>\n",
              "      <td>54.363000</td>\n",
              "      <td>67.6578</td>\n",
              "      <td>12.228538</td>\n",
              "    </tr>\n",
              "    <tr>\n",
              "      <th>52</th>\n",
              "      <td>Coreia do Sul</td>\n",
              "      <td>51.446201</td>\n",
              "      <td>9.9720</td>\n",
              "      <td>267.827939</td>\n",
              "    </tr>\n",
              "    <tr>\n",
              "      <th>49</th>\n",
              "      <td>Colômbia</td>\n",
              "      <td>49.131100</td>\n",
              "      <td>113.8914</td>\n",
              "      <td>76.884092</td>\n",
              "    </tr>\n",
              "    <tr>\n",
              "      <th>197</th>\n",
              "      <td>Quênia</td>\n",
              "      <td>47.251000</td>\n",
              "      <td>58.0367</td>\n",
              "      <td>12.896235</td>\n",
              "    </tr>\n",
              "  </tbody>\n",
              "</table>\n",
              "</div>"
            ],
            "text/plain": [
              "                         Territorio    Populacao   Area_Km2  PIB_per_cap\n",
              "47                            China  1382.070000   959.6961    80.737278\n",
              "126                           Índia  1313.250000   328.7590    16.114517\n",
              "70                   Estados Unidos   324.671000   937.1175   555.536158\n",
              "127                       Indonésia   260.581000   190.4569    33.077354\n",
              "32                           Brasil   207.225000   851.5767    85.539438\n",
              "190                       Paquistão   196.635000    88.0940    12.777735\n",
              "179                         Nigéria   186.988000    92.3768    30.402967\n",
              "21                       Bangladesh   162.105000    14.3998    10.675920\n",
              "208                          Rússia   146.838993  1712.4442    90.304079\n",
              "137                           Japão   126.830000    37.7944   345.586691\n",
              "165                          México   122.273000   195.8201    93.293205\n",
              "75                        Filipinas   103.743000    30.0000    28.040061\n",
              "72                          Etiópia   101.853000   110.4300     5.266217\n",
              "255                          Vietnã    92.700000    33.2698    20.086839\n",
              "61                            Egito    92.647200   100.8450    30.464169\n",
              "5                          Alemanha    82.800000    35.7168   406.231884\n",
              "203  República Democrática do Congo    82.243000   234.4858     4.366207\n",
              "129                             Irã    79.980900   164.8195    53.178446\n",
              "246                         Turquia    79.814871    78.3562    89.944016\n",
              "233                       Tailândia    68.147000    51.3115    59.404523\n",
              "77                           França    66.984000    64.0679   361.122805\n",
              "200                     Reino Unido    65.110000    24.3810   438.949931\n",
              "135                          Itália    60.589940    30.1230   300.640667\n",
              "3                     África do Sul    55.908000   122.1037    62.570473\n",
              "236                        Tanzânia    55.155000    94.5087     8.708186\n",
              "128                      Inglaterra    54.786000    13.0395   427.116417\n",
              "173                         Myanmar    54.363000    67.6578    12.228538\n",
              "52                    Coreia do Sul    51.446201     9.9720   267.827939\n",
              "49                         Colômbia    49.131100   113.8914    76.884092\n",
              "197                          Quênia    47.251000    58.0367    12.896235"
            ]
          },
          "metadata": {
            "tags": []
          },
          "execution_count": 167
        }
      ]
    },
    {
      "metadata": {
        "id": "vpHvY2_WYf2M",
        "colab_type": "code",
        "colab": {
          "base_uri": "https://localhost:8080/",
          "height": 691
        },
        "outputId": "f463783a-3f17-4af8-960c-8918f1065d4d"
      },
      "cell_type": "code",
      "source": [
        "# Plot bar grahic with multi columns\n",
        "data_plot = countdata2\n",
        "ax = data_plot.plot(  x='Territorio',\n",
        "                      kind='bar',\n",
        "                      figsize=(13,8),\n",
        "                      grid=True,\n",
        "                      color=(color_list[0], color_list[4],color_list[8]), # One for each column\n",
        "                      fontsize=12)\n",
        "plt.title('Distribution of world population and income',fontsize=20)\n",
        "plt.xlabel('Reference: http://radames.manosso.nom.br/bitabit/planilhas/todos-os-paises-mundo-no-excel/',fontsize=15)\n",
        "plt.ylabel('Score',fontsize=12)\n",
        "# Setup size to legend\n",
        "plt.setp(ax.get_legend().get_texts(), fontsize='12') # for legend text\n",
        "plt.setp(ax.get_legend().get_title(), fontsize='12') # for legend title\n",
        "plt.show()"
      ],
      "execution_count": 170,
      "outputs": [
        {
          "output_type": "display_data",
          "data": {
            "image/png": "[encoded data removed]",
            "text/plain": [
              "<matplotlib.figure.Figure at 0x7f1932b8f438>"
            ]
          },
          "metadata": {
            "tags": []
          }
        }
      ]
    },
    {
      "metadata": {
        "id": "URjBWQGgaRM_",
        "colab_type": "code",
        "colab": {}
      },
      "cell_type": "code",
      "source": [
        ""
      ],
      "execution_count": 0,
      "outputs": []
    }
  ]
}